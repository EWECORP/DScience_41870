{
  "nbformat": 4,
  "nbformat_minor": 0,
  "metadata": {
    "kernelspec": {
      "display_name": "Python 3",
      "language": "python",
      "name": "python3"
    },
    "language_info": {
      "codemirror_mode": {
        "name": "ipython",
        "version": 3
      },
      "file_extension": ".py",
      "mimetype": "text/x-python",
      "name": "python",
      "nbconvert_exporter": "python",
      "pygments_lexer": "ipython3",
      "version": "3.8.5"
    },
    "varInspector": {
      "cols": {
        "lenName": 16,
        "lenType": 16,
        "lenVar": 40
      },
      "kernels_config": {
        "python": {
          "delete_cmd_postfix": "",
          "delete_cmd_prefix": "del ",
          "library": "var_list.py",
          "varRefreshCmd": "print(var_dic_list())"
        },
        "r": {
          "delete_cmd_postfix": ") ",
          "delete_cmd_prefix": "rm(",
          "library": "var_list.r",
          "varRefreshCmd": "cat(var_dic_list()) "
        }
      },
      "types_to_exclude": [
        "module",
        "function",
        "builtin_function_or_method",
        "instance",
        "_Feature"
      ],
      "window_display": false
    },
    "colab": {
      "provenance": [],
      "include_colab_link": true
    }
  },
  "cells": [
    {
      "cell_type": "markdown",
      "metadata": {
        "id": "view-in-github",
        "colab_type": "text"
      },
      "source": [
        "<a href=\"https://colab.research.google.com/github/EWECORP/DScience_41870/blob/main/Desafio_Evaluaci%C3%B3nML_Eduardo_Ettlin.ipynb\" target=\"_parent\"><img src=\"https://colab.research.google.com/assets/colab-badge.svg\" alt=\"Open In Colab\"/></a>"
      ]
    },
    {
      "cell_type": "markdown",
      "source": [
        "![CODERHOUSE.jpg](data:image/jpeg;base64,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)"
      ],
      "metadata": {
        "id": "uV5gCMhieuxX"
      }
    },
    {
      "cell_type": "markdown",
      "source": [
        "# **CURSO DE DATA SCIENCE**\n",
        "\n",
        "# **DESAFIO EVALUACION ML**\n",
        "\n",
        "# **DESAFIO N° 13**\n",
        "\n",
        "*AUTOR:Eduardo ETTLIN\n",
        "*"
      ],
      "metadata": {
        "id": "XMv7Rofhe1fA"
      }
    },
    {
      "cell_type": "code",
      "source": [
        "#Conectamos mi drive\n",
        "from google.colab import drive\n",
        "#Importamos OS\n",
        "import os\n",
        "#Montamos drive\n",
        "drive.mount('/content/gdrive', force_remount=True)\n",
        "# Establecer ruta de acceso en drive\n",
        "import os\n",
        "print(os.getcwd())"
      ],
      "metadata": {
        "colab": {
          "base_uri": "https://localhost:8080/"
        },
        "id": "NkYbjYU8fzpY",
        "outputId": "01d0ed64-b10a-494e-8192-c43e2e58eb1c"
      },
      "execution_count": 1,
      "outputs": [
        {
          "output_type": "stream",
          "name": "stdout",
          "text": [
            "Mounted at /content/gdrive\n",
            "/content\n"
          ]
        }
      ]
    },
    {
      "cell_type": "code",
      "metadata": {
        "id": "8OZK6N3AznyY"
      },
      "source": [
        "# Tratamiento de datos\n",
        "# ==============================================================================\n",
        "import pandas as pd\n",
        "import numpy as np\n",
        "\n",
        "# Preprocesado y modelado\n",
        "# ==============================================================================\n",
        "from sklearn.svm import SVC\n",
        "from sklearn.model_selection import train_test_split\n",
        "from sklearn.metrics import accuracy_score\n",
        "\n",
        "# Configuración warnings\n",
        "# ==============================================================================\n",
        "import warnings\n",
        "warnings.filterwarnings('ignore')"
      ],
      "execution_count": 2,
      "outputs": []
    },
    {
      "cell_type": "code",
      "source": [
        "# Me muevo a la carpeta\n",
        "os.chdir(\"/content/gdrive/MyDrive/DScience_41870\")\n",
        "print(os.getcwd())\n",
        "\n",
        "#Lectura del dataframe\n",
        "datos=pd.read_csv('/content/gdrive/MyDrive/DScience_41870/US_Accidents_Dec21_updated.csv',sep=',',nrows=2845000)  # nrows: 1500000  # Disminuir Tamaño a 1.5 MM (Riginalmente Tiene 2.845.342 registros)"
      ],
      "metadata": {
        "id": "pNxQQFlOf4wj",
        "colab": {
          "base_uri": "https://localhost:8080/"
        },
        "outputId": "6e705990-f221-45ef-a747-72d20d5a2142"
      },
      "execution_count": 4,
      "outputs": [
        {
          "output_type": "stream",
          "name": "stdout",
          "text": [
            "/content/gdrive/MyDrive/DScience_41870\n"
          ]
        }
      ]
    },
    {
      "cell_type": "code",
      "source": [
        "datos.head()"
      ],
      "metadata": {
        "colab": {
          "base_uri": "https://localhost:8080/",
          "height": 464
        },
        "id": "-nvMUBaKjEOs",
        "outputId": "1bbfb5c0-c001-425d-b76a-5bd12fbd6ebc"
      },
      "execution_count": 5,
      "outputs": [
        {
          "output_type": "execute_result",
          "data": {
            "text/plain": [
              "    ID  Severity           Start_Time             End_Time  Start_Lat  \\\n",
              "0  A-1         3  2016-02-08 00:37:08  2016-02-08 06:37:08  40.108910   \n",
              "1  A-2         2  2016-02-08 05:56:20  2016-02-08 11:56:20  39.865420   \n",
              "2  A-3         2  2016-02-08 06:15:39  2016-02-08 12:15:39  39.102660   \n",
              "3  A-4         2  2016-02-08 06:51:45  2016-02-08 12:51:45  41.062130   \n",
              "4  A-5         3  2016-02-08 07:53:43  2016-02-08 13:53:43  39.172393   \n",
              "\n",
              "   Start_Lng    End_Lat    End_Lng  Distance(mi)  \\\n",
              "0 -83.092860  40.112060 -83.031870         3.230   \n",
              "1 -84.062800  39.865010 -84.048730         0.747   \n",
              "2 -84.524680  39.102090 -84.523960         0.055   \n",
              "3 -81.537840  41.062170 -81.535470         0.123   \n",
              "4 -84.492792  39.170476 -84.501798         0.500   \n",
              "\n",
              "                                         Description  ...  Roundabout Station  \\\n",
              "0  Between Sawmill Rd/Exit 20 and OH-315/Olentang...  ...       False   False   \n",
              "1                 At OH-4/OH-235/Exit 41 - Accident.  ...       False   False   \n",
              "2                   At I-71/US-50/Exit 1 - Accident.  ...       False   False   \n",
              "3                    At Dart Ave/Exit 21 - Accident.  ...       False   False   \n",
              "4                 At Mitchell Ave/Exit 6 - Accident.  ...       False   False   \n",
              "\n",
              "    Stop Traffic_Calming Traffic_Signal Turning_Loop Sunrise_Sunset  \\\n",
              "0  False           False          False        False          Night   \n",
              "1  False           False          False        False          Night   \n",
              "2  False           False          False        False          Night   \n",
              "3  False           False          False        False          Night   \n",
              "4  False           False          False        False            Day   \n",
              "\n",
              "  Civil_Twilight Nautical_Twilight Astronomical_Twilight  \n",
              "0          Night             Night                 Night  \n",
              "1          Night             Night                 Night  \n",
              "2          Night             Night                   Day  \n",
              "3          Night               Day                   Day  \n",
              "4            Day               Day                   Day  \n",
              "\n",
              "[5 rows x 47 columns]"
            ],
            "text/html": [
              "\n",
              "  <div id=\"df-63de3b60-087d-46e4-a3bc-4a032b192881\" class=\"colab-df-container\">\n",
              "    <div>\n",
              "<style scoped>\n",
              "    .dataframe tbody tr th:only-of-type {\n",
              "        vertical-align: middle;\n",
              "    }\n",
              "\n",
              "    .dataframe tbody tr th {\n",
              "        vertical-align: top;\n",
              "    }\n",
              "\n",
              "    .dataframe thead th {\n",
              "        text-align: right;\n",
              "    }\n",
              "</style>\n",
              "<table border=\"1\" class=\"dataframe\">\n",
              "  <thead>\n",
              "    <tr style=\"text-align: right;\">\n",
              "      <th></th>\n",
              "      <th>ID</th>\n",
              "      <th>Severity</th>\n",
              "      <th>Start_Time</th>\n",
              "      <th>End_Time</th>\n",
              "      <th>Start_Lat</th>\n",
              "      <th>Start_Lng</th>\n",
              "      <th>End_Lat</th>\n",
              "      <th>End_Lng</th>\n",
              "      <th>Distance(mi)</th>\n",
              "      <th>Description</th>\n",
              "      <th>...</th>\n",
              "      <th>Roundabout</th>\n",
              "      <th>Station</th>\n",
              "      <th>Stop</th>\n",
              "      <th>Traffic_Calming</th>\n",
              "      <th>Traffic_Signal</th>\n",
              "      <th>Turning_Loop</th>\n",
              "      <th>Sunrise_Sunset</th>\n",
              "      <th>Civil_Twilight</th>\n",
              "      <th>Nautical_Twilight</th>\n",
              "      <th>Astronomical_Twilight</th>\n",
              "    </tr>\n",
              "  </thead>\n",
              "  <tbody>\n",
              "    <tr>\n",
              "      <th>0</th>\n",
              "      <td>A-1</td>\n",
              "      <td>3</td>\n",
              "      <td>2016-02-08 00:37:08</td>\n",
              "      <td>2016-02-08 06:37:08</td>\n",
              "      <td>40.108910</td>\n",
              "      <td>-83.092860</td>\n",
              "      <td>40.112060</td>\n",
              "      <td>-83.031870</td>\n",
              "      <td>3.230</td>\n",
              "      <td>Between Sawmill Rd/Exit 20 and OH-315/Olentang...</td>\n",
              "      <td>...</td>\n",
              "      <td>False</td>\n",
              "      <td>False</td>\n",
              "      <td>False</td>\n",
              "      <td>False</td>\n",
              "      <td>False</td>\n",
              "      <td>False</td>\n",
              "      <td>Night</td>\n",
              "      <td>Night</td>\n",
              "      <td>Night</td>\n",
              "      <td>Night</td>\n",
              "    </tr>\n",
              "    <tr>\n",
              "      <th>1</th>\n",
              "      <td>A-2</td>\n",
              "      <td>2</td>\n",
              "      <td>2016-02-08 05:56:20</td>\n",
              "      <td>2016-02-08 11:56:20</td>\n",
              "      <td>39.865420</td>\n",
              "      <td>-84.062800</td>\n",
              "      <td>39.865010</td>\n",
              "      <td>-84.048730</td>\n",
              "      <td>0.747</td>\n",
              "      <td>At OH-4/OH-235/Exit 41 - Accident.</td>\n",
              "      <td>...</td>\n",
              "      <td>False</td>\n",
              "      <td>False</td>\n",
              "      <td>False</td>\n",
              "      <td>False</td>\n",
              "      <td>False</td>\n",
              "      <td>False</td>\n",
              "      <td>Night</td>\n",
              "      <td>Night</td>\n",
              "      <td>Night</td>\n",
              "      <td>Night</td>\n",
              "    </tr>\n",
              "    <tr>\n",
              "      <th>2</th>\n",
              "      <td>A-3</td>\n",
              "      <td>2</td>\n",
              "      <td>2016-02-08 06:15:39</td>\n",
              "      <td>2016-02-08 12:15:39</td>\n",
              "      <td>39.102660</td>\n",
              "      <td>-84.524680</td>\n",
              "      <td>39.102090</td>\n",
              "      <td>-84.523960</td>\n",
              "      <td>0.055</td>\n",
              "      <td>At I-71/US-50/Exit 1 - Accident.</td>\n",
              "      <td>...</td>\n",
              "      <td>False</td>\n",
              "      <td>False</td>\n",
              "      <td>False</td>\n",
              "      <td>False</td>\n",
              "      <td>False</td>\n",
              "      <td>False</td>\n",
              "      <td>Night</td>\n",
              "      <td>Night</td>\n",
              "      <td>Night</td>\n",
              "      <td>Day</td>\n",
              "    </tr>\n",
              "    <tr>\n",
              "      <th>3</th>\n",
              "      <td>A-4</td>\n",
              "      <td>2</td>\n",
              "      <td>2016-02-08 06:51:45</td>\n",
              "      <td>2016-02-08 12:51:45</td>\n",
              "      <td>41.062130</td>\n",
              "      <td>-81.537840</td>\n",
              "      <td>41.062170</td>\n",
              "      <td>-81.535470</td>\n",
              "      <td>0.123</td>\n",
              "      <td>At Dart Ave/Exit 21 - Accident.</td>\n",
              "      <td>...</td>\n",
              "      <td>False</td>\n",
              "      <td>False</td>\n",
              "      <td>False</td>\n",
              "      <td>False</td>\n",
              "      <td>False</td>\n",
              "      <td>False</td>\n",
              "      <td>Night</td>\n",
              "      <td>Night</td>\n",
              "      <td>Day</td>\n",
              "      <td>Day</td>\n",
              "    </tr>\n",
              "    <tr>\n",
              "      <th>4</th>\n",
              "      <td>A-5</td>\n",
              "      <td>3</td>\n",
              "      <td>2016-02-08 07:53:43</td>\n",
              "      <td>2016-02-08 13:53:43</td>\n",
              "      <td>39.172393</td>\n",
              "      <td>-84.492792</td>\n",
              "      <td>39.170476</td>\n",
              "      <td>-84.501798</td>\n",
              "      <td>0.500</td>\n",
              "      <td>At Mitchell Ave/Exit 6 - Accident.</td>\n",
              "      <td>...</td>\n",
              "      <td>False</td>\n",
              "      <td>False</td>\n",
              "      <td>False</td>\n",
              "      <td>False</td>\n",
              "      <td>False</td>\n",
              "      <td>False</td>\n",
              "      <td>Day</td>\n",
              "      <td>Day</td>\n",
              "      <td>Day</td>\n",
              "      <td>Day</td>\n",
              "    </tr>\n",
              "  </tbody>\n",
              "</table>\n",
              "<p>5 rows × 47 columns</p>\n",
              "</div>\n",
              "    <div class=\"colab-df-buttons\">\n",
              "\n",
              "  <div class=\"colab-df-container\">\n",
              "    <button class=\"colab-df-convert\" onclick=\"convertToInteractive('df-63de3b60-087d-46e4-a3bc-4a032b192881')\"\n",
              "            title=\"Convert this dataframe to an interactive table.\"\n",
              "            style=\"display:none;\">\n",
              "\n",
              "  <svg xmlns=\"http://www.w3.org/2000/svg\" height=\"24px\" viewBox=\"0 -960 960 960\">\n",
              "    <path d=\"M120-120v-720h720v720H120Zm60-500h600v-160H180v160Zm220 220h160v-160H400v160Zm0 220h160v-160H400v160ZM180-400h160v-160H180v160Zm440 0h160v-160H620v160ZM180-180h160v-160H180v160Zm440 0h160v-160H620v160Z\"/>\n",
              "  </svg>\n",
              "    </button>\n",
              "\n",
              "  <style>\n",
              "    .colab-df-container {\n",
              "      display:flex;\n",
              "      gap: 12px;\n",
              "    }\n",
              "\n",
              "    .colab-df-convert {\n",
              "      background-color: #E8F0FE;\n",
              "      border: none;\n",
              "      border-radius: 50%;\n",
              "      cursor: pointer;\n",
              "      display: none;\n",
              "      fill: #1967D2;\n",
              "      height: 32px;\n",
              "      padding: 0 0 0 0;\n",
              "      width: 32px;\n",
              "    }\n",
              "\n",
              "    .colab-df-convert:hover {\n",
              "      background-color: #E2EBFA;\n",
              "      box-shadow: 0px 1px 2px rgba(60, 64, 67, 0.3), 0px 1px 3px 1px rgba(60, 64, 67, 0.15);\n",
              "      fill: #174EA6;\n",
              "    }\n",
              "\n",
              "    .colab-df-buttons div {\n",
              "      margin-bottom: 4px;\n",
              "    }\n",
              "\n",
              "    [theme=dark] .colab-df-convert {\n",
              "      background-color: #3B4455;\n",
              "      fill: #D2E3FC;\n",
              "    }\n",
              "\n",
              "    [theme=dark] .colab-df-convert:hover {\n",
              "      background-color: #434B5C;\n",
              "      box-shadow: 0px 1px 3px 1px rgba(0, 0, 0, 0.15);\n",
              "      filter: drop-shadow(0px 1px 2px rgba(0, 0, 0, 0.3));\n",
              "      fill: #FFFFFF;\n",
              "    }\n",
              "  </style>\n",
              "\n",
              "    <script>\n",
              "      const buttonEl =\n",
              "        document.querySelector('#df-63de3b60-087d-46e4-a3bc-4a032b192881 button.colab-df-convert');\n",
              "      buttonEl.style.display =\n",
              "        google.colab.kernel.accessAllowed ? 'block' : 'none';\n",
              "\n",
              "      async function convertToInteractive(key) {\n",
              "        const element = document.querySelector('#df-63de3b60-087d-46e4-a3bc-4a032b192881');\n",
              "        const dataTable =\n",
              "          await google.colab.kernel.invokeFunction('convertToInteractive',\n",
              "                                                    [key], {});\n",
              "        if (!dataTable) return;\n",
              "\n",
              "        const docLinkHtml = 'Like what you see? Visit the ' +\n",
              "          '<a target=\"_blank\" href=https://colab.research.google.com/notebooks/data_table.ipynb>data table notebook</a>'\n",
              "          + ' to learn more about interactive tables.';\n",
              "        element.innerHTML = '';\n",
              "        dataTable['output_type'] = 'display_data';\n",
              "        await google.colab.output.renderOutput(dataTable, element);\n",
              "        const docLink = document.createElement('div');\n",
              "        docLink.innerHTML = docLinkHtml;\n",
              "        element.appendChild(docLink);\n",
              "      }\n",
              "    </script>\n",
              "  </div>\n",
              "\n",
              "\n",
              "<div id=\"df-db840009-4a8e-415e-8fcf-d0c672def92f\">\n",
              "  <button class=\"colab-df-quickchart\" onclick=\"quickchart('df-db840009-4a8e-415e-8fcf-d0c672def92f')\"\n",
              "            title=\"Suggest charts.\"\n",
              "            style=\"display:none;\">\n",
              "\n",
              "<svg xmlns=\"http://www.w3.org/2000/svg\" height=\"24px\"viewBox=\"0 0 24 24\"\n",
              "     width=\"24px\">\n",
              "    <g>\n",
              "        <path d=\"M19 3H5c-1.1 0-2 .9-2 2v14c0 1.1.9 2 2 2h14c1.1 0 2-.9 2-2V5c0-1.1-.9-2-2-2zM9 17H7v-7h2v7zm4 0h-2V7h2v10zm4 0h-2v-4h2v4z\"/>\n",
              "    </g>\n",
              "</svg>\n",
              "  </button>\n",
              "\n",
              "<style>\n",
              "  .colab-df-quickchart {\n",
              "      --bg-color: #E8F0FE;\n",
              "      --fill-color: #1967D2;\n",
              "      --hover-bg-color: #E2EBFA;\n",
              "      --hover-fill-color: #174EA6;\n",
              "      --disabled-fill-color: #AAA;\n",
              "      --disabled-bg-color: #DDD;\n",
              "  }\n",
              "\n",
              "  [theme=dark] .colab-df-quickchart {\n",
              "      --bg-color: #3B4455;\n",
              "      --fill-color: #D2E3FC;\n",
              "      --hover-bg-color: #434B5C;\n",
              "      --hover-fill-color: #FFFFFF;\n",
              "      --disabled-bg-color: #3B4455;\n",
              "      --disabled-fill-color: #666;\n",
              "  }\n",
              "\n",
              "  .colab-df-quickchart {\n",
              "    background-color: var(--bg-color);\n",
              "    border: none;\n",
              "    border-radius: 50%;\n",
              "    cursor: pointer;\n",
              "    display: none;\n",
              "    fill: var(--fill-color);\n",
              "    height: 32px;\n",
              "    padding: 0;\n",
              "    width: 32px;\n",
              "  }\n",
              "\n",
              "  .colab-df-quickchart:hover {\n",
              "    background-color: var(--hover-bg-color);\n",
              "    box-shadow: 0 1px 2px rgba(60, 64, 67, 0.3), 0 1px 3px 1px rgba(60, 64, 67, 0.15);\n",
              "    fill: var(--button-hover-fill-color);\n",
              "  }\n",
              "\n",
              "  .colab-df-quickchart-complete:disabled,\n",
              "  .colab-df-quickchart-complete:disabled:hover {\n",
              "    background-color: var(--disabled-bg-color);\n",
              "    fill: var(--disabled-fill-color);\n",
              "    box-shadow: none;\n",
              "  }\n",
              "\n",
              "  .colab-df-spinner {\n",
              "    border: 2px solid var(--fill-color);\n",
              "    border-color: transparent;\n",
              "    border-bottom-color: var(--fill-color);\n",
              "    animation:\n",
              "      spin 1s steps(1) infinite;\n",
              "  }\n",
              "\n",
              "  @keyframes spin {\n",
              "    0% {\n",
              "      border-color: transparent;\n",
              "      border-bottom-color: var(--fill-color);\n",
              "      border-left-color: var(--fill-color);\n",
              "    }\n",
              "    20% {\n",
              "      border-color: transparent;\n",
              "      border-left-color: var(--fill-color);\n",
              "      border-top-color: var(--fill-color);\n",
              "    }\n",
              "    30% {\n",
              "      border-color: transparent;\n",
              "      border-left-color: var(--fill-color);\n",
              "      border-top-color: var(--fill-color);\n",
              "      border-right-color: var(--fill-color);\n",
              "    }\n",
              "    40% {\n",
              "      border-color: transparent;\n",
              "      border-right-color: var(--fill-color);\n",
              "      border-top-color: var(--fill-color);\n",
              "    }\n",
              "    60% {\n",
              "      border-color: transparent;\n",
              "      border-right-color: var(--fill-color);\n",
              "    }\n",
              "    80% {\n",
              "      border-color: transparent;\n",
              "      border-right-color: var(--fill-color);\n",
              "      border-bottom-color: var(--fill-color);\n",
              "    }\n",
              "    90% {\n",
              "      border-color: transparent;\n",
              "      border-bottom-color: var(--fill-color);\n",
              "    }\n",
              "  }\n",
              "</style>\n",
              "\n",
              "  <script>\n",
              "    async function quickchart(key) {\n",
              "      const quickchartButtonEl =\n",
              "        document.querySelector('#' + key + ' button');\n",
              "      quickchartButtonEl.disabled = true;  // To prevent multiple clicks.\n",
              "      quickchartButtonEl.classList.add('colab-df-spinner');\n",
              "      try {\n",
              "        const charts = await google.colab.kernel.invokeFunction(\n",
              "            'suggestCharts', [key], {});\n",
              "      } catch (error) {\n",
              "        console.error('Error during call to suggestCharts:', error);\n",
              "      }\n",
              "      quickchartButtonEl.classList.remove('colab-df-spinner');\n",
              "      quickchartButtonEl.classList.add('colab-df-quickchart-complete');\n",
              "    }\n",
              "    (() => {\n",
              "      let quickchartButtonEl =\n",
              "        document.querySelector('#df-db840009-4a8e-415e-8fcf-d0c672def92f button');\n",
              "      quickchartButtonEl.style.display =\n",
              "        google.colab.kernel.accessAllowed ? 'block' : 'none';\n",
              "    })();\n",
              "  </script>\n",
              "</div>\n",
              "    </div>\n",
              "  </div>\n"
            ]
          },
          "metadata": {},
          "execution_count": 5
        }
      ]
    },
    {
      "cell_type": "markdown",
      "metadata": {
        "id": "lpTVgc_LHCKL"
      },
      "source": [
        "![image.png](data:image/png;base64,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)"
      ]
    },
    {
      "cell_type": "markdown",
      "source": [
        "# REDUCCIÓN DEL DATASET - Es Muy Grande para PROCESARLO\n",
        "\n",
        "Se utilizara la función sample para muestrear todo el DataSet."
      ],
      "metadata": {
        "id": "86gBXEuJsitd"
      }
    },
    {
      "cell_type": "code",
      "source": [
        "df= datos.sample(50000)   # Achicar el Set de Datos porque no alcanza a calcular."
      ],
      "metadata": {
        "id": "MVtv8XRAs-bS"
      },
      "execution_count": 6,
      "outputs": []
    },
    {
      "cell_type": "code",
      "source": [
        "df.Severity.unique()"
      ],
      "metadata": {
        "colab": {
          "base_uri": "https://localhost:8080/"
        },
        "id": "kdw6-YwdjW_A",
        "outputId": "b5b05e36-3009-4e42-ab19-0eb49844640a"
      },
      "execution_count": 7,
      "outputs": [
        {
          "output_type": "execute_result",
          "data": {
            "text/plain": [
              "array([4, 3, 2, 1])"
            ]
          },
          "metadata": {},
          "execution_count": 7
        }
      ]
    },
    {
      "cell_type": "code",
      "source": [
        "df.shape"
      ],
      "metadata": {
        "colab": {
          "base_uri": "https://localhost:8080/"
        },
        "id": "4njgaLowjgEY",
        "outputId": "65251acc-1d0b-41f0-c633-561d7e0c0b67"
      },
      "execution_count": 8,
      "outputs": [
        {
          "output_type": "execute_result",
          "data": {
            "text/plain": [
              "(50000, 47)"
            ]
          },
          "metadata": {},
          "execution_count": 8
        }
      ]
    },
    {
      "cell_type": "code",
      "source": [
        "#Visualizacion!\n",
        "import matplotlib.pyplot as plt\n",
        "fig, ax = plt.subplots(figsize=(6,4))\n",
        "ax.scatter(df['Wind_Chill(F)'], df['Temperature(F)'], c=df.Severity);\n",
        "ax.set_title(\"Datos\");"
      ],
      "metadata": {
        "id": "bGas06d8jnzM",
        "colab": {
          "base_uri": "https://localhost:8080/",
          "height": 391
        },
        "outputId": "592f7110-93a7-4398-889b-64c1c85e42e1"
      },
      "execution_count": 9,
      "outputs": [
        {
          "output_type": "display_data",
          "data": {
            "text/plain": [
              "<Figure size 600x400 with 1 Axes>"
            ],
            "image/png": "[encoded data removed]"
          },
          "metadata": {}
        }
      ]
    },
    {
      "cell_type": "markdown",
      "source": [],
      "metadata": {
        "id": "jJbjgdCuetR2"
      }
    },
    {
      "cell_type": "code",
      "source": [
        "X = df.fillna(0, inplace=True)"
      ],
      "metadata": {
        "id": "3EmZXhvwqWrG"
      },
      "execution_count": 10,
      "outputs": []
    },
    {
      "cell_type": "code",
      "source": [
        "# División de los datos en train y test\n",
        "X = df.drop(columns = ['ID', 'Severity', 'Start_Time', 'End_Time', 'Start_Lat', 'Start_Lng',\n",
        "       'End_Lat', 'End_Lng', 'Distance(mi)', 'Description', 'Number', 'Street',\n",
        "       'Side', 'City', 'County', 'State', 'Zipcode', 'Country', 'Timezone',\n",
        "       'Airport_Code', 'Weather_Timestamp','Humidity(%)', 'Pressure(in)', 'Visibility(mi)', 'Wind_Direction',\n",
        "       'Wind_Speed(mph)', 'Precipitation(in)', 'Weather_Condition', 'Amenity',\n",
        "       'Give_Way', 'Junction', 'No_Exit','Roundabout',  'Stop',\n",
        "       'Turning_Loop', 'Sunrise_Sunset', 'Civil_Twilight', 'Nautical_Twilight',\n",
        "       'Astronomical_Twilight',\n",
        "       'Traffic_Calming', 'Traffic_Signal','Railway','Crossing', 'Station', 'Bump'], axis= 1) # Matriz de 2 columnas -Variable Independientes   'Temperature(F)', 'Wind_Chill(F)'\n",
        "y = df['Severity'] # Vector de 200 filas y 1 columa- Variable Dependiente"
      ],
      "metadata": {
        "id": "bhUW17QylhS1"
      },
      "execution_count": 11,
      "outputs": []
    },
    {
      "cell_type": "code",
      "metadata": {
        "colab": {
          "base_uri": "https://localhost:8080/",
          "height": 424
        },
        "id": "I5_2wBVV0EY_",
        "outputId": "c1ac2257-db90-4822-ad15-7880a22ee787"
      },
      "source": [
        "X"
      ],
      "execution_count": 12,
      "outputs": [
        {
          "output_type": "execute_result",
          "data": {
            "text/plain": [
              "         Temperature(F)  Wind_Chill(F)\n",
              "2623549            56.7            0.0\n",
              "2816530            74.0           74.0\n",
              "736928             54.0           54.0\n",
              "1016780            79.0           79.0\n",
              "2039914            50.0           50.0\n",
              "...                 ...            ...\n",
              "593886             69.0           69.0\n",
              "2170714            72.0           72.0\n",
              "526345             40.0           40.0\n",
              "415273             81.0           81.0\n",
              "302079             83.0           83.0\n",
              "\n",
              "[50000 rows x 2 columns]"
            ],
            "text/html": [
              "\n",
              "  <div id=\"df-56a6dedf-62b9-4900-988f-36678b8d6046\" class=\"colab-df-container\">\n",
              "    <div>\n",
              "<style scoped>\n",
              "    .dataframe tbody tr th:only-of-type {\n",
              "        vertical-align: middle;\n",
              "    }\n",
              "\n",
              "    .dataframe tbody tr th {\n",
              "        vertical-align: top;\n",
              "    }\n",
              "\n",
              "    .dataframe thead th {\n",
              "        text-align: right;\n",
              "    }\n",
              "</style>\n",
              "<table border=\"1\" class=\"dataframe\">\n",
              "  <thead>\n",
              "    <tr style=\"text-align: right;\">\n",
              "      <th></th>\n",
              "      <th>Temperature(F)</th>\n",
              "      <th>Wind_Chill(F)</th>\n",
              "    </tr>\n",
              "  </thead>\n",
              "  <tbody>\n",
              "    <tr>\n",
              "      <th>2623549</th>\n",
              "      <td>56.7</td>\n",
              "      <td>0.0</td>\n",
              "    </tr>\n",
              "    <tr>\n",
              "      <th>2816530</th>\n",
              "      <td>74.0</td>\n",
              "      <td>74.0</td>\n",
              "    </tr>\n",
              "    <tr>\n",
              "      <th>736928</th>\n",
              "      <td>54.0</td>\n",
              "      <td>54.0</td>\n",
              "    </tr>\n",
              "    <tr>\n",
              "      <th>1016780</th>\n",
              "      <td>79.0</td>\n",
              "      <td>79.0</td>\n",
              "    </tr>\n",
              "    <tr>\n",
              "      <th>2039914</th>\n",
              "      <td>50.0</td>\n",
              "      <td>50.0</td>\n",
              "    </tr>\n",
              "    <tr>\n",
              "      <th>...</th>\n",
              "      <td>...</td>\n",
              "      <td>...</td>\n",
              "    </tr>\n",
              "    <tr>\n",
              "      <th>593886</th>\n",
              "      <td>69.0</td>\n",
              "      <td>69.0</td>\n",
              "    </tr>\n",
              "    <tr>\n",
              "      <th>2170714</th>\n",
              "      <td>72.0</td>\n",
              "      <td>72.0</td>\n",
              "    </tr>\n",
              "    <tr>\n",
              "      <th>526345</th>\n",
              "      <td>40.0</td>\n",
              "      <td>40.0</td>\n",
              "    </tr>\n",
              "    <tr>\n",
              "      <th>415273</th>\n",
              "      <td>81.0</td>\n",
              "      <td>81.0</td>\n",
              "    </tr>\n",
              "    <tr>\n",
              "      <th>302079</th>\n",
              "      <td>83.0</td>\n",
              "      <td>83.0</td>\n",
              "    </tr>\n",
              "  </tbody>\n",
              "</table>\n",
              "<p>50000 rows × 2 columns</p>\n",
              "</div>\n",
              "    <div class=\"colab-df-buttons\">\n",
              "\n",
              "  <div class=\"colab-df-container\">\n",
              "    <button class=\"colab-df-convert\" onclick=\"convertToInteractive('df-56a6dedf-62b9-4900-988f-36678b8d6046')\"\n",
              "            title=\"Convert this dataframe to an interactive table.\"\n",
              "            style=\"display:none;\">\n",
              "\n",
              "  <svg xmlns=\"http://www.w3.org/2000/svg\" height=\"24px\" viewBox=\"0 -960 960 960\">\n",
              "    <path d=\"M120-120v-720h720v720H120Zm60-500h600v-160H180v160Zm220 220h160v-160H400v160Zm0 220h160v-160H400v160ZM180-400h160v-160H180v160Zm440 0h160v-160H620v160ZM180-180h160v-160H180v160Zm440 0h160v-160H620v160Z\"/>\n",
              "  </svg>\n",
              "    </button>\n",
              "\n",
              "  <style>\n",
              "    .colab-df-container {\n",
              "      display:flex;\n",
              "      gap: 12px;\n",
              "    }\n",
              "\n",
              "    .colab-df-convert {\n",
              "      background-color: #E8F0FE;\n",
              "      border: none;\n",
              "      border-radius: 50%;\n",
              "      cursor: pointer;\n",
              "      display: none;\n",
              "      fill: #1967D2;\n",
              "      height: 32px;\n",
              "      padding: 0 0 0 0;\n",
              "      width: 32px;\n",
              "    }\n",
              "\n",
              "    .colab-df-convert:hover {\n",
              "      background-color: #E2EBFA;\n",
              "      box-shadow: 0px 1px 2px rgba(60, 64, 67, 0.3), 0px 1px 3px 1px rgba(60, 64, 67, 0.15);\n",
              "      fill: #174EA6;\n",
              "    }\n",
              "\n",
              "    .colab-df-buttons div {\n",
              "      margin-bottom: 4px;\n",
              "    }\n",
              "\n",
              "    [theme=dark] .colab-df-convert {\n",
              "      background-color: #3B4455;\n",
              "      fill: #D2E3FC;\n",
              "    }\n",
              "\n",
              "    [theme=dark] .colab-df-convert:hover {\n",
              "      background-color: #434B5C;\n",
              "      box-shadow: 0px 1px 3px 1px rgba(0, 0, 0, 0.15);\n",
              "      filter: drop-shadow(0px 1px 2px rgba(0, 0, 0, 0.3));\n",
              "      fill: #FFFFFF;\n",
              "    }\n",
              "  </style>\n",
              "\n",
              "    <script>\n",
              "      const buttonEl =\n",
              "        document.querySelector('#df-56a6dedf-62b9-4900-988f-36678b8d6046 button.colab-df-convert');\n",
              "      buttonEl.style.display =\n",
              "        google.colab.kernel.accessAllowed ? 'block' : 'none';\n",
              "\n",
              "      async function convertToInteractive(key) {\n",
              "        const element = document.querySelector('#df-56a6dedf-62b9-4900-988f-36678b8d6046');\n",
              "        const dataTable =\n",
              "          await google.colab.kernel.invokeFunction('convertToInteractive',\n",
              "                                                    [key], {});\n",
              "        if (!dataTable) return;\n",
              "\n",
              "        const docLinkHtml = 'Like what you see? Visit the ' +\n",
              "          '<a target=\"_blank\" href=https://colab.research.google.com/notebooks/data_table.ipynb>data table notebook</a>'\n",
              "          + ' to learn more about interactive tables.';\n",
              "        element.innerHTML = '';\n",
              "        dataTable['output_type'] = 'display_data';\n",
              "        await google.colab.output.renderOutput(dataTable, element);\n",
              "        const docLink = document.createElement('div');\n",
              "        docLink.innerHTML = docLinkHtml;\n",
              "        element.appendChild(docLink);\n",
              "      }\n",
              "    </script>\n",
              "  </div>\n",
              "\n",
              "\n",
              "<div id=\"df-fe59cfdf-bfc0-4fa0-bbdd-da78c021d704\">\n",
              "  <button class=\"colab-df-quickchart\" onclick=\"quickchart('df-fe59cfdf-bfc0-4fa0-bbdd-da78c021d704')\"\n",
              "            title=\"Suggest charts.\"\n",
              "            style=\"display:none;\">\n",
              "\n",
              "<svg xmlns=\"http://www.w3.org/2000/svg\" height=\"24px\"viewBox=\"0 0 24 24\"\n",
              "     width=\"24px\">\n",
              "    <g>\n",
              "        <path d=\"M19 3H5c-1.1 0-2 .9-2 2v14c0 1.1.9 2 2 2h14c1.1 0 2-.9 2-2V5c0-1.1-.9-2-2-2zM9 17H7v-7h2v7zm4 0h-2V7h2v10zm4 0h-2v-4h2v4z\"/>\n",
              "    </g>\n",
              "</svg>\n",
              "  </button>\n",
              "\n",
              "<style>\n",
              "  .colab-df-quickchart {\n",
              "      --bg-color: #E8F0FE;\n",
              "      --fill-color: #1967D2;\n",
              "      --hover-bg-color: #E2EBFA;\n",
              "      --hover-fill-color: #174EA6;\n",
              "      --disabled-fill-color: #AAA;\n",
              "      --disabled-bg-color: #DDD;\n",
              "  }\n",
              "\n",
              "  [theme=dark] .colab-df-quickchart {\n",
              "      --bg-color: #3B4455;\n",
              "      --fill-color: #D2E3FC;\n",
              "      --hover-bg-color: #434B5C;\n",
              "      --hover-fill-color: #FFFFFF;\n",
              "      --disabled-bg-color: #3B4455;\n",
              "      --disabled-fill-color: #666;\n",
              "  }\n",
              "\n",
              "  .colab-df-quickchart {\n",
              "    background-color: var(--bg-color);\n",
              "    border: none;\n",
              "    border-radius: 50%;\n",
              "    cursor: pointer;\n",
              "    display: none;\n",
              "    fill: var(--fill-color);\n",
              "    height: 32px;\n",
              "    padding: 0;\n",
              "    width: 32px;\n",
              "  }\n",
              "\n",
              "  .colab-df-quickchart:hover {\n",
              "    background-color: var(--hover-bg-color);\n",
              "    box-shadow: 0 1px 2px rgba(60, 64, 67, 0.3), 0 1px 3px 1px rgba(60, 64, 67, 0.15);\n",
              "    fill: var(--button-hover-fill-color);\n",
              "  }\n",
              "\n",
              "  .colab-df-quickchart-complete:disabled,\n",
              "  .colab-df-quickchart-complete:disabled:hover {\n",
              "    background-color: var(--disabled-bg-color);\n",
              "    fill: var(--disabled-fill-color);\n",
              "    box-shadow: none;\n",
              "  }\n",
              "\n",
              "  .colab-df-spinner {\n",
              "    border: 2px solid var(--fill-color);\n",
              "    border-color: transparent;\n",
              "    border-bottom-color: var(--fill-color);\n",
              "    animation:\n",
              "      spin 1s steps(1) infinite;\n",
              "  }\n",
              "\n",
              "  @keyframes spin {\n",
              "    0% {\n",
              "      border-color: transparent;\n",
              "      border-bottom-color: var(--fill-color);\n",
              "      border-left-color: var(--fill-color);\n",
              "    }\n",
              "    20% {\n",
              "      border-color: transparent;\n",
              "      border-left-color: var(--fill-color);\n",
              "      border-top-color: var(--fill-color);\n",
              "    }\n",
              "    30% {\n",
              "      border-color: transparent;\n",
              "      border-left-color: var(--fill-color);\n",
              "      border-top-color: var(--fill-color);\n",
              "      border-right-color: var(--fill-color);\n",
              "    }\n",
              "    40% {\n",
              "      border-color: transparent;\n",
              "      border-right-color: var(--fill-color);\n",
              "      border-top-color: var(--fill-color);\n",
              "    }\n",
              "    60% {\n",
              "      border-color: transparent;\n",
              "      border-right-color: var(--fill-color);\n",
              "    }\n",
              "    80% {\n",
              "      border-color: transparent;\n",
              "      border-right-color: var(--fill-color);\n",
              "      border-bottom-color: var(--fill-color);\n",
              "    }\n",
              "    90% {\n",
              "      border-color: transparent;\n",
              "      border-bottom-color: var(--fill-color);\n",
              "    }\n",
              "  }\n",
              "</style>\n",
              "\n",
              "  <script>\n",
              "    async function quickchart(key) {\n",
              "      const quickchartButtonEl =\n",
              "        document.querySelector('#' + key + ' button');\n",
              "      quickchartButtonEl.disabled = true;  // To prevent multiple clicks.\n",
              "      quickchartButtonEl.classList.add('colab-df-spinner');\n",
              "      try {\n",
              "        const charts = await google.colab.kernel.invokeFunction(\n",
              "            'suggestCharts', [key], {});\n",
              "      } catch (error) {\n",
              "        console.error('Error during call to suggestCharts:', error);\n",
              "      }\n",
              "      quickchartButtonEl.classList.remove('colab-df-spinner');\n",
              "      quickchartButtonEl.classList.add('colab-df-quickchart-complete');\n",
              "    }\n",
              "    (() => {\n",
              "      let quickchartButtonEl =\n",
              "        document.querySelector('#df-fe59cfdf-bfc0-4fa0-bbdd-da78c021d704 button');\n",
              "      quickchartButtonEl.style.display =\n",
              "        google.colab.kernel.accessAllowed ? 'block' : 'none';\n",
              "    })();\n",
              "  </script>\n",
              "</div>\n",
              "    </div>\n",
              "  </div>\n"
            ]
          },
          "metadata": {},
          "execution_count": 12
        }
      ]
    },
    {
      "cell_type": "code",
      "metadata": {
        "colab": {
          "base_uri": "https://localhost:8080/"
        },
        "id": "m8qqMNpCZ7d-",
        "outputId": "2df668d5-c42e-447e-a4ac-c1c97a0e202a"
      },
      "source": [
        "y"
      ],
      "execution_count": 13,
      "outputs": [
        {
          "output_type": "execute_result",
          "data": {
            "text/plain": [
              "2623549    4\n",
              "2816530    3\n",
              "736928     2\n",
              "1016780    2\n",
              "2039914    2\n",
              "          ..\n",
              "593886     2\n",
              "2170714    2\n",
              "526345     2\n",
              "415273     2\n",
              "302079     2\n",
              "Name: Severity, Length: 50000, dtype: int64"
            ]
          },
          "metadata": {},
          "execution_count": 13
        }
      ]
    },
    {
      "cell_type": "code",
      "metadata": {
        "colab": {
          "base_uri": "https://localhost:8080/"
        },
        "id": "ubJqL1C-0GhA",
        "outputId": "e6e6ce61-0134-44a6-b8ee-632375dfc5db"
      },
      "source": [
        " y.values.reshape(-1,1)"
      ],
      "execution_count": 14,
      "outputs": [
        {
          "output_type": "execute_result",
          "data": {
            "text/plain": [
              "array([[4],\n",
              "       [3],\n",
              "       [2],\n",
              "       ...,\n",
              "       [2],\n",
              "       [2],\n",
              "       [2]])"
            ]
          },
          "metadata": {},
          "execution_count": 14
        }
      ]
    },
    {
      "cell_type": "code",
      "metadata": {
        "id": "omC5aTL1znyf"
      },
      "source": [
        "X_train, X_test, y_train, y_test = train_test_split(X,y.values.reshape(-1,1),train_size= 0.75,\\\n",
        "                                                    random_state = 42,shuffle=True)"
      ],
      "execution_count": 15,
      "outputs": []
    },
    {
      "cell_type": "markdown",
      "metadata": {
        "id": "yRKyEsFSHK58"
      },
      "source": [
        "**gamma** es un parámetro para hiperplanos no lineales. Cuanto mayor sea el valor de gamma, intentará ajustarse exactamente al conjunto de datos de entrenamiento.\n",
        "\n",
        "**C** es el parámetro de penalización del término de error. Controla el equilibrio entre un límite de decisión uniforme y la clasificación correcta de los puntos de entrenamiento."
      ]
    },
    {
      "cell_type": "code",
      "source": [
        "SVC?"
      ],
      "metadata": {
        "id": "OLqC1EhO7xdY"
      },
      "execution_count": 16,
      "outputs": []
    },
    {
      "cell_type": "code",
      "metadata": {
        "colab": {
          "base_uri": "https://localhost:8080/",
          "height": 92
        },
        "id": "gnMyH6yyznyh",
        "outputId": "972e26d4-f29a-4131-d602-2b8298f12143"
      },
      "source": [
        "# Creación del modelo SVM\n",
        "modelo = SVC(C=0.1,kernel='sigmoid',random_state=42, verbose= True)\n",
        "modelo.fit(X_train, y_train)"
      ],
      "execution_count": 17,
      "outputs": [
        {
          "output_type": "stream",
          "name": "stdout",
          "text": [
            "[LibSVM]"
          ]
        },
        {
          "output_type": "execute_result",
          "data": {
            "text/plain": [
              "SVC(C=0.1, kernel='sigmoid', random_state=42, verbose=True)"
            ],
            "text/html": [
              "<style>#sk-container-id-1 {color: black;background-color: white;}#sk-container-id-1 pre{padding: 0;}#sk-container-id-1 div.sk-toggleable {background-color: white;}#sk-container-id-1 label.sk-toggleable__label {cursor: pointer;display: block;width: 100%;margin-bottom: 0;padding: 0.3em;box-sizing: border-box;text-align: center;}#sk-container-id-1 label.sk-toggleable__label-arrow:before {content: \"▸\";float: left;margin-right: 0.25em;color: #696969;}#sk-container-id-1 label.sk-toggleable__label-arrow:hover:before {color: black;}#sk-container-id-1 div.sk-estimator:hover label.sk-toggleable__label-arrow:before {color: black;}#sk-container-id-1 div.sk-toggleable__content {max-height: 0;max-width: 0;overflow: hidden;text-align: left;background-color: #f0f8ff;}#sk-container-id-1 div.sk-toggleable__content pre {margin: 0.2em;color: black;border-radius: 0.25em;background-color: #f0f8ff;}#sk-container-id-1 input.sk-toggleable__control:checked~div.sk-toggleable__content {max-height: 200px;max-width: 100%;overflow: auto;}#sk-container-id-1 input.sk-toggleable__control:checked~label.sk-toggleable__label-arrow:before {content: \"▾\";}#sk-container-id-1 div.sk-estimator input.sk-toggleable__control:checked~label.sk-toggleable__label {background-color: #d4ebff;}#sk-container-id-1 div.sk-label input.sk-toggleable__control:checked~label.sk-toggleable__label {background-color: #d4ebff;}#sk-container-id-1 input.sk-hidden--visually {border: 0;clip: rect(1px 1px 1px 1px);clip: rect(1px, 1px, 1px, 1px);height: 1px;margin: -1px;overflow: hidden;padding: 0;position: absolute;width: 1px;}#sk-container-id-1 div.sk-estimator {font-family: monospace;background-color: #f0f8ff;border: 1px dotted black;border-radius: 0.25em;box-sizing: border-box;margin-bottom: 0.5em;}#sk-container-id-1 div.sk-estimator:hover {background-color: #d4ebff;}#sk-container-id-1 div.sk-parallel-item::after {content: \"\";width: 100%;border-bottom: 1px solid gray;flex-grow: 1;}#sk-container-id-1 div.sk-label:hover label.sk-toggleable__label {background-color: #d4ebff;}#sk-container-id-1 div.sk-serial::before {content: \"\";position: absolute;border-left: 1px solid gray;box-sizing: border-box;top: 0;bottom: 0;left: 50%;z-index: 0;}#sk-container-id-1 div.sk-serial {display: flex;flex-direction: column;align-items: center;background-color: white;padding-right: 0.2em;padding-left: 0.2em;position: relative;}#sk-container-id-1 div.sk-item {position: relative;z-index: 1;}#sk-container-id-1 div.sk-parallel {display: flex;align-items: stretch;justify-content: center;background-color: white;position: relative;}#sk-container-id-1 div.sk-item::before, #sk-container-id-1 div.sk-parallel-item::before {content: \"\";position: absolute;border-left: 1px solid gray;box-sizing: border-box;top: 0;bottom: 0;left: 50%;z-index: -1;}#sk-container-id-1 div.sk-parallel-item {display: flex;flex-direction: column;z-index: 1;position: relative;background-color: white;}#sk-container-id-1 div.sk-parallel-item:first-child::after {align-self: flex-end;width: 50%;}#sk-container-id-1 div.sk-parallel-item:last-child::after {align-self: flex-start;width: 50%;}#sk-container-id-1 div.sk-parallel-item:only-child::after {width: 0;}#sk-container-id-1 div.sk-dashed-wrapped {border: 1px dashed gray;margin: 0 0.4em 0.5em 0.4em;box-sizing: border-box;padding-bottom: 0.4em;background-color: white;}#sk-container-id-1 div.sk-label label {font-family: monospace;font-weight: bold;display: inline-block;line-height: 1.2em;}#sk-container-id-1 div.sk-label-container {text-align: center;}#sk-container-id-1 div.sk-container {/* jupyter's `normalize.less` sets `[hidden] { display: none; }` but bootstrap.min.css set `[hidden] { display: none !important; }` so we also need the `!important` here to be able to override the default hidden behavior on the sphinx rendered scikit-learn.org. See: https://github.com/scikit-learn/scikit-learn/issues/21755 */display: inline-block !important;position: relative;}#sk-container-id-1 div.sk-text-repr-fallback {display: none;}</style><div id=\"sk-container-id-1\" class=\"sk-top-container\"><div class=\"sk-text-repr-fallback\"><pre>SVC(C=0.1, kernel=&#x27;sigmoid&#x27;, random_state=42, verbose=True)</pre><b>In a Jupyter environment, please rerun this cell to show the HTML representation or trust the notebook. <br />On GitHub, the HTML representation is unable to render, please try loading this page with nbviewer.org.</b></div><div class=\"sk-container\" hidden><div class=\"sk-item\"><div class=\"sk-estimator sk-toggleable\"><input class=\"sk-toggleable__control sk-hidden--visually\" id=\"sk-estimator-id-1\" type=\"checkbox\" checked><label for=\"sk-estimator-id-1\" class=\"sk-toggleable__label sk-toggleable__label-arrow\">SVC</label><div class=\"sk-toggleable__content\"><pre>SVC(C=0.1, kernel=&#x27;sigmoid&#x27;, random_state=42, verbose=True)</pre></div></div></div></div></div>"
            ]
          },
          "metadata": {},
          "execution_count": 17
        }
      ]
    },
    {
      "cell_type": "markdown",
      "source": [
        "El Entrenamiento Tardó 10 Minutos."
      ],
      "metadata": {
        "id": "L269Tt1hwQ5-"
      }
    },
    {
      "cell_type": "code",
      "metadata": {
        "id": "SFZ0vcvGznyi"
      },
      "source": [
        "#Predicciones!\n",
        "#y_train_pred = modelo.predict(X_train)\n",
        "y_test_pred = modelo.predict(X_test)"
      ],
      "execution_count": 18,
      "outputs": []
    },
    {
      "cell_type": "code",
      "metadata": {
        "id": "VJFV5sfuK0NP",
        "colab": {
          "base_uri": "https://localhost:8080/",
          "height": 424
        },
        "outputId": "ab5e5238-7e98-463e-8d13-00ff8b313a93"
      },
      "source": [
        "X_test"
      ],
      "execution_count": 19,
      "outputs": [
        {
          "output_type": "execute_result",
          "data": {
            "text/plain": [
              "         Temperature(F)  Wind_Chill(F)\n",
              "1769124            65.0           65.0\n",
              "2298464            39.0           33.0\n",
              "1891342            37.0           37.0\n",
              "872513             86.0           86.0\n",
              "1325069            87.0           87.0\n",
              "...                 ...            ...\n",
              "2674655            46.0           43.1\n",
              "2607534            88.0            0.0\n",
              "290994             73.0           73.0\n",
              "196843             79.0            0.0\n",
              "1090998            34.0           25.0\n",
              "\n",
              "[12500 rows x 2 columns]"
            ],
            "text/html": [
              "\n",
              "  <div id=\"df-f31b1f97-d3f2-41cb-97fb-3a29a294bdbc\" class=\"colab-df-container\">\n",
              "    <div>\n",
              "<style scoped>\n",
              "    .dataframe tbody tr th:only-of-type {\n",
              "        vertical-align: middle;\n",
              "    }\n",
              "\n",
              "    .dataframe tbody tr th {\n",
              "        vertical-align: top;\n",
              "    }\n",
              "\n",
              "    .dataframe thead th {\n",
              "        text-align: right;\n",
              "    }\n",
              "</style>\n",
              "<table border=\"1\" class=\"dataframe\">\n",
              "  <thead>\n",
              "    <tr style=\"text-align: right;\">\n",
              "      <th></th>\n",
              "      <th>Temperature(F)</th>\n",
              "      <th>Wind_Chill(F)</th>\n",
              "    </tr>\n",
              "  </thead>\n",
              "  <tbody>\n",
              "    <tr>\n",
              "      <th>1769124</th>\n",
              "      <td>65.0</td>\n",
              "      <td>65.0</td>\n",
              "    </tr>\n",
              "    <tr>\n",
              "      <th>2298464</th>\n",
              "      <td>39.0</td>\n",
              "      <td>33.0</td>\n",
              "    </tr>\n",
              "    <tr>\n",
              "      <th>1891342</th>\n",
              "      <td>37.0</td>\n",
              "      <td>37.0</td>\n",
              "    </tr>\n",
              "    <tr>\n",
              "      <th>872513</th>\n",
              "      <td>86.0</td>\n",
              "      <td>86.0</td>\n",
              "    </tr>\n",
              "    <tr>\n",
              "      <th>1325069</th>\n",
              "      <td>87.0</td>\n",
              "      <td>87.0</td>\n",
              "    </tr>\n",
              "    <tr>\n",
              "      <th>...</th>\n",
              "      <td>...</td>\n",
              "      <td>...</td>\n",
              "    </tr>\n",
              "    <tr>\n",
              "      <th>2674655</th>\n",
              "      <td>46.0</td>\n",
              "      <td>43.1</td>\n",
              "    </tr>\n",
              "    <tr>\n",
              "      <th>2607534</th>\n",
              "      <td>88.0</td>\n",
              "      <td>0.0</td>\n",
              "    </tr>\n",
              "    <tr>\n",
              "      <th>290994</th>\n",
              "      <td>73.0</td>\n",
              "      <td>73.0</td>\n",
              "    </tr>\n",
              "    <tr>\n",
              "      <th>196843</th>\n",
              "      <td>79.0</td>\n",
              "      <td>0.0</td>\n",
              "    </tr>\n",
              "    <tr>\n",
              "      <th>1090998</th>\n",
              "      <td>34.0</td>\n",
              "      <td>25.0</td>\n",
              "    </tr>\n",
              "  </tbody>\n",
              "</table>\n",
              "<p>12500 rows × 2 columns</p>\n",
              "</div>\n",
              "    <div class=\"colab-df-buttons\">\n",
              "\n",
              "  <div class=\"colab-df-container\">\n",
              "    <button class=\"colab-df-convert\" onclick=\"convertToInteractive('df-f31b1f97-d3f2-41cb-97fb-3a29a294bdbc')\"\n",
              "            title=\"Convert this dataframe to an interactive table.\"\n",
              "            style=\"display:none;\">\n",
              "\n",
              "  <svg xmlns=\"http://www.w3.org/2000/svg\" height=\"24px\" viewBox=\"0 -960 960 960\">\n",
              "    <path d=\"M120-120v-720h720v720H120Zm60-500h600v-160H180v160Zm220 220h160v-160H400v160Zm0 220h160v-160H400v160ZM180-400h160v-160H180v160Zm440 0h160v-160H620v160ZM180-180h160v-160H180v160Zm440 0h160v-160H620v160Z\"/>\n",
              "  </svg>\n",
              "    </button>\n",
              "\n",
              "  <style>\n",
              "    .colab-df-container {\n",
              "      display:flex;\n",
              "      gap: 12px;\n",
              "    }\n",
              "\n",
              "    .colab-df-convert {\n",
              "      background-color: #E8F0FE;\n",
              "      border: none;\n",
              "      border-radius: 50%;\n",
              "      cursor: pointer;\n",
              "      display: none;\n",
              "      fill: #1967D2;\n",
              "      height: 32px;\n",
              "      padding: 0 0 0 0;\n",
              "      width: 32px;\n",
              "    }\n",
              "\n",
              "    .colab-df-convert:hover {\n",
              "      background-color: #E2EBFA;\n",
              "      box-shadow: 0px 1px 2px rgba(60, 64, 67, 0.3), 0px 1px 3px 1px rgba(60, 64, 67, 0.15);\n",
              "      fill: #174EA6;\n",
              "    }\n",
              "\n",
              "    .colab-df-buttons div {\n",
              "      margin-bottom: 4px;\n",
              "    }\n",
              "\n",
              "    [theme=dark] .colab-df-convert {\n",
              "      background-color: #3B4455;\n",
              "      fill: #D2E3FC;\n",
              "    }\n",
              "\n",
              "    [theme=dark] .colab-df-convert:hover {\n",
              "      background-color: #434B5C;\n",
              "      box-shadow: 0px 1px 3px 1px rgba(0, 0, 0, 0.15);\n",
              "      filter: drop-shadow(0px 1px 2px rgba(0, 0, 0, 0.3));\n",
              "      fill: #FFFFFF;\n",
              "    }\n",
              "  </style>\n",
              "\n",
              "    <script>\n",
              "      const buttonEl =\n",
              "        document.querySelector('#df-f31b1f97-d3f2-41cb-97fb-3a29a294bdbc button.colab-df-convert');\n",
              "      buttonEl.style.display =\n",
              "        google.colab.kernel.accessAllowed ? 'block' : 'none';\n",
              "\n",
              "      async function convertToInteractive(key) {\n",
              "        const element = document.querySelector('#df-f31b1f97-d3f2-41cb-97fb-3a29a294bdbc');\n",
              "        const dataTable =\n",
              "          await google.colab.kernel.invokeFunction('convertToInteractive',\n",
              "                                                    [key], {});\n",
              "        if (!dataTable) return;\n",
              "\n",
              "        const docLinkHtml = 'Like what you see? Visit the ' +\n",
              "          '<a target=\"_blank\" href=https://colab.research.google.com/notebooks/data_table.ipynb>data table notebook</a>'\n",
              "          + ' to learn more about interactive tables.';\n",
              "        element.innerHTML = '';\n",
              "        dataTable['output_type'] = 'display_data';\n",
              "        await google.colab.output.renderOutput(dataTable, element);\n",
              "        const docLink = document.createElement('div');\n",
              "        docLink.innerHTML = docLinkHtml;\n",
              "        element.appendChild(docLink);\n",
              "      }\n",
              "    </script>\n",
              "  </div>\n",
              "\n",
              "\n",
              "<div id=\"df-e67b36d9-dc06-4335-8d3c-73850090aff2\">\n",
              "  <button class=\"colab-df-quickchart\" onclick=\"quickchart('df-e67b36d9-dc06-4335-8d3c-73850090aff2')\"\n",
              "            title=\"Suggest charts.\"\n",
              "            style=\"display:none;\">\n",
              "\n",
              "<svg xmlns=\"http://www.w3.org/2000/svg\" height=\"24px\"viewBox=\"0 0 24 24\"\n",
              "     width=\"24px\">\n",
              "    <g>\n",
              "        <path d=\"M19 3H5c-1.1 0-2 .9-2 2v14c0 1.1.9 2 2 2h14c1.1 0 2-.9 2-2V5c0-1.1-.9-2-2-2zM9 17H7v-7h2v7zm4 0h-2V7h2v10zm4 0h-2v-4h2v4z\"/>\n",
              "    </g>\n",
              "</svg>\n",
              "  </button>\n",
              "\n",
              "<style>\n",
              "  .colab-df-quickchart {\n",
              "      --bg-color: #E8F0FE;\n",
              "      --fill-color: #1967D2;\n",
              "      --hover-bg-color: #E2EBFA;\n",
              "      --hover-fill-color: #174EA6;\n",
              "      --disabled-fill-color: #AAA;\n",
              "      --disabled-bg-color: #DDD;\n",
              "  }\n",
              "\n",
              "  [theme=dark] .colab-df-quickchart {\n",
              "      --bg-color: #3B4455;\n",
              "      --fill-color: #D2E3FC;\n",
              "      --hover-bg-color: #434B5C;\n",
              "      --hover-fill-color: #FFFFFF;\n",
              "      --disabled-bg-color: #3B4455;\n",
              "      --disabled-fill-color: #666;\n",
              "  }\n",
              "\n",
              "  .colab-df-quickchart {\n",
              "    background-color: var(--bg-color);\n",
              "    border: none;\n",
              "    border-radius: 50%;\n",
              "    cursor: pointer;\n",
              "    display: none;\n",
              "    fill: var(--fill-color);\n",
              "    height: 32px;\n",
              "    padding: 0;\n",
              "    width: 32px;\n",
              "  }\n",
              "\n",
              "  .colab-df-quickchart:hover {\n",
              "    background-color: var(--hover-bg-color);\n",
              "    box-shadow: 0 1px 2px rgba(60, 64, 67, 0.3), 0 1px 3px 1px rgba(60, 64, 67, 0.15);\n",
              "    fill: var(--button-hover-fill-color);\n",
              "  }\n",
              "\n",
              "  .colab-df-quickchart-complete:disabled,\n",
              "  .colab-df-quickchart-complete:disabled:hover {\n",
              "    background-color: var(--disabled-bg-color);\n",
              "    fill: var(--disabled-fill-color);\n",
              "    box-shadow: none;\n",
              "  }\n",
              "\n",
              "  .colab-df-spinner {\n",
              "    border: 2px solid var(--fill-color);\n",
              "    border-color: transparent;\n",
              "    border-bottom-color: var(--fill-color);\n",
              "    animation:\n",
              "      spin 1s steps(1) infinite;\n",
              "  }\n",
              "\n",
              "  @keyframes spin {\n",
              "    0% {\n",
              "      border-color: transparent;\n",
              "      border-bottom-color: var(--fill-color);\n",
              "      border-left-color: var(--fill-color);\n",
              "    }\n",
              "    20% {\n",
              "      border-color: transparent;\n",
              "      border-left-color: var(--fill-color);\n",
              "      border-top-color: var(--fill-color);\n",
              "    }\n",
              "    30% {\n",
              "      border-color: transparent;\n",
              "      border-left-color: var(--fill-color);\n",
              "      border-top-color: var(--fill-color);\n",
              "      border-right-color: var(--fill-color);\n",
              "    }\n",
              "    40% {\n",
              "      border-color: transparent;\n",
              "      border-right-color: var(--fill-color);\n",
              "      border-top-color: var(--fill-color);\n",
              "    }\n",
              "    60% {\n",
              "      border-color: transparent;\n",
              "      border-right-color: var(--fill-color);\n",
              "    }\n",
              "    80% {\n",
              "      border-color: transparent;\n",
              "      border-right-color: var(--fill-color);\n",
              "      border-bottom-color: var(--fill-color);\n",
              "    }\n",
              "    90% {\n",
              "      border-color: transparent;\n",
              "      border-bottom-color: var(--fill-color);\n",
              "    }\n",
              "  }\n",
              "</style>\n",
              "\n",
              "  <script>\n",
              "    async function quickchart(key) {\n",
              "      const quickchartButtonEl =\n",
              "        document.querySelector('#' + key + ' button');\n",
              "      quickchartButtonEl.disabled = true;  // To prevent multiple clicks.\n",
              "      quickchartButtonEl.classList.add('colab-df-spinner');\n",
              "      try {\n",
              "        const charts = await google.colab.kernel.invokeFunction(\n",
              "            'suggestCharts', [key], {});\n",
              "      } catch (error) {\n",
              "        console.error('Error during call to suggestCharts:', error);\n",
              "      }\n",
              "      quickchartButtonEl.classList.remove('colab-df-spinner');\n",
              "      quickchartButtonEl.classList.add('colab-df-quickchart-complete');\n",
              "    }\n",
              "    (() => {\n",
              "      let quickchartButtonEl =\n",
              "        document.querySelector('#df-e67b36d9-dc06-4335-8d3c-73850090aff2 button');\n",
              "      quickchartButtonEl.style.display =\n",
              "        google.colab.kernel.accessAllowed ? 'block' : 'none';\n",
              "    })();\n",
              "  </script>\n",
              "</div>\n",
              "    </div>\n",
              "  </div>\n"
            ]
          },
          "metadata": {},
          "execution_count": 19
        }
      ]
    },
    {
      "cell_type": "code",
      "metadata": {
        "id": "iLaQ_N2SbNPd",
        "colab": {
          "base_uri": "https://localhost:8080/"
        },
        "outputId": "b8a12d1b-e36e-41a0-843f-f1c004f67c53"
      },
      "source": [
        "X_test.shape"
      ],
      "execution_count": 20,
      "outputs": [
        {
          "output_type": "execute_result",
          "data": {
            "text/plain": [
              "(12500, 2)"
            ]
          },
          "metadata": {},
          "execution_count": 20
        }
      ]
    },
    {
      "cell_type": "code",
      "metadata": {
        "id": "zJM1Yy_nz8VM",
        "colab": {
          "base_uri": "https://localhost:8080/"
        },
        "outputId": "6e136631-41aa-4ddd-f08c-7d8e7f2f43f5"
      },
      "source": [
        "y_test_pred"
      ],
      "execution_count": 21,
      "outputs": [
        {
          "output_type": "execute_result",
          "data": {
            "text/plain": [
              "array([2, 2, 2, ..., 2, 2, 2])"
            ]
          },
          "metadata": {},
          "execution_count": 21
        }
      ]
    },
    {
      "cell_type": "code",
      "metadata": {
        "id": "PdXacYf6bT4X",
        "colab": {
          "base_uri": "https://localhost:8080/"
        },
        "outputId": "1870d2b2-8ebf-4bad-ae93-ffc3a0757d3e"
      },
      "source": [
        "y_test"
      ],
      "execution_count": 22,
      "outputs": [
        {
          "output_type": "execute_result",
          "data": {
            "text/plain": [
              "array([[2],\n",
              "       [2],\n",
              "       [2],\n",
              "       ...,\n",
              "       [2],\n",
              "       [2],\n",
              "       [2]])"
            ]
          },
          "metadata": {},
          "execution_count": 22
        }
      ]
    },
    {
      "cell_type": "code",
      "metadata": {
        "colab": {
          "base_uri": "https://localhost:8080/"
        },
        "id": "9plIF402znyl",
        "outputId": "8431f884-e3a5-456d-f802-bac5de0c5f4e"
      },
      "source": [
        "#Calculo el accuracy en Test\n",
        "from sklearn.metrics import accuracy_score\n",
        "test_accuracy = accuracy_score(y_test, y_test_pred)\n",
        "print('% de aciertos sobre el set de evaluación:',test_accuracy)"
      ],
      "execution_count": 23,
      "outputs": [
        {
          "output_type": "stream",
          "name": "stdout",
          "text": [
            "% de aciertos sobre el set de evaluación: 0.88448\n"
          ]
        }
      ]
    },
    {
      "cell_type": "markdown",
      "source": [
        "# **RF y ARBOLES**"
      ],
      "metadata": {
        "id": "FtyROQVrMzIU"
      }
    },
    {
      "cell_type": "code",
      "source": [
        "#Carga de las librerías\n",
        "import urllib.request\n",
        "import pandas as pd\n",
        "from sklearn.model_selection import train_test_split\n",
        "from sklearn.ensemble import RandomForestClassifier\n",
        "from sklearn.tree import DecisionTreeClassifier"
      ],
      "metadata": {
        "id": "O1jfRzlFNFuW"
      },
      "execution_count": 24,
      "outputs": []
    },
    {
      "cell_type": "code",
      "source": [
        "df_num = df.select_dtypes('number') # datos númericos\n",
        "df_num['Stop'] = df['Stop']\n",
        "df_num.head()"
      ],
      "metadata": {
        "colab": {
          "base_uri": "https://localhost:8080/",
          "height": 226
        },
        "id": "EKmMje0GfUJz",
        "outputId": "09f1c566-d10b-4be9-f79b-c95fa9db05d6"
      },
      "execution_count": 25,
      "outputs": [
        {
          "output_type": "execute_result",
          "data": {
            "text/plain": [
              "         Severity  Start_Lat   Start_Lng    End_Lat     End_Lng  Distance(mi)  \\\n",
              "2623549         4  40.242906 -103.923214  40.252900 -103.882455         2.258   \n",
              "2816530         3  36.872350  -76.195640  36.878800  -76.201930         0.565   \n",
              "736928          2  34.031685 -118.418744  34.031315 -118.413174         0.320   \n",
              "1016780         2  25.940088  -80.269429  25.940025  -80.270868         0.090   \n",
              "2039914         2  35.066361  -80.990597  35.067272  -80.990373         0.064   \n",
              "\n",
              "         Number  Temperature(F)  Wind_Chill(F)  Humidity(%)  Pressure(in)  \\\n",
              "2623549     0.0            56.7            0.0         49.0         30.30   \n",
              "2816530     0.0            74.0           74.0         97.0         29.86   \n",
              "736928      0.0            54.0           54.0         75.0         29.88   \n",
              "1016780     0.0            79.0           79.0         56.0         30.02   \n",
              "2039914  3070.0            50.0           50.0         77.0         29.36   \n",
              "\n",
              "         Visibility(mi)  Wind_Speed(mph)  Precipitation(in)   Stop  \n",
              "2623549            10.0              6.9                0.0  False  \n",
              "2816530             8.0              8.0                0.0  False  \n",
              "736928             10.0              6.0                0.0  False  \n",
              "1016780            10.0             12.0                0.0  False  \n",
              "2039914            10.0              0.0                0.0  False  "
            ],
            "text/html": [
              "\n",
              "  <div id=\"df-80136fa8-d944-4612-a789-1087b5c8bec5\" class=\"colab-df-container\">\n",
              "    <div>\n",
              "<style scoped>\n",
              "    .dataframe tbody tr th:only-of-type {\n",
              "        vertical-align: middle;\n",
              "    }\n",
              "\n",
              "    .dataframe tbody tr th {\n",
              "        vertical-align: top;\n",
              "    }\n",
              "\n",
              "    .dataframe thead th {\n",
              "        text-align: right;\n",
              "    }\n",
              "</style>\n",
              "<table border=\"1\" class=\"dataframe\">\n",
              "  <thead>\n",
              "    <tr style=\"text-align: right;\">\n",
              "      <th></th>\n",
              "      <th>Severity</th>\n",
              "      <th>Start_Lat</th>\n",
              "      <th>Start_Lng</th>\n",
              "      <th>End_Lat</th>\n",
              "      <th>End_Lng</th>\n",
              "      <th>Distance(mi)</th>\n",
              "      <th>Number</th>\n",
              "      <th>Temperature(F)</th>\n",
              "      <th>Wind_Chill(F)</th>\n",
              "      <th>Humidity(%)</th>\n",
              "      <th>Pressure(in)</th>\n",
              "      <th>Visibility(mi)</th>\n",
              "      <th>Wind_Speed(mph)</th>\n",
              "      <th>Precipitation(in)</th>\n",
              "      <th>Stop</th>\n",
              "    </tr>\n",
              "  </thead>\n",
              "  <tbody>\n",
              "    <tr>\n",
              "      <th>2623549</th>\n",
              "      <td>4</td>\n",
              "      <td>40.242906</td>\n",
              "      <td>-103.923214</td>\n",
              "      <td>40.252900</td>\n",
              "      <td>-103.882455</td>\n",
              "      <td>2.258</td>\n",
              "      <td>0.0</td>\n",
              "      <td>56.7</td>\n",
              "      <td>0.0</td>\n",
              "      <td>49.0</td>\n",
              "      <td>30.30</td>\n",
              "      <td>10.0</td>\n",
              "      <td>6.9</td>\n",
              "      <td>0.0</td>\n",
              "      <td>False</td>\n",
              "    </tr>\n",
              "    <tr>\n",
              "      <th>2816530</th>\n",
              "      <td>3</td>\n",
              "      <td>36.872350</td>\n",
              "      <td>-76.195640</td>\n",
              "      <td>36.878800</td>\n",
              "      <td>-76.201930</td>\n",
              "      <td>0.565</td>\n",
              "      <td>0.0</td>\n",
              "      <td>74.0</td>\n",
              "      <td>74.0</td>\n",
              "      <td>97.0</td>\n",
              "      <td>29.86</td>\n",
              "      <td>8.0</td>\n",
              "      <td>8.0</td>\n",
              "      <td>0.0</td>\n",
              "      <td>False</td>\n",
              "    </tr>\n",
              "    <tr>\n",
              "      <th>736928</th>\n",
              "      <td>2</td>\n",
              "      <td>34.031685</td>\n",
              "      <td>-118.418744</td>\n",
              "      <td>34.031315</td>\n",
              "      <td>-118.413174</td>\n",
              "      <td>0.320</td>\n",
              "      <td>0.0</td>\n",
              "      <td>54.0</td>\n",
              "      <td>54.0</td>\n",
              "      <td>75.0</td>\n",
              "      <td>29.88</td>\n",
              "      <td>10.0</td>\n",
              "      <td>6.0</td>\n",
              "      <td>0.0</td>\n",
              "      <td>False</td>\n",
              "    </tr>\n",
              "    <tr>\n",
              "      <th>1016780</th>\n",
              "      <td>2</td>\n",
              "      <td>25.940088</td>\n",
              "      <td>-80.269429</td>\n",
              "      <td>25.940025</td>\n",
              "      <td>-80.270868</td>\n",
              "      <td>0.090</td>\n",
              "      <td>0.0</td>\n",
              "      <td>79.0</td>\n",
              "      <td>79.0</td>\n",
              "      <td>56.0</td>\n",
              "      <td>30.02</td>\n",
              "      <td>10.0</td>\n",
              "      <td>12.0</td>\n",
              "      <td>0.0</td>\n",
              "      <td>False</td>\n",
              "    </tr>\n",
              "    <tr>\n",
              "      <th>2039914</th>\n",
              "      <td>2</td>\n",
              "      <td>35.066361</td>\n",
              "      <td>-80.990597</td>\n",
              "      <td>35.067272</td>\n",
              "      <td>-80.990373</td>\n",
              "      <td>0.064</td>\n",
              "      <td>3070.0</td>\n",
              "      <td>50.0</td>\n",
              "      <td>50.0</td>\n",
              "      <td>77.0</td>\n",
              "      <td>29.36</td>\n",
              "      <td>10.0</td>\n",
              "      <td>0.0</td>\n",
              "      <td>0.0</td>\n",
              "      <td>False</td>\n",
              "    </tr>\n",
              "  </tbody>\n",
              "</table>\n",
              "</div>\n",
              "    <div class=\"colab-df-buttons\">\n",
              "\n",
              "  <div class=\"colab-df-container\">\n",
              "    <button class=\"colab-df-convert\" onclick=\"convertToInteractive('df-80136fa8-d944-4612-a789-1087b5c8bec5')\"\n",
              "            title=\"Convert this dataframe to an interactive table.\"\n",
              "            style=\"display:none;\">\n",
              "\n",
              "  <svg xmlns=\"http://www.w3.org/2000/svg\" height=\"24px\" viewBox=\"0 -960 960 960\">\n",
              "    <path d=\"M120-120v-720h720v720H120Zm60-500h600v-160H180v160Zm220 220h160v-160H400v160Zm0 220h160v-160H400v160ZM180-400h160v-160H180v160Zm440 0h160v-160H620v160ZM180-180h160v-160H180v160Zm440 0h160v-160H620v160Z\"/>\n",
              "  </svg>\n",
              "    </button>\n",
              "\n",
              "  <style>\n",
              "    .colab-df-container {\n",
              "      display:flex;\n",
              "      gap: 12px;\n",
              "    }\n",
              "\n",
              "    .colab-df-convert {\n",
              "      background-color: #E8F0FE;\n",
              "      border: none;\n",
              "      border-radius: 50%;\n",
              "      cursor: pointer;\n",
              "      display: none;\n",
              "      fill: #1967D2;\n",
              "      height: 32px;\n",
              "      padding: 0 0 0 0;\n",
              "      width: 32px;\n",
              "    }\n",
              "\n",
              "    .colab-df-convert:hover {\n",
              "      background-color: #E2EBFA;\n",
              "      box-shadow: 0px 1px 2px rgba(60, 64, 67, 0.3), 0px 1px 3px 1px rgba(60, 64, 67, 0.15);\n",
              "      fill: #174EA6;\n",
              "    }\n",
              "\n",
              "    .colab-df-buttons div {\n",
              "      margin-bottom: 4px;\n",
              "    }\n",
              "\n",
              "    [theme=dark] .colab-df-convert {\n",
              "      background-color: #3B4455;\n",
              "      fill: #D2E3FC;\n",
              "    }\n",
              "\n",
              "    [theme=dark] .colab-df-convert:hover {\n",
              "      background-color: #434B5C;\n",
              "      box-shadow: 0px 1px 3px 1px rgba(0, 0, 0, 0.15);\n",
              "      filter: drop-shadow(0px 1px 2px rgba(0, 0, 0, 0.3));\n",
              "      fill: #FFFFFF;\n",
              "    }\n",
              "  </style>\n",
              "\n",
              "    <script>\n",
              "      const buttonEl =\n",
              "        document.querySelector('#df-80136fa8-d944-4612-a789-1087b5c8bec5 button.colab-df-convert');\n",
              "      buttonEl.style.display =\n",
              "        google.colab.kernel.accessAllowed ? 'block' : 'none';\n",
              "\n",
              "      async function convertToInteractive(key) {\n",
              "        const element = document.querySelector('#df-80136fa8-d944-4612-a789-1087b5c8bec5');\n",
              "        const dataTable =\n",
              "          await google.colab.kernel.invokeFunction('convertToInteractive',\n",
              "                                                    [key], {});\n",
              "        if (!dataTable) return;\n",
              "\n",
              "        const docLinkHtml = 'Like what you see? Visit the ' +\n",
              "          '<a target=\"_blank\" href=https://colab.research.google.com/notebooks/data_table.ipynb>data table notebook</a>'\n",
              "          + ' to learn more about interactive tables.';\n",
              "        element.innerHTML = '';\n",
              "        dataTable['output_type'] = 'display_data';\n",
              "        await google.colab.output.renderOutput(dataTable, element);\n",
              "        const docLink = document.createElement('div');\n",
              "        docLink.innerHTML = docLinkHtml;\n",
              "        element.appendChild(docLink);\n",
              "      }\n",
              "    </script>\n",
              "  </div>\n",
              "\n",
              "\n",
              "<div id=\"df-98022028-50f7-4aa4-95bb-60526c4c3d15\">\n",
              "  <button class=\"colab-df-quickchart\" onclick=\"quickchart('df-98022028-50f7-4aa4-95bb-60526c4c3d15')\"\n",
              "            title=\"Suggest charts.\"\n",
              "            style=\"display:none;\">\n",
              "\n",
              "<svg xmlns=\"http://www.w3.org/2000/svg\" height=\"24px\"viewBox=\"0 0 24 24\"\n",
              "     width=\"24px\">\n",
              "    <g>\n",
              "        <path d=\"M19 3H5c-1.1 0-2 .9-2 2v14c0 1.1.9 2 2 2h14c1.1 0 2-.9 2-2V5c0-1.1-.9-2-2-2zM9 17H7v-7h2v7zm4 0h-2V7h2v10zm4 0h-2v-4h2v4z\"/>\n",
              "    </g>\n",
              "</svg>\n",
              "  </button>\n",
              "\n",
              "<style>\n",
              "  .colab-df-quickchart {\n",
              "      --bg-color: #E8F0FE;\n",
              "      --fill-color: #1967D2;\n",
              "      --hover-bg-color: #E2EBFA;\n",
              "      --hover-fill-color: #174EA6;\n",
              "      --disabled-fill-color: #AAA;\n",
              "      --disabled-bg-color: #DDD;\n",
              "  }\n",
              "\n",
              "  [theme=dark] .colab-df-quickchart {\n",
              "      --bg-color: #3B4455;\n",
              "      --fill-color: #D2E3FC;\n",
              "      --hover-bg-color: #434B5C;\n",
              "      --hover-fill-color: #FFFFFF;\n",
              "      --disabled-bg-color: #3B4455;\n",
              "      --disabled-fill-color: #666;\n",
              "  }\n",
              "\n",
              "  .colab-df-quickchart {\n",
              "    background-color: var(--bg-color);\n",
              "    border: none;\n",
              "    border-radius: 50%;\n",
              "    cursor: pointer;\n",
              "    display: none;\n",
              "    fill: var(--fill-color);\n",
              "    height: 32px;\n",
              "    padding: 0;\n",
              "    width: 32px;\n",
              "  }\n",
              "\n",
              "  .colab-df-quickchart:hover {\n",
              "    background-color: var(--hover-bg-color);\n",
              "    box-shadow: 0 1px 2px rgba(60, 64, 67, 0.3), 0 1px 3px 1px rgba(60, 64, 67, 0.15);\n",
              "    fill: var(--button-hover-fill-color);\n",
              "  }\n",
              "\n",
              "  .colab-df-quickchart-complete:disabled,\n",
              "  .colab-df-quickchart-complete:disabled:hover {\n",
              "    background-color: var(--disabled-bg-color);\n",
              "    fill: var(--disabled-fill-color);\n",
              "    box-shadow: none;\n",
              "  }\n",
              "\n",
              "  .colab-df-spinner {\n",
              "    border: 2px solid var(--fill-color);\n",
              "    border-color: transparent;\n",
              "    border-bottom-color: var(--fill-color);\n",
              "    animation:\n",
              "      spin 1s steps(1) infinite;\n",
              "  }\n",
              "\n",
              "  @keyframes spin {\n",
              "    0% {\n",
              "      border-color: transparent;\n",
              "      border-bottom-color: var(--fill-color);\n",
              "      border-left-color: var(--fill-color);\n",
              "    }\n",
              "    20% {\n",
              "      border-color: transparent;\n",
              "      border-left-color: var(--fill-color);\n",
              "      border-top-color: var(--fill-color);\n",
              "    }\n",
              "    30% {\n",
              "      border-color: transparent;\n",
              "      border-left-color: var(--fill-color);\n",
              "      border-top-color: var(--fill-color);\n",
              "      border-right-color: var(--fill-color);\n",
              "    }\n",
              "    40% {\n",
              "      border-color: transparent;\n",
              "      border-right-color: var(--fill-color);\n",
              "      border-top-color: var(--fill-color);\n",
              "    }\n",
              "    60% {\n",
              "      border-color: transparent;\n",
              "      border-right-color: var(--fill-color);\n",
              "    }\n",
              "    80% {\n",
              "      border-color: transparent;\n",
              "      border-right-color: var(--fill-color);\n",
              "      border-bottom-color: var(--fill-color);\n",
              "    }\n",
              "    90% {\n",
              "      border-color: transparent;\n",
              "      border-bottom-color: var(--fill-color);\n",
              "    }\n",
              "  }\n",
              "</style>\n",
              "\n",
              "  <script>\n",
              "    async function quickchart(key) {\n",
              "      const quickchartButtonEl =\n",
              "        document.querySelector('#' + key + ' button');\n",
              "      quickchartButtonEl.disabled = true;  // To prevent multiple clicks.\n",
              "      quickchartButtonEl.classList.add('colab-df-spinner');\n",
              "      try {\n",
              "        const charts = await google.colab.kernel.invokeFunction(\n",
              "            'suggestCharts', [key], {});\n",
              "      } catch (error) {\n",
              "        console.error('Error during call to suggestCharts:', error);\n",
              "      }\n",
              "      quickchartButtonEl.classList.remove('colab-df-spinner');\n",
              "      quickchartButtonEl.classList.add('colab-df-quickchart-complete');\n",
              "    }\n",
              "    (() => {\n",
              "      let quickchartButtonEl =\n",
              "        document.querySelector('#df-98022028-50f7-4aa4-95bb-60526c4c3d15 button');\n",
              "      quickchartButtonEl.style.display =\n",
              "        google.colab.kernel.accessAllowed ? 'block' : 'none';\n",
              "    })();\n",
              "  </script>\n",
              "</div>\n",
              "    </div>\n",
              "  </div>\n"
            ]
          },
          "metadata": {},
          "execution_count": 25
        }
      ]
    },
    {
      "cell_type": "markdown",
      "source": [
        "**Insights**:\n",
        "\n",
        "* El dataset se compone de 47 columnas de las cuales 46 corresponden a variables independientes, que usaremos para predecir el target.\n",
        "\n",
        "* Classification es la variable a predecir. Todas las variables son numéricas, ya sea enteras o reales y no tiene valores nulos.\n"
      ],
      "metadata": {
        "id": "zghhLsWXSufM"
      }
    },
    {
      "cell_type": "code",
      "source": [
        "df_num.Stop.unique()"
      ],
      "metadata": {
        "colab": {
          "base_uri": "https://localhost:8080/"
        },
        "id": "BIHwpfsZci8r",
        "outputId": "fc60b361-bd46-4da8-972a-2357f85ddac2"
      },
      "execution_count": 26,
      "outputs": [
        {
          "output_type": "execute_result",
          "data": {
            "text/plain": [
              "array([False,  True])"
            ]
          },
          "metadata": {},
          "execution_count": 26
        }
      ]
    },
    {
      "cell_type": "code",
      "source": [
        "## Convertimos la variable Stop a valores enteros\n",
        "#df_num['Stop'] = df_num.Stop.map({'False':0 , 'True':1})\n",
        "df_num.Stop = df_num.Stop.replace({True: 1, False: 0})"
      ],
      "metadata": {
        "id": "eqV0-8xociXc"
      },
      "execution_count": 27,
      "outputs": []
    },
    {
      "cell_type": "code",
      "source": [
        "df_num.Stop.unique()"
      ],
      "metadata": {
        "colab": {
          "base_uri": "https://localhost:8080/"
        },
        "id": "Xo_uPA-WddZY",
        "outputId": "346f7ddf-9f03-4946-89eb-b75d9bd93e07"
      },
      "execution_count": 28,
      "outputs": [
        {
          "output_type": "execute_result",
          "data": {
            "text/plain": [
              "array([0, 1])"
            ]
          },
          "metadata": {},
          "execution_count": 28
        }
      ]
    },
    {
      "cell_type": "code",
      "source": [
        "#Separamos en X e y\n",
        "X = df_num.drop([\"Severity\"], axis=1)\n",
        "y = df_num[\"Severity\"]"
      ],
      "metadata": {
        "id": "LcBspee3PlOq"
      },
      "execution_count": 29,
      "outputs": []
    },
    {
      "cell_type": "code",
      "source": [
        "#Separamos en train y test!\n",
        "(X_train, X_test,y_train, y_test) = train_test_split(X,y,stratify=y,test_size=0.30,random_state=42)"
      ],
      "metadata": {
        "id": "0AHOWK-Zd_Zj"
      },
      "execution_count": 30,
      "outputs": []
    },
    {
      "cell_type": "code",
      "source": [
        "#Creamos un arbol de decisión sencillo y lo fiteamos\n",
        "tree = DecisionTreeClassifier(random_state=42)\n",
        "tree.fit(X_train, y_train)"
      ],
      "metadata": {
        "colab": {
          "base_uri": "https://localhost:8080/",
          "height": 75
        },
        "id": "rnbJMWIBeAE4",
        "outputId": "d367c839-b639-42e7-8818-35bf664474fd"
      },
      "execution_count": 31,
      "outputs": [
        {
          "output_type": "execute_result",
          "data": {
            "text/plain": [
              "DecisionTreeClassifier(random_state=42)"
            ],
            "text/html": [
              "<style>#sk-container-id-2 {color: black;background-color: white;}#sk-container-id-2 pre{padding: 0;}#sk-container-id-2 div.sk-toggleable {background-color: white;}#sk-container-id-2 label.sk-toggleable__label {cursor: pointer;display: block;width: 100%;margin-bottom: 0;padding: 0.3em;box-sizing: border-box;text-align: center;}#sk-container-id-2 label.sk-toggleable__label-arrow:before {content: \"▸\";float: left;margin-right: 0.25em;color: #696969;}#sk-container-id-2 label.sk-toggleable__label-arrow:hover:before {color: black;}#sk-container-id-2 div.sk-estimator:hover label.sk-toggleable__label-arrow:before {color: black;}#sk-container-id-2 div.sk-toggleable__content {max-height: 0;max-width: 0;overflow: hidden;text-align: left;background-color: #f0f8ff;}#sk-container-id-2 div.sk-toggleable__content pre {margin: 0.2em;color: black;border-radius: 0.25em;background-color: #f0f8ff;}#sk-container-id-2 input.sk-toggleable__control:checked~div.sk-toggleable__content {max-height: 200px;max-width: 100%;overflow: auto;}#sk-container-id-2 input.sk-toggleable__control:checked~label.sk-toggleable__label-arrow:before {content: \"▾\";}#sk-container-id-2 div.sk-estimator input.sk-toggleable__control:checked~label.sk-toggleable__label {background-color: #d4ebff;}#sk-container-id-2 div.sk-label input.sk-toggleable__control:checked~label.sk-toggleable__label {background-color: #d4ebff;}#sk-container-id-2 input.sk-hidden--visually {border: 0;clip: rect(1px 1px 1px 1px);clip: rect(1px, 1px, 1px, 1px);height: 1px;margin: -1px;overflow: hidden;padding: 0;position: absolute;width: 1px;}#sk-container-id-2 div.sk-estimator {font-family: monospace;background-color: #f0f8ff;border: 1px dotted black;border-radius: 0.25em;box-sizing: border-box;margin-bottom: 0.5em;}#sk-container-id-2 div.sk-estimator:hover {background-color: #d4ebff;}#sk-container-id-2 div.sk-parallel-item::after {content: \"\";width: 100%;border-bottom: 1px solid gray;flex-grow: 1;}#sk-container-id-2 div.sk-label:hover label.sk-toggleable__label {background-color: #d4ebff;}#sk-container-id-2 div.sk-serial::before {content: \"\";position: absolute;border-left: 1px solid gray;box-sizing: border-box;top: 0;bottom: 0;left: 50%;z-index: 0;}#sk-container-id-2 div.sk-serial {display: flex;flex-direction: column;align-items: center;background-color: white;padding-right: 0.2em;padding-left: 0.2em;position: relative;}#sk-container-id-2 div.sk-item {position: relative;z-index: 1;}#sk-container-id-2 div.sk-parallel {display: flex;align-items: stretch;justify-content: center;background-color: white;position: relative;}#sk-container-id-2 div.sk-item::before, #sk-container-id-2 div.sk-parallel-item::before {content: \"\";position: absolute;border-left: 1px solid gray;box-sizing: border-box;top: 0;bottom: 0;left: 50%;z-index: -1;}#sk-container-id-2 div.sk-parallel-item {display: flex;flex-direction: column;z-index: 1;position: relative;background-color: white;}#sk-container-id-2 div.sk-parallel-item:first-child::after {align-self: flex-end;width: 50%;}#sk-container-id-2 div.sk-parallel-item:last-child::after {align-self: flex-start;width: 50%;}#sk-container-id-2 div.sk-parallel-item:only-child::after {width: 0;}#sk-container-id-2 div.sk-dashed-wrapped {border: 1px dashed gray;margin: 0 0.4em 0.5em 0.4em;box-sizing: border-box;padding-bottom: 0.4em;background-color: white;}#sk-container-id-2 div.sk-label label {font-family: monospace;font-weight: bold;display: inline-block;line-height: 1.2em;}#sk-container-id-2 div.sk-label-container {text-align: center;}#sk-container-id-2 div.sk-container {/* jupyter's `normalize.less` sets `[hidden] { display: none; }` but bootstrap.min.css set `[hidden] { display: none !important; }` so we also need the `!important` here to be able to override the default hidden behavior on the sphinx rendered scikit-learn.org. See: https://github.com/scikit-learn/scikit-learn/issues/21755 */display: inline-block !important;position: relative;}#sk-container-id-2 div.sk-text-repr-fallback {display: none;}</style><div id=\"sk-container-id-2\" class=\"sk-top-container\"><div class=\"sk-text-repr-fallback\"><pre>DecisionTreeClassifier(random_state=42)</pre><b>In a Jupyter environment, please rerun this cell to show the HTML representation or trust the notebook. <br />On GitHub, the HTML representation is unable to render, please try loading this page with nbviewer.org.</b></div><div class=\"sk-container\" hidden><div class=\"sk-item\"><div class=\"sk-estimator sk-toggleable\"><input class=\"sk-toggleable__control sk-hidden--visually\" id=\"sk-estimator-id-2\" type=\"checkbox\" checked><label for=\"sk-estimator-id-2\" class=\"sk-toggleable__label sk-toggleable__label-arrow\">DecisionTreeClassifier</label><div class=\"sk-toggleable__content\"><pre>DecisionTreeClassifier(random_state=42)</pre></div></div></div></div></div>"
            ]
          },
          "metadata": {},
          "execution_count": 31
        }
      ]
    },
    {
      "cell_type": "code",
      "source": [
        "y_test_pred = tree.predict(X_test) #Prediccion en Test"
      ],
      "metadata": {
        "id": "wy7CGJgWeBxJ"
      },
      "execution_count": 32,
      "outputs": []
    },
    {
      "cell_type": "markdown",
      "source": [
        "A lo largo de este notebook, se solicita calcular las métricas requeridas como así también su correspondiente interpretación:\n",
        "\n",
        "1.Calcular la métrica Accuracy."
      ],
      "metadata": {
        "id": "kNjq--UpeJpa"
      }
    },
    {
      "cell_type": "code",
      "source": [
        "###Completar\n",
        "from sklearn.metrics import accuracy_score\n",
        "accuracy_score(y_test,y_test_pred)"
      ],
      "metadata": {
        "colab": {
          "base_uri": "https://localhost:8080/"
        },
        "id": "XhdvJ8ZyeI8I",
        "outputId": "15c9177c-4d67-45af-9f6e-3960472a219f"
      },
      "execution_count": 33,
      "outputs": [
        {
          "output_type": "execute_result",
          "data": {
            "text/plain": [
              "0.8402"
            ]
          },
          "metadata": {},
          "execution_count": 33
        }
      ]
    },
    {
      "cell_type": "markdown",
      "source": [
        "2.Crear la Matriz de Confusión"
      ],
      "metadata": {
        "id": "ZlzSvNRLhLuO"
      }
    },
    {
      "cell_type": "code",
      "source": [
        "###Completar\n",
        "from sklearn.metrics import confusion_matrix\n",
        "confusion_matrix(y_test, y_test_pred)"
      ],
      "metadata": {
        "colab": {
          "base_uri": "https://localhost:8080/"
        },
        "id": "Jwn0QyBOhMj0",
        "outputId": "97fde236-bb3b-4665-8a6b-e589d773d4d0"
      },
      "execution_count": 34,
      "outputs": [
        {
          "output_type": "execute_result",
          "data": {
            "text/plain": [
              "array([[   63,    53,    11,     1],\n",
              "       [   93, 12175,   592,   518],\n",
              "       [   10,   512,   228,    66],\n",
              "       [    2,   465,    74,   137]])"
            ]
          },
          "metadata": {},
          "execution_count": 34
        }
      ]
    },
    {
      "cell_type": "markdown",
      "source": [
        "3. Calcular la métrica Recall"
      ],
      "metadata": {
        "id": "6idIIBOphV5N"
      }
    },
    {
      "cell_type": "code",
      "source": [
        "#Convertimos en df la salida\n",
        "dfs = pd.DataFrame({'Actual': y_test, 'Predicted': y_test_pred})\n",
        "dfs"
      ],
      "metadata": {
        "colab": {
          "base_uri": "https://localhost:8080/",
          "height": 424
        },
        "id": "B_W2u8GmYhGV",
        "outputId": "e1bdf976-03a5-4eef-9c9d-a0a751bbc5e3"
      },
      "execution_count": 35,
      "outputs": [
        {
          "output_type": "execute_result",
          "data": {
            "text/plain": [
              "         Actual  Predicted\n",
              "1237286       2          2\n",
              "490935        2          2\n",
              "2068425       2          2\n",
              "2528779       3          2\n",
              "1734894       2          2\n",
              "...         ...        ...\n",
              "468635        2          2\n",
              "1554199       2          2\n",
              "921706        2          2\n",
              "430980        2          2\n",
              "188301        2          3\n",
              "\n",
              "[15000 rows x 2 columns]"
            ],
            "text/html": [
              "\n",
              "  <div id=\"df-be0bb4c5-f90d-4443-ad30-85f273123e85\" class=\"colab-df-container\">\n",
              "    <div>\n",
              "<style scoped>\n",
              "    .dataframe tbody tr th:only-of-type {\n",
              "        vertical-align: middle;\n",
              "    }\n",
              "\n",
              "    .dataframe tbody tr th {\n",
              "        vertical-align: top;\n",
              "    }\n",
              "\n",
              "    .dataframe thead th {\n",
              "        text-align: right;\n",
              "    }\n",
              "</style>\n",
              "<table border=\"1\" class=\"dataframe\">\n",
              "  <thead>\n",
              "    <tr style=\"text-align: right;\">\n",
              "      <th></th>\n",
              "      <th>Actual</th>\n",
              "      <th>Predicted</th>\n",
              "    </tr>\n",
              "  </thead>\n",
              "  <tbody>\n",
              "    <tr>\n",
              "      <th>1237286</th>\n",
              "      <td>2</td>\n",
              "      <td>2</td>\n",
              "    </tr>\n",
              "    <tr>\n",
              "      <th>490935</th>\n",
              "      <td>2</td>\n",
              "      <td>2</td>\n",
              "    </tr>\n",
              "    <tr>\n",
              "      <th>2068425</th>\n",
              "      <td>2</td>\n",
              "      <td>2</td>\n",
              "    </tr>\n",
              "    <tr>\n",
              "      <th>2528779</th>\n",
              "      <td>3</td>\n",
              "      <td>2</td>\n",
              "    </tr>\n",
              "    <tr>\n",
              "      <th>1734894</th>\n",
              "      <td>2</td>\n",
              "      <td>2</td>\n",
              "    </tr>\n",
              "    <tr>\n",
              "      <th>...</th>\n",
              "      <td>...</td>\n",
              "      <td>...</td>\n",
              "    </tr>\n",
              "    <tr>\n",
              "      <th>468635</th>\n",
              "      <td>2</td>\n",
              "      <td>2</td>\n",
              "    </tr>\n",
              "    <tr>\n",
              "      <th>1554199</th>\n",
              "      <td>2</td>\n",
              "      <td>2</td>\n",
              "    </tr>\n",
              "    <tr>\n",
              "      <th>921706</th>\n",
              "      <td>2</td>\n",
              "      <td>2</td>\n",
              "    </tr>\n",
              "    <tr>\n",
              "      <th>430980</th>\n",
              "      <td>2</td>\n",
              "      <td>2</td>\n",
              "    </tr>\n",
              "    <tr>\n",
              "      <th>188301</th>\n",
              "      <td>2</td>\n",
              "      <td>3</td>\n",
              "    </tr>\n",
              "  </tbody>\n",
              "</table>\n",
              "<p>15000 rows × 2 columns</p>\n",
              "</div>\n",
              "    <div class=\"colab-df-buttons\">\n",
              "\n",
              "  <div class=\"colab-df-container\">\n",
              "    <button class=\"colab-df-convert\" onclick=\"convertToInteractive('df-be0bb4c5-f90d-4443-ad30-85f273123e85')\"\n",
              "            title=\"Convert this dataframe to an interactive table.\"\n",
              "            style=\"display:none;\">\n",
              "\n",
              "  <svg xmlns=\"http://www.w3.org/2000/svg\" height=\"24px\" viewBox=\"0 -960 960 960\">\n",
              "    <path d=\"M120-120v-720h720v720H120Zm60-500h600v-160H180v160Zm220 220h160v-160H400v160Zm0 220h160v-160H400v160ZM180-400h160v-160H180v160Zm440 0h160v-160H620v160ZM180-180h160v-160H180v160Zm440 0h160v-160H620v160Z\"/>\n",
              "  </svg>\n",
              "    </button>\n",
              "\n",
              "  <style>\n",
              "    .colab-df-container {\n",
              "      display:flex;\n",
              "      gap: 12px;\n",
              "    }\n",
              "\n",
              "    .colab-df-convert {\n",
              "      background-color: #E8F0FE;\n",
              "      border: none;\n",
              "      border-radius: 50%;\n",
              "      cursor: pointer;\n",
              "      display: none;\n",
              "      fill: #1967D2;\n",
              "      height: 32px;\n",
              "      padding: 0 0 0 0;\n",
              "      width: 32px;\n",
              "    }\n",
              "\n",
              "    .colab-df-convert:hover {\n",
              "      background-color: #E2EBFA;\n",
              "      box-shadow: 0px 1px 2px rgba(60, 64, 67, 0.3), 0px 1px 3px 1px rgba(60, 64, 67, 0.15);\n",
              "      fill: #174EA6;\n",
              "    }\n",
              "\n",
              "    .colab-df-buttons div {\n",
              "      margin-bottom: 4px;\n",
              "    }\n",
              "\n",
              "    [theme=dark] .colab-df-convert {\n",
              "      background-color: #3B4455;\n",
              "      fill: #D2E3FC;\n",
              "    }\n",
              "\n",
              "    [theme=dark] .colab-df-convert:hover {\n",
              "      background-color: #434B5C;\n",
              "      box-shadow: 0px 1px 3px 1px rgba(0, 0, 0, 0.15);\n",
              "      filter: drop-shadow(0px 1px 2px rgba(0, 0, 0, 0.3));\n",
              "      fill: #FFFFFF;\n",
              "    }\n",
              "  </style>\n",
              "\n",
              "    <script>\n",
              "      const buttonEl =\n",
              "        document.querySelector('#df-be0bb4c5-f90d-4443-ad30-85f273123e85 button.colab-df-convert');\n",
              "      buttonEl.style.display =\n",
              "        google.colab.kernel.accessAllowed ? 'block' : 'none';\n",
              "\n",
              "      async function convertToInteractive(key) {\n",
              "        const element = document.querySelector('#df-be0bb4c5-f90d-4443-ad30-85f273123e85');\n",
              "        const dataTable =\n",
              "          await google.colab.kernel.invokeFunction('convertToInteractive',\n",
              "                                                    [key], {});\n",
              "        if (!dataTable) return;\n",
              "\n",
              "        const docLinkHtml = 'Like what you see? Visit the ' +\n",
              "          '<a target=\"_blank\" href=https://colab.research.google.com/notebooks/data_table.ipynb>data table notebook</a>'\n",
              "          + ' to learn more about interactive tables.';\n",
              "        element.innerHTML = '';\n",
              "        dataTable['output_type'] = 'display_data';\n",
              "        await google.colab.output.renderOutput(dataTable, element);\n",
              "        const docLink = document.createElement('div');\n",
              "        docLink.innerHTML = docLinkHtml;\n",
              "        element.appendChild(docLink);\n",
              "      }\n",
              "    </script>\n",
              "  </div>\n",
              "\n",
              "\n",
              "<div id=\"df-8c752514-6743-4d42-a04d-c2a1b5899304\">\n",
              "  <button class=\"colab-df-quickchart\" onclick=\"quickchart('df-8c752514-6743-4d42-a04d-c2a1b5899304')\"\n",
              "            title=\"Suggest charts.\"\n",
              "            style=\"display:none;\">\n",
              "\n",
              "<svg xmlns=\"http://www.w3.org/2000/svg\" height=\"24px\"viewBox=\"0 0 24 24\"\n",
              "     width=\"24px\">\n",
              "    <g>\n",
              "        <path d=\"M19 3H5c-1.1 0-2 .9-2 2v14c0 1.1.9 2 2 2h14c1.1 0 2-.9 2-2V5c0-1.1-.9-2-2-2zM9 17H7v-7h2v7zm4 0h-2V7h2v10zm4 0h-2v-4h2v4z\"/>\n",
              "    </g>\n",
              "</svg>\n",
              "  </button>\n",
              "\n",
              "<style>\n",
              "  .colab-df-quickchart {\n",
              "      --bg-color: #E8F0FE;\n",
              "      --fill-color: #1967D2;\n",
              "      --hover-bg-color: #E2EBFA;\n",
              "      --hover-fill-color: #174EA6;\n",
              "      --disabled-fill-color: #AAA;\n",
              "      --disabled-bg-color: #DDD;\n",
              "  }\n",
              "\n",
              "  [theme=dark] .colab-df-quickchart {\n",
              "      --bg-color: #3B4455;\n",
              "      --fill-color: #D2E3FC;\n",
              "      --hover-bg-color: #434B5C;\n",
              "      --hover-fill-color: #FFFFFF;\n",
              "      --disabled-bg-color: #3B4455;\n",
              "      --disabled-fill-color: #666;\n",
              "  }\n",
              "\n",
              "  .colab-df-quickchart {\n",
              "    background-color: var(--bg-color);\n",
              "    border: none;\n",
              "    border-radius: 50%;\n",
              "    cursor: pointer;\n",
              "    display: none;\n",
              "    fill: var(--fill-color);\n",
              "    height: 32px;\n",
              "    padding: 0;\n",
              "    width: 32px;\n",
              "  }\n",
              "\n",
              "  .colab-df-quickchart:hover {\n",
              "    background-color: var(--hover-bg-color);\n",
              "    box-shadow: 0 1px 2px rgba(60, 64, 67, 0.3), 0 1px 3px 1px rgba(60, 64, 67, 0.15);\n",
              "    fill: var(--button-hover-fill-color);\n",
              "  }\n",
              "\n",
              "  .colab-df-quickchart-complete:disabled,\n",
              "  .colab-df-quickchart-complete:disabled:hover {\n",
              "    background-color: var(--disabled-bg-color);\n",
              "    fill: var(--disabled-fill-color);\n",
              "    box-shadow: none;\n",
              "  }\n",
              "\n",
              "  .colab-df-spinner {\n",
              "    border: 2px solid var(--fill-color);\n",
              "    border-color: transparent;\n",
              "    border-bottom-color: var(--fill-color);\n",
              "    animation:\n",
              "      spin 1s steps(1) infinite;\n",
              "  }\n",
              "\n",
              "  @keyframes spin {\n",
              "    0% {\n",
              "      border-color: transparent;\n",
              "      border-bottom-color: var(--fill-color);\n",
              "      border-left-color: var(--fill-color);\n",
              "    }\n",
              "    20% {\n",
              "      border-color: transparent;\n",
              "      border-left-color: var(--fill-color);\n",
              "      border-top-color: var(--fill-color);\n",
              "    }\n",
              "    30% {\n",
              "      border-color: transparent;\n",
              "      border-left-color: var(--fill-color);\n",
              "      border-top-color: var(--fill-color);\n",
              "      border-right-color: var(--fill-color);\n",
              "    }\n",
              "    40% {\n",
              "      border-color: transparent;\n",
              "      border-right-color: var(--fill-color);\n",
              "      border-top-color: var(--fill-color);\n",
              "    }\n",
              "    60% {\n",
              "      border-color: transparent;\n",
              "      border-right-color: var(--fill-color);\n",
              "    }\n",
              "    80% {\n",
              "      border-color: transparent;\n",
              "      border-right-color: var(--fill-color);\n",
              "      border-bottom-color: var(--fill-color);\n",
              "    }\n",
              "    90% {\n",
              "      border-color: transparent;\n",
              "      border-bottom-color: var(--fill-color);\n",
              "    }\n",
              "  }\n",
              "</style>\n",
              "\n",
              "  <script>\n",
              "    async function quickchart(key) {\n",
              "      const quickchartButtonEl =\n",
              "        document.querySelector('#' + key + ' button');\n",
              "      quickchartButtonEl.disabled = true;  // To prevent multiple clicks.\n",
              "      quickchartButtonEl.classList.add('colab-df-spinner');\n",
              "      try {\n",
              "        const charts = await google.colab.kernel.invokeFunction(\n",
              "            'suggestCharts', [key], {});\n",
              "      } catch (error) {\n",
              "        console.error('Error during call to suggestCharts:', error);\n",
              "      }\n",
              "      quickchartButtonEl.classList.remove('colab-df-spinner');\n",
              "      quickchartButtonEl.classList.add('colab-df-quickchart-complete');\n",
              "    }\n",
              "    (() => {\n",
              "      let quickchartButtonEl =\n",
              "        document.querySelector('#df-8c752514-6743-4d42-a04d-c2a1b5899304 button');\n",
              "      quickchartButtonEl.style.display =\n",
              "        google.colab.kernel.accessAllowed ? 'block' : 'none';\n",
              "    })();\n",
              "  </script>\n",
              "</div>\n",
              "    </div>\n",
              "  </div>\n"
            ]
          },
          "metadata": {},
          "execution_count": 35
        }
      ]
    },
    {
      "cell_type": "code",
      "source": [
        "dfs.describe()"
      ],
      "metadata": {
        "colab": {
          "base_uri": "https://localhost:8080/",
          "height": 300
        },
        "id": "5HZucyOiaFGh",
        "outputId": "20a275ff-f505-4a88-f580-a20458754645"
      },
      "execution_count": 36,
      "outputs": [
        {
          "output_type": "execute_result",
          "data": {
            "text/plain": [
              "             Actual     Predicted\n",
              "count  15000.000000  15000.000000\n",
              "mean       2.136267      2.145400\n",
              "std        0.474531      0.492891\n",
              "min        1.000000      1.000000\n",
              "25%        2.000000      2.000000\n",
              "50%        2.000000      2.000000\n",
              "75%        2.000000      2.000000\n",
              "max        4.000000      4.000000"
            ],
            "text/html": [
              "\n",
              "  <div id=\"df-32d60c4e-a188-4085-9e06-c2b2ec9812c5\" class=\"colab-df-container\">\n",
              "    <div>\n",
              "<style scoped>\n",
              "    .dataframe tbody tr th:only-of-type {\n",
              "        vertical-align: middle;\n",
              "    }\n",
              "\n",
              "    .dataframe tbody tr th {\n",
              "        vertical-align: top;\n",
              "    }\n",
              "\n",
              "    .dataframe thead th {\n",
              "        text-align: right;\n",
              "    }\n",
              "</style>\n",
              "<table border=\"1\" class=\"dataframe\">\n",
              "  <thead>\n",
              "    <tr style=\"text-align: right;\">\n",
              "      <th></th>\n",
              "      <th>Actual</th>\n",
              "      <th>Predicted</th>\n",
              "    </tr>\n",
              "  </thead>\n",
              "  <tbody>\n",
              "    <tr>\n",
              "      <th>count</th>\n",
              "      <td>15000.000000</td>\n",
              "      <td>15000.000000</td>\n",
              "    </tr>\n",
              "    <tr>\n",
              "      <th>mean</th>\n",
              "      <td>2.136267</td>\n",
              "      <td>2.145400</td>\n",
              "    </tr>\n",
              "    <tr>\n",
              "      <th>std</th>\n",
              "      <td>0.474531</td>\n",
              "      <td>0.492891</td>\n",
              "    </tr>\n",
              "    <tr>\n",
              "      <th>min</th>\n",
              "      <td>1.000000</td>\n",
              "      <td>1.000000</td>\n",
              "    </tr>\n",
              "    <tr>\n",
              "      <th>25%</th>\n",
              "      <td>2.000000</td>\n",
              "      <td>2.000000</td>\n",
              "    </tr>\n",
              "    <tr>\n",
              "      <th>50%</th>\n",
              "      <td>2.000000</td>\n",
              "      <td>2.000000</td>\n",
              "    </tr>\n",
              "    <tr>\n",
              "      <th>75%</th>\n",
              "      <td>2.000000</td>\n",
              "      <td>2.000000</td>\n",
              "    </tr>\n",
              "    <tr>\n",
              "      <th>max</th>\n",
              "      <td>4.000000</td>\n",
              "      <td>4.000000</td>\n",
              "    </tr>\n",
              "  </tbody>\n",
              "</table>\n",
              "</div>\n",
              "    <div class=\"colab-df-buttons\">\n",
              "\n",
              "  <div class=\"colab-df-container\">\n",
              "    <button class=\"colab-df-convert\" onclick=\"convertToInteractive('df-32d60c4e-a188-4085-9e06-c2b2ec9812c5')\"\n",
              "            title=\"Convert this dataframe to an interactive table.\"\n",
              "            style=\"display:none;\">\n",
              "\n",
              "  <svg xmlns=\"http://www.w3.org/2000/svg\" height=\"24px\" viewBox=\"0 -960 960 960\">\n",
              "    <path d=\"M120-120v-720h720v720H120Zm60-500h600v-160H180v160Zm220 220h160v-160H400v160Zm0 220h160v-160H400v160ZM180-400h160v-160H180v160Zm440 0h160v-160H620v160ZM180-180h160v-160H180v160Zm440 0h160v-160H620v160Z\"/>\n",
              "  </svg>\n",
              "    </button>\n",
              "\n",
              "  <style>\n",
              "    .colab-df-container {\n",
              "      display:flex;\n",
              "      gap: 12px;\n",
              "    }\n",
              "\n",
              "    .colab-df-convert {\n",
              "      background-color: #E8F0FE;\n",
              "      border: none;\n",
              "      border-radius: 50%;\n",
              "      cursor: pointer;\n",
              "      display: none;\n",
              "      fill: #1967D2;\n",
              "      height: 32px;\n",
              "      padding: 0 0 0 0;\n",
              "      width: 32px;\n",
              "    }\n",
              "\n",
              "    .colab-df-convert:hover {\n",
              "      background-color: #E2EBFA;\n",
              "      box-shadow: 0px 1px 2px rgba(60, 64, 67, 0.3), 0px 1px 3px 1px rgba(60, 64, 67, 0.15);\n",
              "      fill: #174EA6;\n",
              "    }\n",
              "\n",
              "    .colab-df-buttons div {\n",
              "      margin-bottom: 4px;\n",
              "    }\n",
              "\n",
              "    [theme=dark] .colab-df-convert {\n",
              "      background-color: #3B4455;\n",
              "      fill: #D2E3FC;\n",
              "    }\n",
              "\n",
              "    [theme=dark] .colab-df-convert:hover {\n",
              "      background-color: #434B5C;\n",
              "      box-shadow: 0px 1px 3px 1px rgba(0, 0, 0, 0.15);\n",
              "      filter: drop-shadow(0px 1px 2px rgba(0, 0, 0, 0.3));\n",
              "      fill: #FFFFFF;\n",
              "    }\n",
              "  </style>\n",
              "\n",
              "    <script>\n",
              "      const buttonEl =\n",
              "        document.querySelector('#df-32d60c4e-a188-4085-9e06-c2b2ec9812c5 button.colab-df-convert');\n",
              "      buttonEl.style.display =\n",
              "        google.colab.kernel.accessAllowed ? 'block' : 'none';\n",
              "\n",
              "      async function convertToInteractive(key) {\n",
              "        const element = document.querySelector('#df-32d60c4e-a188-4085-9e06-c2b2ec9812c5');\n",
              "        const dataTable =\n",
              "          await google.colab.kernel.invokeFunction('convertToInteractive',\n",
              "                                                    [key], {});\n",
              "        if (!dataTable) return;\n",
              "\n",
              "        const docLinkHtml = 'Like what you see? Visit the ' +\n",
              "          '<a target=\"_blank\" href=https://colab.research.google.com/notebooks/data_table.ipynb>data table notebook</a>'\n",
              "          + ' to learn more about interactive tables.';\n",
              "        element.innerHTML = '';\n",
              "        dataTable['output_type'] = 'display_data';\n",
              "        await google.colab.output.renderOutput(dataTable, element);\n",
              "        const docLink = document.createElement('div');\n",
              "        docLink.innerHTML = docLinkHtml;\n",
              "        element.appendChild(docLink);\n",
              "      }\n",
              "    </script>\n",
              "  </div>\n",
              "\n",
              "\n",
              "<div id=\"df-b12729df-c686-46ee-861f-6201da4d0436\">\n",
              "  <button class=\"colab-df-quickchart\" onclick=\"quickchart('df-b12729df-c686-46ee-861f-6201da4d0436')\"\n",
              "            title=\"Suggest charts.\"\n",
              "            style=\"display:none;\">\n",
              "\n",
              "<svg xmlns=\"http://www.w3.org/2000/svg\" height=\"24px\"viewBox=\"0 0 24 24\"\n",
              "     width=\"24px\">\n",
              "    <g>\n",
              "        <path d=\"M19 3H5c-1.1 0-2 .9-2 2v14c0 1.1.9 2 2 2h14c1.1 0 2-.9 2-2V5c0-1.1-.9-2-2-2zM9 17H7v-7h2v7zm4 0h-2V7h2v10zm4 0h-2v-4h2v4z\"/>\n",
              "    </g>\n",
              "</svg>\n",
              "  </button>\n",
              "\n",
              "<style>\n",
              "  .colab-df-quickchart {\n",
              "      --bg-color: #E8F0FE;\n",
              "      --fill-color: #1967D2;\n",
              "      --hover-bg-color: #E2EBFA;\n",
              "      --hover-fill-color: #174EA6;\n",
              "      --disabled-fill-color: #AAA;\n",
              "      --disabled-bg-color: #DDD;\n",
              "  }\n",
              "\n",
              "  [theme=dark] .colab-df-quickchart {\n",
              "      --bg-color: #3B4455;\n",
              "      --fill-color: #D2E3FC;\n",
              "      --hover-bg-color: #434B5C;\n",
              "      --hover-fill-color: #FFFFFF;\n",
              "      --disabled-bg-color: #3B4455;\n",
              "      --disabled-fill-color: #666;\n",
              "  }\n",
              "\n",
              "  .colab-df-quickchart {\n",
              "    background-color: var(--bg-color);\n",
              "    border: none;\n",
              "    border-radius: 50%;\n",
              "    cursor: pointer;\n",
              "    display: none;\n",
              "    fill: var(--fill-color);\n",
              "    height: 32px;\n",
              "    padding: 0;\n",
              "    width: 32px;\n",
              "  }\n",
              "\n",
              "  .colab-df-quickchart:hover {\n",
              "    background-color: var(--hover-bg-color);\n",
              "    box-shadow: 0 1px 2px rgba(60, 64, 67, 0.3), 0 1px 3px 1px rgba(60, 64, 67, 0.15);\n",
              "    fill: var(--button-hover-fill-color);\n",
              "  }\n",
              "\n",
              "  .colab-df-quickchart-complete:disabled,\n",
              "  .colab-df-quickchart-complete:disabled:hover {\n",
              "    background-color: var(--disabled-bg-color);\n",
              "    fill: var(--disabled-fill-color);\n",
              "    box-shadow: none;\n",
              "  }\n",
              "\n",
              "  .colab-df-spinner {\n",
              "    border: 2px solid var(--fill-color);\n",
              "    border-color: transparent;\n",
              "    border-bottom-color: var(--fill-color);\n",
              "    animation:\n",
              "      spin 1s steps(1) infinite;\n",
              "  }\n",
              "\n",
              "  @keyframes spin {\n",
              "    0% {\n",
              "      border-color: transparent;\n",
              "      border-bottom-color: var(--fill-color);\n",
              "      border-left-color: var(--fill-color);\n",
              "    }\n",
              "    20% {\n",
              "      border-color: transparent;\n",
              "      border-left-color: var(--fill-color);\n",
              "      border-top-color: var(--fill-color);\n",
              "    }\n",
              "    30% {\n",
              "      border-color: transparent;\n",
              "      border-left-color: var(--fill-color);\n",
              "      border-top-color: var(--fill-color);\n",
              "      border-right-color: var(--fill-color);\n",
              "    }\n",
              "    40% {\n",
              "      border-color: transparent;\n",
              "      border-right-color: var(--fill-color);\n",
              "      border-top-color: var(--fill-color);\n",
              "    }\n",
              "    60% {\n",
              "      border-color: transparent;\n",
              "      border-right-color: var(--fill-color);\n",
              "    }\n",
              "    80% {\n",
              "      border-color: transparent;\n",
              "      border-right-color: var(--fill-color);\n",
              "      border-bottom-color: var(--fill-color);\n",
              "    }\n",
              "    90% {\n",
              "      border-color: transparent;\n",
              "      border-bottom-color: var(--fill-color);\n",
              "    }\n",
              "  }\n",
              "</style>\n",
              "\n",
              "  <script>\n",
              "    async function quickchart(key) {\n",
              "      const quickchartButtonEl =\n",
              "        document.querySelector('#' + key + ' button');\n",
              "      quickchartButtonEl.disabled = true;  // To prevent multiple clicks.\n",
              "      quickchartButtonEl.classList.add('colab-df-spinner');\n",
              "      try {\n",
              "        const charts = await google.colab.kernel.invokeFunction(\n",
              "            'suggestCharts', [key], {});\n",
              "      } catch (error) {\n",
              "        console.error('Error during call to suggestCharts:', error);\n",
              "      }\n",
              "      quickchartButtonEl.classList.remove('colab-df-spinner');\n",
              "      quickchartButtonEl.classList.add('colab-df-quickchart-complete');\n",
              "    }\n",
              "    (() => {\n",
              "      let quickchartButtonEl =\n",
              "        document.querySelector('#df-b12729df-c686-46ee-861f-6201da4d0436 button');\n",
              "      quickchartButtonEl.style.display =\n",
              "        google.colab.kernel.accessAllowed ? 'block' : 'none';\n",
              "    })();\n",
              "  </script>\n",
              "</div>\n",
              "    </div>\n",
              "  </div>\n"
            ]
          },
          "metadata": {},
          "execution_count": 36
        }
      ]
    },
    {
      "cell_type": "code",
      "source": [
        "dfs.info()"
      ],
      "metadata": {
        "colab": {
          "base_uri": "https://localhost:8080/"
        },
        "id": "9Il5q_L0afdX",
        "outputId": "3e4f531c-9d86-46d2-f593-2d33b13ed82e"
      },
      "execution_count": 37,
      "outputs": [
        {
          "output_type": "stream",
          "name": "stdout",
          "text": [
            "<class 'pandas.core.frame.DataFrame'>\n",
            "Int64Index: 15000 entries, 1237286 to 188301\n",
            "Data columns (total 2 columns):\n",
            " #   Column     Non-Null Count  Dtype\n",
            "---  ------     --------------  -----\n",
            " 0   Actual     15000 non-null  int64\n",
            " 1   Predicted  15000 non-null  int64\n",
            "dtypes: int64(2)\n",
            "memory usage: 351.6 KB\n"
          ]
        }
      ]
    },
    {
      "cell_type": "code",
      "source": [
        "###Completar\n",
        "from sklearn.metrics import precision_score\n",
        "precision_score(y_test, y_test_pred, pos_label='positive', average='micro')"
      ],
      "metadata": {
        "colab": {
          "base_uri": "https://localhost:8080/"
        },
        "id": "0UxzxcCbhYcn",
        "outputId": "f87df0f4-edaa-42fa-8e5f-a80af5aec963"
      },
      "execution_count": 38,
      "outputs": [
        {
          "output_type": "execute_result",
          "data": {
            "text/plain": [
              "0.8402"
            ]
          },
          "metadata": {},
          "execution_count": 38
        }
      ]
    },
    {
      "cell_type": "markdown",
      "source": [
        "4.Calcular la métrica F1 score"
      ],
      "metadata": {
        "id": "9zQuJDufh2v0"
      }
    },
    {
      "cell_type": "code",
      "source": [
        "###Completar\n",
        "from sklearn.metrics import recall_score\n",
        "recall_score(y_test, y_test_pred, pos_label='positive', average='micro')"
      ],
      "metadata": {
        "colab": {
          "base_uri": "https://localhost:8080/"
        },
        "id": "iq1s2uioh3bH",
        "outputId": "1893d993-ebf6-48ca-d382-a0be518216cf"
      },
      "execution_count": 39,
      "outputs": [
        {
          "output_type": "execute_result",
          "data": {
            "text/plain": [
              "0.8402"
            ]
          },
          "metadata": {},
          "execution_count": 39
        }
      ]
    },
    {
      "cell_type": "code",
      "source": [
        "from sklearn.metrics import f1_score\n",
        "f1_score(y_test, y_test_pred, pos_label='positive', average='micro')"
      ],
      "metadata": {
        "colab": {
          "base_uri": "https://localhost:8080/"
        },
        "id": "QRK2GKRCh8gX",
        "outputId": "9e47546f-e11f-410f-8e33-7edb7d0ca1cd"
      },
      "execution_count": 40,
      "outputs": [
        {
          "output_type": "execute_result",
          "data": {
            "text/plain": [
              "0.8402"
            ]
          },
          "metadata": {},
          "execution_count": 40
        }
      ]
    },
    {
      "cell_type": "markdown",
      "source": [
        "# Random Forest"
      ],
      "metadata": {
        "id": "BnU_lSeEiBg-"
      }
    },
    {
      "cell_type": "code",
      "source": [
        "#Creamos un random forest!\n",
        "model = RandomForestClassifier(random_state=42, n_estimators=100,\n",
        "                               class_weight=\"balanced\", max_features=\"log2\")\n",
        "model.fit(X_train, y_train)"
      ],
      "metadata": {
        "colab": {
          "base_uri": "https://localhost:8080/",
          "height": 92
        },
        "id": "M3spRtHHiEWN",
        "outputId": "3d6e15d9-3523-4e7a-c91a-1ac8b7c03344"
      },
      "execution_count": 41,
      "outputs": [
        {
          "output_type": "execute_result",
          "data": {
            "text/plain": [
              "RandomForestClassifier(class_weight='balanced', max_features='log2',\n",
              "                       random_state=42)"
            ],
            "text/html": [
              "<style>#sk-container-id-3 {color: black;background-color: white;}#sk-container-id-3 pre{padding: 0;}#sk-container-id-3 div.sk-toggleable {background-color: white;}#sk-container-id-3 label.sk-toggleable__label {cursor: pointer;display: block;width: 100%;margin-bottom: 0;padding: 0.3em;box-sizing: border-box;text-align: center;}#sk-container-id-3 label.sk-toggleable__label-arrow:before {content: \"▸\";float: left;margin-right: 0.25em;color: #696969;}#sk-container-id-3 label.sk-toggleable__label-arrow:hover:before {color: black;}#sk-container-id-3 div.sk-estimator:hover label.sk-toggleable__label-arrow:before {color: black;}#sk-container-id-3 div.sk-toggleable__content {max-height: 0;max-width: 0;overflow: hidden;text-align: left;background-color: #f0f8ff;}#sk-container-id-3 div.sk-toggleable__content pre {margin: 0.2em;color: black;border-radius: 0.25em;background-color: #f0f8ff;}#sk-container-id-3 input.sk-toggleable__control:checked~div.sk-toggleable__content {max-height: 200px;max-width: 100%;overflow: auto;}#sk-container-id-3 input.sk-toggleable__control:checked~label.sk-toggleable__label-arrow:before {content: \"▾\";}#sk-container-id-3 div.sk-estimator input.sk-toggleable__control:checked~label.sk-toggleable__label {background-color: #d4ebff;}#sk-container-id-3 div.sk-label input.sk-toggleable__control:checked~label.sk-toggleable__label {background-color: #d4ebff;}#sk-container-id-3 input.sk-hidden--visually {border: 0;clip: rect(1px 1px 1px 1px);clip: rect(1px, 1px, 1px, 1px);height: 1px;margin: -1px;overflow: hidden;padding: 0;position: absolute;width: 1px;}#sk-container-id-3 div.sk-estimator {font-family: monospace;background-color: #f0f8ff;border: 1px dotted black;border-radius: 0.25em;box-sizing: border-box;margin-bottom: 0.5em;}#sk-container-id-3 div.sk-estimator:hover {background-color: #d4ebff;}#sk-container-id-3 div.sk-parallel-item::after {content: \"\";width: 100%;border-bottom: 1px solid gray;flex-grow: 1;}#sk-container-id-3 div.sk-label:hover label.sk-toggleable__label {background-color: #d4ebff;}#sk-container-id-3 div.sk-serial::before {content: \"\";position: absolute;border-left: 1px solid gray;box-sizing: border-box;top: 0;bottom: 0;left: 50%;z-index: 0;}#sk-container-id-3 div.sk-serial {display: flex;flex-direction: column;align-items: center;background-color: white;padding-right: 0.2em;padding-left: 0.2em;position: relative;}#sk-container-id-3 div.sk-item {position: relative;z-index: 1;}#sk-container-id-3 div.sk-parallel {display: flex;align-items: stretch;justify-content: center;background-color: white;position: relative;}#sk-container-id-3 div.sk-item::before, #sk-container-id-3 div.sk-parallel-item::before {content: \"\";position: absolute;border-left: 1px solid gray;box-sizing: border-box;top: 0;bottom: 0;left: 50%;z-index: -1;}#sk-container-id-3 div.sk-parallel-item {display: flex;flex-direction: column;z-index: 1;position: relative;background-color: white;}#sk-container-id-3 div.sk-parallel-item:first-child::after {align-self: flex-end;width: 50%;}#sk-container-id-3 div.sk-parallel-item:last-child::after {align-self: flex-start;width: 50%;}#sk-container-id-3 div.sk-parallel-item:only-child::after {width: 0;}#sk-container-id-3 div.sk-dashed-wrapped {border: 1px dashed gray;margin: 0 0.4em 0.5em 0.4em;box-sizing: border-box;padding-bottom: 0.4em;background-color: white;}#sk-container-id-3 div.sk-label label {font-family: monospace;font-weight: bold;display: inline-block;line-height: 1.2em;}#sk-container-id-3 div.sk-label-container {text-align: center;}#sk-container-id-3 div.sk-container {/* jupyter's `normalize.less` sets `[hidden] { display: none; }` but bootstrap.min.css set `[hidden] { display: none !important; }` so we also need the `!important` here to be able to override the default hidden behavior on the sphinx rendered scikit-learn.org. See: https://github.com/scikit-learn/scikit-learn/issues/21755 */display: inline-block !important;position: relative;}#sk-container-id-3 div.sk-text-repr-fallback {display: none;}</style><div id=\"sk-container-id-3\" class=\"sk-top-container\"><div class=\"sk-text-repr-fallback\"><pre>RandomForestClassifier(class_weight=&#x27;balanced&#x27;, max_features=&#x27;log2&#x27;,\n",
              "                       random_state=42)</pre><b>In a Jupyter environment, please rerun this cell to show the HTML representation or trust the notebook. <br />On GitHub, the HTML representation is unable to render, please try loading this page with nbviewer.org.</b></div><div class=\"sk-container\" hidden><div class=\"sk-item\"><div class=\"sk-estimator sk-toggleable\"><input class=\"sk-toggleable__control sk-hidden--visually\" id=\"sk-estimator-id-3\" type=\"checkbox\" checked><label for=\"sk-estimator-id-3\" class=\"sk-toggleable__label sk-toggleable__label-arrow\">RandomForestClassifier</label><div class=\"sk-toggleable__content\"><pre>RandomForestClassifier(class_weight=&#x27;balanced&#x27;, max_features=&#x27;log2&#x27;,\n",
              "                       random_state=42)</pre></div></div></div></div></div>"
            ]
          },
          "metadata": {},
          "execution_count": 41
        }
      ]
    },
    {
      "cell_type": "code",
      "source": [
        "y_test_pred = model.predict(X_test) #Prediccion en Test"
      ],
      "metadata": {
        "id": "2bQXJxy7iJLN"
      },
      "execution_count": 42,
      "outputs": []
    },
    {
      "cell_type": "markdown",
      "source": [
        "1.Calcular la métrica Accuracy."
      ],
      "metadata": {
        "id": "r76tWf9AiNlf"
      }
    },
    {
      "cell_type": "code",
      "source": [
        "###Completar\n",
        "from sklearn.metrics import accuracy_score\n",
        "accuracy_score(y_test,y_test_pred)"
      ],
      "metadata": {
        "colab": {
          "base_uri": "https://localhost:8080/"
        },
        "id": "24_MmnKviPzt",
        "outputId": "ee4f5015-1745-4582-ae5a-4f7b8d5568d2"
      },
      "execution_count": 43,
      "outputs": [
        {
          "output_type": "execute_result",
          "data": {
            "text/plain": [
              "0.8996"
            ]
          },
          "metadata": {},
          "execution_count": 43
        }
      ]
    },
    {
      "cell_type": "markdown",
      "source": [
        "2. Calcular la métrica Precision"
      ],
      "metadata": {
        "id": "DXe4chjcimO9"
      }
    },
    {
      "cell_type": "code",
      "source": [
        "###Completar\n",
        "from sklearn.metrics import precision_score\n",
        "precision_score(y_test, y_test_pred, pos_label='positive', average='micro')"
      ],
      "metadata": {
        "colab": {
          "base_uri": "https://localhost:8080/"
        },
        "id": "L-lcZ53UigIV",
        "outputId": "2cfb42fe-80c0-424b-d02e-5c85254e9a6b"
      },
      "execution_count": 44,
      "outputs": [
        {
          "output_type": "execute_result",
          "data": {
            "text/plain": [
              "0.8996"
            ]
          },
          "metadata": {},
          "execution_count": 44
        }
      ]
    },
    {
      "cell_type": "markdown",
      "source": [
        "3. Calcular la métrica Recall"
      ],
      "metadata": {
        "id": "A5t88t1aigzw"
      }
    },
    {
      "cell_type": "code",
      "source": [
        "###Completar\n",
        "from sklearn.metrics import recall_score\n",
        "recall_score(y_test, y_test_pred, pos_label='positive', average='micro')"
      ],
      "metadata": {
        "colab": {
          "base_uri": "https://localhost:8080/"
        },
        "id": "ErvtSMjxihI9",
        "outputId": "7d233889-714f-4e31-a0f7-995189cea6a2"
      },
      "execution_count": 45,
      "outputs": [
        {
          "output_type": "execute_result",
          "data": {
            "text/plain": [
              "0.8996"
            ]
          },
          "metadata": {},
          "execution_count": 45
        }
      ]
    },
    {
      "cell_type": "markdown",
      "source": [
        "4. Calcular la métrica F1 Score"
      ],
      "metadata": {
        "id": "cOSd3M4Uihau"
      }
    },
    {
      "cell_type": "code",
      "source": [
        "###Completar\n",
        "from sklearn.metrics import f1_score\n",
        "f1_score(y_test, y_test_pred, pos_label='positive', average='micro')"
      ],
      "metadata": {
        "colab": {
          "base_uri": "https://localhost:8080/"
        },
        "id": "FjSlujfkihwN",
        "outputId": "c3a03452-36b9-43d8-946d-2b85e075f0c6"
      },
      "execution_count": 46,
      "outputs": [
        {
          "output_type": "execute_result",
          "data": {
            "text/plain": [
              "0.8996"
            ]
          },
          "metadata": {},
          "execution_count": 46
        }
      ]
    },
    {
      "cell_type": "markdown",
      "source": [
        "# SVM"
      ],
      "metadata": {
        "id": "llsKeL__jarV"
      }
    },
    {
      "cell_type": "code",
      "source": [
        "# Tratamiento de datos\n",
        "# ==============================================================================\n",
        "import pandas as pd\n",
        "import numpy as np\n",
        "\n",
        "# Preprocesado y modelado\n",
        "# ==============================================================================\n",
        "from sklearn.svm import SVC\n",
        "from sklearn.model_selection import train_test_split\n",
        "from sklearn.metrics import accuracy_score\n",
        "\n",
        "# Configuración warnings\n",
        "# ==============================================================================\n",
        "import warnings\n",
        "warnings.filterwarnings('ignore')"
      ],
      "metadata": {
        "id": "Y5IJnYgVjird"
      },
      "execution_count": 47,
      "outputs": []
    },
    {
      "cell_type": "markdown",
      "source": [
        "**Usaremos DF_NUM como df de datos**\n",
        "\n"
      ],
      "metadata": {
        "id": "0OPmgzf9jot2"
      }
    },
    {
      "cell_type": "code",
      "source": [
        "# División de los datos en train y test\n",
        "X"
      ],
      "metadata": {
        "colab": {
          "base_uri": "https://localhost:8080/",
          "height": 444
        },
        "id": "5ncgujQ-jyjm",
        "outputId": "0f84eb98-e0a2-489a-e870-a2c7fd790390"
      },
      "execution_count": 48,
      "outputs": [
        {
          "output_type": "execute_result",
          "data": {
            "text/plain": [
              "         Start_Lat   Start_Lng    End_Lat     End_Lng  Distance(mi)   Number  \\\n",
              "2623549  40.242906 -103.923214  40.252900 -103.882455         2.258      0.0   \n",
              "2816530  36.872350  -76.195640  36.878800  -76.201930         0.565      0.0   \n",
              "736928   34.031685 -118.418744  34.031315 -118.413174         0.320      0.0   \n",
              "1016780  25.940088  -80.269429  25.940025  -80.270868         0.090      0.0   \n",
              "2039914  35.066361  -80.990597  35.067272  -80.990373         0.064   3070.0   \n",
              "...            ...         ...        ...         ...           ...      ...   \n",
              "593886   34.106752  -80.917149  34.105736  -80.916430         0.081      2.0   \n",
              "2170714  34.068283 -118.150994  34.068283 -118.150994         0.000      0.0   \n",
              "526345   40.439783  -78.240090  40.422593  -78.269610         1.955   2100.0   \n",
              "415273   29.767356  -95.212565  29.768007  -95.213191         0.059  12615.0   \n",
              "302079   26.653057  -81.911423  26.656283  -81.908268         0.296   1898.0   \n",
              "\n",
              "         Temperature(F)  Wind_Chill(F)  Humidity(%)  Pressure(in)  \\\n",
              "2623549            56.7            0.0         49.0         30.30   \n",
              "2816530            74.0           74.0         97.0         29.86   \n",
              "736928             54.0           54.0         75.0         29.88   \n",
              "1016780            79.0           79.0         56.0         30.02   \n",
              "2039914            50.0           50.0         77.0         29.36   \n",
              "...                 ...            ...          ...           ...   \n",
              "593886             69.0           69.0         27.0         30.13   \n",
              "2170714            72.0           72.0         57.0         29.81   \n",
              "526345             40.0           40.0         77.0         28.48   \n",
              "415273             81.0           81.0         79.0         29.85   \n",
              "302079             83.0           83.0         49.0         29.82   \n",
              "\n",
              "         Visibility(mi)  Wind_Speed(mph)  Precipitation(in)  Stop  \n",
              "2623549            10.0              6.9                0.0     0  \n",
              "2816530             8.0              8.0                0.0     0  \n",
              "736928             10.0              6.0                0.0     0  \n",
              "1016780            10.0             12.0                0.0     0  \n",
              "2039914            10.0              0.0                0.0     0  \n",
              "...                 ...              ...                ...   ...  \n",
              "593886             10.0              6.0                0.0     0  \n",
              "2170714            10.0              3.0                0.0     0  \n",
              "526345             10.0              3.0                0.0     0  \n",
              "415273             10.0              8.0                0.0     0  \n",
              "302079             10.0             10.0                0.0     0  \n",
              "\n",
              "[50000 rows x 14 columns]"
            ],
            "text/html": [
              "\n",
              "  <div id=\"df-8cfc5146-ad73-4782-bf14-0df701b123f1\" class=\"colab-df-container\">\n",
              "    <div>\n",
              "<style scoped>\n",
              "    .dataframe tbody tr th:only-of-type {\n",
              "        vertical-align: middle;\n",
              "    }\n",
              "\n",
              "    .dataframe tbody tr th {\n",
              "        vertical-align: top;\n",
              "    }\n",
              "\n",
              "    .dataframe thead th {\n",
              "        text-align: right;\n",
              "    }\n",
              "</style>\n",
              "<table border=\"1\" class=\"dataframe\">\n",
              "  <thead>\n",
              "    <tr style=\"text-align: right;\">\n",
              "      <th></th>\n",
              "      <th>Start_Lat</th>\n",
              "      <th>Start_Lng</th>\n",
              "      <th>End_Lat</th>\n",
              "      <th>End_Lng</th>\n",
              "      <th>Distance(mi)</th>\n",
              "      <th>Number</th>\n",
              "      <th>Temperature(F)</th>\n",
              "      <th>Wind_Chill(F)</th>\n",
              "      <th>Humidity(%)</th>\n",
              "      <th>Pressure(in)</th>\n",
              "      <th>Visibility(mi)</th>\n",
              "      <th>Wind_Speed(mph)</th>\n",
              "      <th>Precipitation(in)</th>\n",
              "      <th>Stop</th>\n",
              "    </tr>\n",
              "  </thead>\n",
              "  <tbody>\n",
              "    <tr>\n",
              "      <th>2623549</th>\n",
              "      <td>40.242906</td>\n",
              "      <td>-103.923214</td>\n",
              "      <td>40.252900</td>\n",
              "      <td>-103.882455</td>\n",
              "      <td>2.258</td>\n",
              "      <td>0.0</td>\n",
              "      <td>56.7</td>\n",
              "      <td>0.0</td>\n",
              "      <td>49.0</td>\n",
              "      <td>30.30</td>\n",
              "      <td>10.0</td>\n",
              "      <td>6.9</td>\n",
              "      <td>0.0</td>\n",
              "      <td>0</td>\n",
              "    </tr>\n",
              "    <tr>\n",
              "      <th>2816530</th>\n",
              "      <td>36.872350</td>\n",
              "      <td>-76.195640</td>\n",
              "      <td>36.878800</td>\n",
              "      <td>-76.201930</td>\n",
              "      <td>0.565</td>\n",
              "      <td>0.0</td>\n",
              "      <td>74.0</td>\n",
              "      <td>74.0</td>\n",
              "      <td>97.0</td>\n",
              "      <td>29.86</td>\n",
              "      <td>8.0</td>\n",
              "      <td>8.0</td>\n",
              "      <td>0.0</td>\n",
              "      <td>0</td>\n",
              "    </tr>\n",
              "    <tr>\n",
              "      <th>736928</th>\n",
              "      <td>34.031685</td>\n",
              "      <td>-118.418744</td>\n",
              "      <td>34.031315</td>\n",
              "      <td>-118.413174</td>\n",
              "      <td>0.320</td>\n",
              "      <td>0.0</td>\n",
              "      <td>54.0</td>\n",
              "      <td>54.0</td>\n",
              "      <td>75.0</td>\n",
              "      <td>29.88</td>\n",
              "      <td>10.0</td>\n",
              "      <td>6.0</td>\n",
              "      <td>0.0</td>\n",
              "      <td>0</td>\n",
              "    </tr>\n",
              "    <tr>\n",
              "      <th>1016780</th>\n",
              "      <td>25.940088</td>\n",
              "      <td>-80.269429</td>\n",
              "      <td>25.940025</td>\n",
              "      <td>-80.270868</td>\n",
              "      <td>0.090</td>\n",
              "      <td>0.0</td>\n",
              "      <td>79.0</td>\n",
              "      <td>79.0</td>\n",
              "      <td>56.0</td>\n",
              "      <td>30.02</td>\n",
              "      <td>10.0</td>\n",
              "      <td>12.0</td>\n",
              "      <td>0.0</td>\n",
              "      <td>0</td>\n",
              "    </tr>\n",
              "    <tr>\n",
              "      <th>2039914</th>\n",
              "      <td>35.066361</td>\n",
              "      <td>-80.990597</td>\n",
              "      <td>35.067272</td>\n",
              "      <td>-80.990373</td>\n",
              "      <td>0.064</td>\n",
              "      <td>3070.0</td>\n",
              "      <td>50.0</td>\n",
              "      <td>50.0</td>\n",
              "      <td>77.0</td>\n",
              "      <td>29.36</td>\n",
              "      <td>10.0</td>\n",
              "      <td>0.0</td>\n",
              "      <td>0.0</td>\n",
              "      <td>0</td>\n",
              "    </tr>\n",
              "    <tr>\n",
              "      <th>...</th>\n",
              "      <td>...</td>\n",
              "      <td>...</td>\n",
              "      <td>...</td>\n",
              "      <td>...</td>\n",
              "      <td>...</td>\n",
              "      <td>...</td>\n",
              "      <td>...</td>\n",
              "      <td>...</td>\n",
              "      <td>...</td>\n",
              "      <td>...</td>\n",
              "      <td>...</td>\n",
              "      <td>...</td>\n",
              "      <td>...</td>\n",
              "      <td>...</td>\n",
              "    </tr>\n",
              "    <tr>\n",
              "      <th>593886</th>\n",
              "      <td>34.106752</td>\n",
              "      <td>-80.917149</td>\n",
              "      <td>34.105736</td>\n",
              "      <td>-80.916430</td>\n",
              "      <td>0.081</td>\n",
              "      <td>2.0</td>\n",
              "      <td>69.0</td>\n",
              "      <td>69.0</td>\n",
              "      <td>27.0</td>\n",
              "      <td>30.13</td>\n",
              "      <td>10.0</td>\n",
              "      <td>6.0</td>\n",
              "      <td>0.0</td>\n",
              "      <td>0</td>\n",
              "    </tr>\n",
              "    <tr>\n",
              "      <th>2170714</th>\n",
              "      <td>34.068283</td>\n",
              "      <td>-118.150994</td>\n",
              "      <td>34.068283</td>\n",
              "      <td>-118.150994</td>\n",
              "      <td>0.000</td>\n",
              "      <td>0.0</td>\n",
              "      <td>72.0</td>\n",
              "      <td>72.0</td>\n",
              "      <td>57.0</td>\n",
              "      <td>29.81</td>\n",
              "      <td>10.0</td>\n",
              "      <td>3.0</td>\n",
              "      <td>0.0</td>\n",
              "      <td>0</td>\n",
              "    </tr>\n",
              "    <tr>\n",
              "      <th>526345</th>\n",
              "      <td>40.439783</td>\n",
              "      <td>-78.240090</td>\n",
              "      <td>40.422593</td>\n",
              "      <td>-78.269610</td>\n",
              "      <td>1.955</td>\n",
              "      <td>2100.0</td>\n",
              "      <td>40.0</td>\n",
              "      <td>40.0</td>\n",
              "      <td>77.0</td>\n",
              "      <td>28.48</td>\n",
              "      <td>10.0</td>\n",
              "      <td>3.0</td>\n",
              "      <td>0.0</td>\n",
              "      <td>0</td>\n",
              "    </tr>\n",
              "    <tr>\n",
              "      <th>415273</th>\n",
              "      <td>29.767356</td>\n",
              "      <td>-95.212565</td>\n",
              "      <td>29.768007</td>\n",
              "      <td>-95.213191</td>\n",
              "      <td>0.059</td>\n",
              "      <td>12615.0</td>\n",
              "      <td>81.0</td>\n",
              "      <td>81.0</td>\n",
              "      <td>79.0</td>\n",
              "      <td>29.85</td>\n",
              "      <td>10.0</td>\n",
              "      <td>8.0</td>\n",
              "      <td>0.0</td>\n",
              "      <td>0</td>\n",
              "    </tr>\n",
              "    <tr>\n",
              "      <th>302079</th>\n",
              "      <td>26.653057</td>\n",
              "      <td>-81.911423</td>\n",
              "      <td>26.656283</td>\n",
              "      <td>-81.908268</td>\n",
              "      <td>0.296</td>\n",
              "      <td>1898.0</td>\n",
              "      <td>83.0</td>\n",
              "      <td>83.0</td>\n",
              "      <td>49.0</td>\n",
              "      <td>29.82</td>\n",
              "      <td>10.0</td>\n",
              "      <td>10.0</td>\n",
              "      <td>0.0</td>\n",
              "      <td>0</td>\n",
              "    </tr>\n",
              "  </tbody>\n",
              "</table>\n",
              "<p>50000 rows × 14 columns</p>\n",
              "</div>\n",
              "    <div class=\"colab-df-buttons\">\n",
              "\n",
              "  <div class=\"colab-df-container\">\n",
              "    <button class=\"colab-df-convert\" onclick=\"convertToInteractive('df-8cfc5146-ad73-4782-bf14-0df701b123f1')\"\n",
              "            title=\"Convert this dataframe to an interactive table.\"\n",
              "            style=\"display:none;\">\n",
              "\n",
              "  <svg xmlns=\"http://www.w3.org/2000/svg\" height=\"24px\" viewBox=\"0 -960 960 960\">\n",
              "    <path d=\"M120-120v-720h720v720H120Zm60-500h600v-160H180v160Zm220 220h160v-160H400v160Zm0 220h160v-160H400v160ZM180-400h160v-160H180v160Zm440 0h160v-160H620v160ZM180-180h160v-160H180v160Zm440 0h160v-160H620v160Z\"/>\n",
              "  </svg>\n",
              "    </button>\n",
              "\n",
              "  <style>\n",
              "    .colab-df-container {\n",
              "      display:flex;\n",
              "      gap: 12px;\n",
              "    }\n",
              "\n",
              "    .colab-df-convert {\n",
              "      background-color: #E8F0FE;\n",
              "      border: none;\n",
              "      border-radius: 50%;\n",
              "      cursor: pointer;\n",
              "      display: none;\n",
              "      fill: #1967D2;\n",
              "      height: 32px;\n",
              "      padding: 0 0 0 0;\n",
              "      width: 32px;\n",
              "    }\n",
              "\n",
              "    .colab-df-convert:hover {\n",
              "      background-color: #E2EBFA;\n",
              "      box-shadow: 0px 1px 2px rgba(60, 64, 67, 0.3), 0px 1px 3px 1px rgba(60, 64, 67, 0.15);\n",
              "      fill: #174EA6;\n",
              "    }\n",
              "\n",
              "    .colab-df-buttons div {\n",
              "      margin-bottom: 4px;\n",
              "    }\n",
              "\n",
              "    [theme=dark] .colab-df-convert {\n",
              "      background-color: #3B4455;\n",
              "      fill: #D2E3FC;\n",
              "    }\n",
              "\n",
              "    [theme=dark] .colab-df-convert:hover {\n",
              "      background-color: #434B5C;\n",
              "      box-shadow: 0px 1px 3px 1px rgba(0, 0, 0, 0.15);\n",
              "      filter: drop-shadow(0px 1px 2px rgba(0, 0, 0, 0.3));\n",
              "      fill: #FFFFFF;\n",
              "    }\n",
              "  </style>\n",
              "\n",
              "    <script>\n",
              "      const buttonEl =\n",
              "        document.querySelector('#df-8cfc5146-ad73-4782-bf14-0df701b123f1 button.colab-df-convert');\n",
              "      buttonEl.style.display =\n",
              "        google.colab.kernel.accessAllowed ? 'block' : 'none';\n",
              "\n",
              "      async function convertToInteractive(key) {\n",
              "        const element = document.querySelector('#df-8cfc5146-ad73-4782-bf14-0df701b123f1');\n",
              "        const dataTable =\n",
              "          await google.colab.kernel.invokeFunction('convertToInteractive',\n",
              "                                                    [key], {});\n",
              "        if (!dataTable) return;\n",
              "\n",
              "        const docLinkHtml = 'Like what you see? Visit the ' +\n",
              "          '<a target=\"_blank\" href=https://colab.research.google.com/notebooks/data_table.ipynb>data table notebook</a>'\n",
              "          + ' to learn more about interactive tables.';\n",
              "        element.innerHTML = '';\n",
              "        dataTable['output_type'] = 'display_data';\n",
              "        await google.colab.output.renderOutput(dataTable, element);\n",
              "        const docLink = document.createElement('div');\n",
              "        docLink.innerHTML = docLinkHtml;\n",
              "        element.appendChild(docLink);\n",
              "      }\n",
              "    </script>\n",
              "  </div>\n",
              "\n",
              "\n",
              "<div id=\"df-0e3a1ea2-387d-4898-82ed-c7f0a932ea14\">\n",
              "  <button class=\"colab-df-quickchart\" onclick=\"quickchart('df-0e3a1ea2-387d-4898-82ed-c7f0a932ea14')\"\n",
              "            title=\"Suggest charts.\"\n",
              "            style=\"display:none;\">\n",
              "\n",
              "<svg xmlns=\"http://www.w3.org/2000/svg\" height=\"24px\"viewBox=\"0 0 24 24\"\n",
              "     width=\"24px\">\n",
              "    <g>\n",
              "        <path d=\"M19 3H5c-1.1 0-2 .9-2 2v14c0 1.1.9 2 2 2h14c1.1 0 2-.9 2-2V5c0-1.1-.9-2-2-2zM9 17H7v-7h2v7zm4 0h-2V7h2v10zm4 0h-2v-4h2v4z\"/>\n",
              "    </g>\n",
              "</svg>\n",
              "  </button>\n",
              "\n",
              "<style>\n",
              "  .colab-df-quickchart {\n",
              "      --bg-color: #E8F0FE;\n",
              "      --fill-color: #1967D2;\n",
              "      --hover-bg-color: #E2EBFA;\n",
              "      --hover-fill-color: #174EA6;\n",
              "      --disabled-fill-color: #AAA;\n",
              "      --disabled-bg-color: #DDD;\n",
              "  }\n",
              "\n",
              "  [theme=dark] .colab-df-quickchart {\n",
              "      --bg-color: #3B4455;\n",
              "      --fill-color: #D2E3FC;\n",
              "      --hover-bg-color: #434B5C;\n",
              "      --hover-fill-color: #FFFFFF;\n",
              "      --disabled-bg-color: #3B4455;\n",
              "      --disabled-fill-color: #666;\n",
              "  }\n",
              "\n",
              "  .colab-df-quickchart {\n",
              "    background-color: var(--bg-color);\n",
              "    border: none;\n",
              "    border-radius: 50%;\n",
              "    cursor: pointer;\n",
              "    display: none;\n",
              "    fill: var(--fill-color);\n",
              "    height: 32px;\n",
              "    padding: 0;\n",
              "    width: 32px;\n",
              "  }\n",
              "\n",
              "  .colab-df-quickchart:hover {\n",
              "    background-color: var(--hover-bg-color);\n",
              "    box-shadow: 0 1px 2px rgba(60, 64, 67, 0.3), 0 1px 3px 1px rgba(60, 64, 67, 0.15);\n",
              "    fill: var(--button-hover-fill-color);\n",
              "  }\n",
              "\n",
              "  .colab-df-quickchart-complete:disabled,\n",
              "  .colab-df-quickchart-complete:disabled:hover {\n",
              "    background-color: var(--disabled-bg-color);\n",
              "    fill: var(--disabled-fill-color);\n",
              "    box-shadow: none;\n",
              "  }\n",
              "\n",
              "  .colab-df-spinner {\n",
              "    border: 2px solid var(--fill-color);\n",
              "    border-color: transparent;\n",
              "    border-bottom-color: var(--fill-color);\n",
              "    animation:\n",
              "      spin 1s steps(1) infinite;\n",
              "  }\n",
              "\n",
              "  @keyframes spin {\n",
              "    0% {\n",
              "      border-color: transparent;\n",
              "      border-bottom-color: var(--fill-color);\n",
              "      border-left-color: var(--fill-color);\n",
              "    }\n",
              "    20% {\n",
              "      border-color: transparent;\n",
              "      border-left-color: var(--fill-color);\n",
              "      border-top-color: var(--fill-color);\n",
              "    }\n",
              "    30% {\n",
              "      border-color: transparent;\n",
              "      border-left-color: var(--fill-color);\n",
              "      border-top-color: var(--fill-color);\n",
              "      border-right-color: var(--fill-color);\n",
              "    }\n",
              "    40% {\n",
              "      border-color: transparent;\n",
              "      border-right-color: var(--fill-color);\n",
              "      border-top-color: var(--fill-color);\n",
              "    }\n",
              "    60% {\n",
              "      border-color: transparent;\n",
              "      border-right-color: var(--fill-color);\n",
              "    }\n",
              "    80% {\n",
              "      border-color: transparent;\n",
              "      border-right-color: var(--fill-color);\n",
              "      border-bottom-color: var(--fill-color);\n",
              "    }\n",
              "    90% {\n",
              "      border-color: transparent;\n",
              "      border-bottom-color: var(--fill-color);\n",
              "    }\n",
              "  }\n",
              "</style>\n",
              "\n",
              "  <script>\n",
              "    async function quickchart(key) {\n",
              "      const quickchartButtonEl =\n",
              "        document.querySelector('#' + key + ' button');\n",
              "      quickchartButtonEl.disabled = true;  // To prevent multiple clicks.\n",
              "      quickchartButtonEl.classList.add('colab-df-spinner');\n",
              "      try {\n",
              "        const charts = await google.colab.kernel.invokeFunction(\n",
              "            'suggestCharts', [key], {});\n",
              "      } catch (error) {\n",
              "        console.error('Error during call to suggestCharts:', error);\n",
              "      }\n",
              "      quickchartButtonEl.classList.remove('colab-df-spinner');\n",
              "      quickchartButtonEl.classList.add('colab-df-quickchart-complete');\n",
              "    }\n",
              "    (() => {\n",
              "      let quickchartButtonEl =\n",
              "        document.querySelector('#df-0e3a1ea2-387d-4898-82ed-c7f0a932ea14 button');\n",
              "      quickchartButtonEl.style.display =\n",
              "        google.colab.kernel.accessAllowed ? 'block' : 'none';\n",
              "    })();\n",
              "  </script>\n",
              "</div>\n",
              "    </div>\n",
              "  </div>\n"
            ]
          },
          "metadata": {},
          "execution_count": 48
        }
      ]
    },
    {
      "cell_type": "code",
      "source": [
        "y"
      ],
      "metadata": {
        "colab": {
          "base_uri": "https://localhost:8080/"
        },
        "id": "tQu7wmsQkGxu",
        "outputId": "ee365b36-0993-449d-ee33-54aada4d0d87"
      },
      "execution_count": 49,
      "outputs": [
        {
          "output_type": "execute_result",
          "data": {
            "text/plain": [
              "2623549    4\n",
              "2816530    3\n",
              "736928     2\n",
              "1016780    2\n",
              "2039914    2\n",
              "          ..\n",
              "593886     2\n",
              "2170714    2\n",
              "526345     2\n",
              "415273     2\n",
              "302079     2\n",
              "Name: Severity, Length: 50000, dtype: int64"
            ]
          },
          "metadata": {},
          "execution_count": 49
        }
      ]
    },
    {
      "cell_type": "code",
      "source": [
        "X_train, X_test, y_train, y_test = train_test_split(X,y.values.reshape(-1,1),train_size= 0.7,random_state = 42,shuffle=True)"
      ],
      "metadata": {
        "id": "cKtpsF5tkMV9"
      },
      "execution_count": 50,
      "outputs": []
    },
    {
      "cell_type": "code",
      "source": [
        "# Creación del modelo SVM\n",
        "modelo = SVC(C = 100, kernel = 'linear', random_state=42)\n",
        "modelo.fit(X_train, y_train)"
      ],
      "metadata": {
        "id": "zLIvrh6gkPHN"
      },
      "execution_count": null,
      "outputs": []
    },
    {
      "cell_type": "markdown",
      "source": [
        "El entrenamiento luego de 150 minutos seguía procesando. Reduje significativamente el tamaño del dataset. Se filtró utilizando sample para garantizar coherencia de datos. Por ello Severity obtuvo todos los valores del original. Entiendo que el ejercicio es analizar modelos y creo que se puede ver reflejado en el Notebook pero no funciona con SVC"
      ],
      "metadata": {
        "id": "kEOUX5U4zbxP"
      }
    },
    {
      "cell_type": "code",
      "source": [
        "#Predicciones!\n",
        "y_test_pred = modelo.predict(X_test)"
      ],
      "metadata": {
        "id": "9K_70klgkR5e"
      },
      "execution_count": null,
      "outputs": []
    },
    {
      "cell_type": "code",
      "source": [
        "#Convertimos en df la salida\n",
        "dfs2 = pd.DataFrame({'Actual': y_test, 'Predicted': y_test_pred})\n",
        "dfs2"
      ],
      "metadata": {
        "id": "dsWNeSqVeFt0"
      },
      "execution_count": null,
      "outputs": []
    },
    {
      "cell_type": "markdown",
      "source": [
        "A lo largo de este notebook, se solicita calcular las métricas requeridas como así también su correspondiente interpretación:\n",
        "\n",
        "1. Calcular la métrica Accuracy."
      ],
      "metadata": {
        "id": "wKV_QzVMkVe-"
      }
    },
    {
      "cell_type": "code",
      "source": [
        "###Completar\n",
        "from sklearn.metrics import accuracy_score\n",
        "accuracy_score(y_test,y_test_pred, pos_label='positive', average='micro')"
      ],
      "metadata": {
        "id": "qM9IBVHQkYOg"
      },
      "execution_count": null,
      "outputs": []
    },
    {
      "cell_type": "markdown",
      "source": [
        "2. Crear la Matriz de Confusión"
      ],
      "metadata": {
        "id": "BMoKVV38kbFm"
      }
    },
    {
      "cell_type": "code",
      "source": [
        "###Completar\n",
        "from sklearn.metrics import confusion_matrix\n",
        "confusion_matrix(y_test, y_test_pred)"
      ],
      "metadata": {
        "id": "RE55ft4LkcOm"
      },
      "execution_count": null,
      "outputs": []
    },
    {
      "cell_type": "markdown",
      "source": [],
      "metadata": {
        "id": "dvOdAPzLkeQo"
      }
    },
    {
      "cell_type": "markdown",
      "source": [
        "3. Calcular la métrica F1 score"
      ],
      "metadata": {
        "id": "HzB0jcX1kf0W"
      }
    },
    {
      "cell_type": "code",
      "source": [
        "###Completar\n",
        "from sklearn.metrics import f1_score\n",
        "f1_score(y_test, y_test_pred, pos_label='positive', average='micro')"
      ],
      "metadata": {
        "id": "Jy8bgUijkh3W"
      },
      "execution_count": null,
      "outputs": []
    },
    {
      "cell_type": "markdown",
      "source": [
        "Calcular todas las metricas al mismo tiempo"
      ],
      "metadata": {
        "id": "gkj0sBGukk5G"
      }
    },
    {
      "cell_type": "code",
      "source": [
        "from sklearn.metrics import classification_report\n",
        "reporte=classification_report(y_test,y_test_pred, pos_label='positive', average='micro')\n",
        "print(reporte)"
      ],
      "metadata": {
        "id": "3PCBFpODkm2u"
      },
      "execution_count": null,
      "outputs": []
    }
  ]
}