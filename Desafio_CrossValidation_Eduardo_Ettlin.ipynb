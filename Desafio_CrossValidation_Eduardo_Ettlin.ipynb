{
  "nbformat": 4,
  "nbformat_minor": 0,
  "metadata": {
    "kernelspec": {
      "display_name": "Python 3",
      "name": "python3"
    },
    "language_info": {
      "codemirror_mode": {
        "name": "ipython",
        "version": 3
      },
      "file_extension": ".py",
      "mimetype": "text/x-python",
      "name": "python",
      "nbconvert_exporter": "python",
      "pygments_lexer": "ipython3",
      "version": "3.8.5"
    },
    "varInspector": {
      "cols": {
        "lenName": 16,
        "lenType": 16,
        "lenVar": 40
      },
      "kernels_config": {
        "python": {
          "delete_cmd_postfix": "",
          "delete_cmd_prefix": "del ",
          "library": "var_list.py",
          "varRefreshCmd": "print(var_dic_list())"
        },
        "r": {
          "delete_cmd_postfix": ") ",
          "delete_cmd_prefix": "rm(",
          "library": "var_list.r",
          "varRefreshCmd": "cat(var_dic_list()) "
        }
      },
      "types_to_exclude": [
        "module",
        "function",
        "builtin_function_or_method",
        "instance",
        "_Feature"
      ],
      "window_display": false
    },
    "colab": {
      "provenance": [],
      "gpuType": "T4",
      "include_colab_link": true
    },
    "accelerator": "GPU"
  },
  "cells": [
    {
      "cell_type": "markdown",
      "metadata": {
        "id": "view-in-github",
        "colab_type": "text"
      },
      "source": [
        "<a href=\"https://colab.research.google.com/github/EWECORP/DScience_41870/blob/main/Desafio_CrossValidation_Eduardo_Ettlin.ipynb\" target=\"_parent\"><img src=\"https://colab.research.google.com/assets/colab-badge.svg\" alt=\"Open In Colab\"/></a>"
      ]
    },
    {
      "cell_type": "markdown",
      "source": [
        "![CODERHOUSE.jpg](data:image/jpeg;base64,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)"
      ],
      "metadata": {
        "id": "uV5gCMhieuxX"
      }
    },
    {
      "cell_type": "markdown",
      "source": [
        "# **CURSO DE DATA SCIENCE**\n",
        "\n",
        "# **DESAFIO  CROSS VALIDATION**\n",
        "\n",
        "# **DESAFIO N° 15**\n",
        "\n",
        "*AUTOR:Eduardo ETTLIN*\n",
        "\n",
        "Entrenar uno de los modelos elegidos con las mismas variables pero aplicando alguno de los métodos aprendidos de validación cruzada\n",
        "\n",
        "Describir si hay cambios en el performance del modelo y explicar con razones el porqué\n",
        "\n",
        "Se recomienda utilizar entre 5-10 folds para el proceso de CrossValidation con el fin de optimizar el tiempo de ejecución de la técnica\n"
      ],
      "metadata": {
        "id": "XMv7Rofhe1fA"
      }
    },
    {
      "cell_type": "code",
      "source": [
        "#Conectamos mi drive\n",
        "from google.colab import drive\n",
        "#Importamos OS\n",
        "import os\n",
        "#Montamos drive\n",
        "drive.mount('/content/gdrive', force_remount=True)\n",
        "# Establecer ruta de acceso en drive\n",
        "import os\n",
        "print(os.getcwd())"
      ],
      "metadata": {
        "colab": {
          "base_uri": "https://localhost:8080/"
        },
        "id": "NkYbjYU8fzpY",
        "outputId": "2f34a849-7d6f-4eea-88db-7662d08eda1e"
      },
      "execution_count": 1,
      "outputs": [
        {
          "output_type": "stream",
          "name": "stdout",
          "text": [
            "Mounted at /content/gdrive\n",
            "/content\n"
          ]
        }
      ]
    },
    {
      "cell_type": "code",
      "metadata": {
        "id": "8OZK6N3AznyY"
      },
      "source": [
        "# Tratamiento de datos\n",
        "# ==============================================================================\n",
        "import pandas as pd\n",
        "import numpy as np\n",
        "\n",
        "# Preprocesado y modelado\n",
        "# ==============================================================================\n",
        "from sklearn.svm import SVC\n",
        "from sklearn.model_selection import train_test_split\n",
        "from sklearn.metrics import accuracy_score\n",
        "\n",
        "from sklearn.cluster import KMeans\n",
        "from sklearn.metrics import davies_bouldin_score,silhouette_score,silhouette_samples,calinski_harabasz_score\n",
        "from sklearn.preprocessing import StandardScaler\n",
        "\n",
        "import matplotlib.pyplot as plt\n",
        "import matplotlib.cm as cm\n",
        "\n",
        "import xgboost as xgb\n",
        "from sklearn.metrics import mean_squared_error\n",
        "from sklearn.model_selection import GridSearchCV\n",
        "from sklearn.model_selection import RandomizedSearchCV\n",
        "from sklearn.experimental import enable_halving_search_cv\n",
        "from sklearn.model_selection import HalvingGridSearchCV\n",
        "from sklearn.model_selection import HalvingRandomSearchCV\n",
        "\n",
        "# Configuración warnings\n",
        "# ==============================================================================\n",
        "import warnings\n",
        "warnings.filterwarnings('ignore')"
      ],
      "execution_count": 2,
      "outputs": []
    },
    {
      "cell_type": "code",
      "source": [
        "pip install featuretools -q"
      ],
      "metadata": {
        "colab": {
          "base_uri": "https://localhost:8080/"
        },
        "id": "XEGumXJ4AmZb",
        "outputId": "f3a73e57-7013-4897-8331-4ea6d1ec3380"
      },
      "execution_count": 3,
      "outputs": [
        {
          "output_type": "stream",
          "name": "stdout",
          "text": [
            "\u001b[2K     \u001b[90m━━━━━━━━━━━━━━━━━━━━━━━━━━━━━━━━━━━━━━━\u001b[0m \u001b[32m618.3/618.3 kB\u001b[0m \u001b[31m5.4 MB/s\u001b[0m eta \u001b[36m0:00:00\u001b[0m\n",
            "\u001b[2K     \u001b[90m━━━━━━━━━━━━━━━━━━━━━━━━━━━━━━━━━━━━━━━\u001b[0m \u001b[32m236.0/236.0 kB\u001b[0m \u001b[31m7.7 MB/s\u001b[0m eta \u001b[36m0:00:00\u001b[0m\n",
            "\u001b[?25h"
          ]
        }
      ]
    },
    {
      "cell_type": "code",
      "source": [
        "# featuretools for automated feature engineering\n",
        "import featuretools as ft\n",
        "\n",
        "# matplotlit and seaborn for visualizations\n",
        "import matplotlib.pyplot as plt\n",
        "plt.rcParams['font.size'] = 22\n",
        "import seaborn as sns\n",
        "\n",
        "# Suppress warnings from pandas\n",
        "import warnings\n",
        "warnings.filterwarnings('ignore')\n",
        "\n",
        "# modeling\n",
        "import lightgbm as lgb\n",
        "\n",
        "# utilities\n",
        "from sklearn.model_selection import KFold\n",
        "from sklearn.metrics import roc_auc_score\n",
        "from sklearn.preprocessing import LabelEncoder\n",
        "\n",
        "# memory management\n",
        "import gc"
      ],
      "metadata": {
        "id": "RP2OMxwBAYCL"
      },
      "execution_count": 4,
      "outputs": []
    },
    {
      "cell_type": "code",
      "source": [
        "# Me muevo a la carpeta\n",
        "os.chdir(\"/content/gdrive/MyDrive/DScience_41870\")\n",
        "print(os.getcwd())\n",
        "\n",
        "#Lectura del dataframe\n",
        "datos=pd.read_csv('/content/gdrive/MyDrive/DScience_41870/US_Accidents_Dec21_updated.csv',sep=',',nrows=2845000)  # nrows: 1500000  # Disminuir Tamaño a 1.5 MM (Riginalmente Tiene 2.845.342 registros)"
      ],
      "metadata": {
        "id": "pNxQQFlOf4wj",
        "colab": {
          "base_uri": "https://localhost:8080/"
        },
        "outputId": "a00274d5-bfef-4b3f-80b7-8ef68d390ee2"
      },
      "execution_count": 5,
      "outputs": [
        {
          "output_type": "stream",
          "name": "stdout",
          "text": [
            "/content/gdrive/MyDrive/DScience_41870\n"
          ]
        }
      ]
    },
    {
      "cell_type": "code",
      "source": [
        "datos.head()"
      ],
      "metadata": {
        "colab": {
          "base_uri": "https://localhost:8080/",
          "height": 236
        },
        "id": "-nvMUBaKjEOs",
        "outputId": "787d6d58-465e-4919-f5b0-e134e88c8711"
      },
      "execution_count": 6,
      "outputs": [
        {
          "output_type": "execute_result",
          "data": {
            "text/plain": [
              "    ID  Severity           Start_Time             End_Time  Start_Lat  \\\n",
              "0  A-1         3  2016-02-08 00:37:08  2016-02-08 06:37:08  40.108910   \n",
              "1  A-2         2  2016-02-08 05:56:20  2016-02-08 11:56:20  39.865420   \n",
              "2  A-3         2  2016-02-08 06:15:39  2016-02-08 12:15:39  39.102660   \n",
              "3  A-4         2  2016-02-08 06:51:45  2016-02-08 12:51:45  41.062130   \n",
              "4  A-5         3  2016-02-08 07:53:43  2016-02-08 13:53:43  39.172393   \n",
              "\n",
              "   Start_Lng    End_Lat    End_Lng  Distance(mi)  \\\n",
              "0 -83.092860  40.112060 -83.031870         3.230   \n",
              "1 -84.062800  39.865010 -84.048730         0.747   \n",
              "2 -84.524680  39.102090 -84.523960         0.055   \n",
              "3 -81.537840  41.062170 -81.535470         0.123   \n",
              "4 -84.492792  39.170476 -84.501798         0.500   \n",
              "\n",
              "                                         Description  ...  Roundabout Station  \\\n",
              "0  Between Sawmill Rd/Exit 20 and OH-315/Olentang...  ...       False   False   \n",
              "1                 At OH-4/OH-235/Exit 41 - Accident.  ...       False   False   \n",
              "2                   At I-71/US-50/Exit 1 - Accident.  ...       False   False   \n",
              "3                    At Dart Ave/Exit 21 - Accident.  ...       False   False   \n",
              "4                 At Mitchell Ave/Exit 6 - Accident.  ...       False   False   \n",
              "\n",
              "    Stop Traffic_Calming Traffic_Signal Turning_Loop Sunrise_Sunset  \\\n",
              "0  False           False          False        False          Night   \n",
              "1  False           False          False        False          Night   \n",
              "2  False           False          False        False          Night   \n",
              "3  False           False          False        False          Night   \n",
              "4  False           False          False        False            Day   \n",
              "\n",
              "  Civil_Twilight Nautical_Twilight Astronomical_Twilight  \n",
              "0          Night             Night                 Night  \n",
              "1          Night             Night                 Night  \n",
              "2          Night             Night                   Day  \n",
              "3          Night               Day                   Day  \n",
              "4            Day               Day                   Day  \n",
              "\n",
              "[5 rows x 47 columns]"
            ],
            "text/html": [
              "\n",
              "  <div id=\"df-5076c88c-4638-4a8d-8f48-fdc9c0f99ddb\" class=\"colab-df-container\">\n",
              "    <div>\n",
              "<style scoped>\n",
              "    .dataframe tbody tr th:only-of-type {\n",
              "        vertical-align: middle;\n",
              "    }\n",
              "\n",
              "    .dataframe tbody tr th {\n",
              "        vertical-align: top;\n",
              "    }\n",
              "\n",
              "    .dataframe thead th {\n",
              "        text-align: right;\n",
              "    }\n",
              "</style>\n",
              "<table border=\"1\" class=\"dataframe\">\n",
              "  <thead>\n",
              "    <tr style=\"text-align: right;\">\n",
              "      <th></th>\n",
              "      <th>ID</th>\n",
              "      <th>Severity</th>\n",
              "      <th>Start_Time</th>\n",
              "      <th>End_Time</th>\n",
              "      <th>Start_Lat</th>\n",
              "      <th>Start_Lng</th>\n",
              "      <th>End_Lat</th>\n",
              "      <th>End_Lng</th>\n",
              "      <th>Distance(mi)</th>\n",
              "      <th>Description</th>\n",
              "      <th>...</th>\n",
              "      <th>Roundabout</th>\n",
              "      <th>Station</th>\n",
              "      <th>Stop</th>\n",
              "      <th>Traffic_Calming</th>\n",
              "      <th>Traffic_Signal</th>\n",
              "      <th>Turning_Loop</th>\n",
              "      <th>Sunrise_Sunset</th>\n",
              "      <th>Civil_Twilight</th>\n",
              "      <th>Nautical_Twilight</th>\n",
              "      <th>Astronomical_Twilight</th>\n",
              "    </tr>\n",
              "  </thead>\n",
              "  <tbody>\n",
              "    <tr>\n",
              "      <th>0</th>\n",
              "      <td>A-1</td>\n",
              "      <td>3</td>\n",
              "      <td>2016-02-08 00:37:08</td>\n",
              "      <td>2016-02-08 06:37:08</td>\n",
              "      <td>40.108910</td>\n",
              "      <td>-83.092860</td>\n",
              "      <td>40.112060</td>\n",
              "      <td>-83.031870</td>\n",
              "      <td>3.230</td>\n",
              "      <td>Between Sawmill Rd/Exit 20 and OH-315/Olentang...</td>\n",
              "      <td>...</td>\n",
              "      <td>False</td>\n",
              "      <td>False</td>\n",
              "      <td>False</td>\n",
              "      <td>False</td>\n",
              "      <td>False</td>\n",
              "      <td>False</td>\n",
              "      <td>Night</td>\n",
              "      <td>Night</td>\n",
              "      <td>Night</td>\n",
              "      <td>Night</td>\n",
              "    </tr>\n",
              "    <tr>\n",
              "      <th>1</th>\n",
              "      <td>A-2</td>\n",
              "      <td>2</td>\n",
              "      <td>2016-02-08 05:56:20</td>\n",
              "      <td>2016-02-08 11:56:20</td>\n",
              "      <td>39.865420</td>\n",
              "      <td>-84.062800</td>\n",
              "      <td>39.865010</td>\n",
              "      <td>-84.048730</td>\n",
              "      <td>0.747</td>\n",
              "      <td>At OH-4/OH-235/Exit 41 - Accident.</td>\n",
              "      <td>...</td>\n",
              "      <td>False</td>\n",
              "      <td>False</td>\n",
              "      <td>False</td>\n",
              "      <td>False</td>\n",
              "      <td>False</td>\n",
              "      <td>False</td>\n",
              "      <td>Night</td>\n",
              "      <td>Night</td>\n",
              "      <td>Night</td>\n",
              "      <td>Night</td>\n",
              "    </tr>\n",
              "    <tr>\n",
              "      <th>2</th>\n",
              "      <td>A-3</td>\n",
              "      <td>2</td>\n",
              "      <td>2016-02-08 06:15:39</td>\n",
              "      <td>2016-02-08 12:15:39</td>\n",
              "      <td>39.102660</td>\n",
              "      <td>-84.524680</td>\n",
              "      <td>39.102090</td>\n",
              "      <td>-84.523960</td>\n",
              "      <td>0.055</td>\n",
              "      <td>At I-71/US-50/Exit 1 - Accident.</td>\n",
              "      <td>...</td>\n",
              "      <td>False</td>\n",
              "      <td>False</td>\n",
              "      <td>False</td>\n",
              "      <td>False</td>\n",
              "      <td>False</td>\n",
              "      <td>False</td>\n",
              "      <td>Night</td>\n",
              "      <td>Night</td>\n",
              "      <td>Night</td>\n",
              "      <td>Day</td>\n",
              "    </tr>\n",
              "    <tr>\n",
              "      <th>3</th>\n",
              "      <td>A-4</td>\n",
              "      <td>2</td>\n",
              "      <td>2016-02-08 06:51:45</td>\n",
              "      <td>2016-02-08 12:51:45</td>\n",
              "      <td>41.062130</td>\n",
              "      <td>-81.537840</td>\n",
              "      <td>41.062170</td>\n",
              "      <td>-81.535470</td>\n",
              "      <td>0.123</td>\n",
              "      <td>At Dart Ave/Exit 21 - Accident.</td>\n",
              "      <td>...</td>\n",
              "      <td>False</td>\n",
              "      <td>False</td>\n",
              "      <td>False</td>\n",
              "      <td>False</td>\n",
              "      <td>False</td>\n",
              "      <td>False</td>\n",
              "      <td>Night</td>\n",
              "      <td>Night</td>\n",
              "      <td>Day</td>\n",
              "      <td>Day</td>\n",
              "    </tr>\n",
              "    <tr>\n",
              "      <th>4</th>\n",
              "      <td>A-5</td>\n",
              "      <td>3</td>\n",
              "      <td>2016-02-08 07:53:43</td>\n",
              "      <td>2016-02-08 13:53:43</td>\n",
              "      <td>39.172393</td>\n",
              "      <td>-84.492792</td>\n",
              "      <td>39.170476</td>\n",
              "      <td>-84.501798</td>\n",
              "      <td>0.500</td>\n",
              "      <td>At Mitchell Ave/Exit 6 - Accident.</td>\n",
              "      <td>...</td>\n",
              "      <td>False</td>\n",
              "      <td>False</td>\n",
              "      <td>False</td>\n",
              "      <td>False</td>\n",
              "      <td>False</td>\n",
              "      <td>False</td>\n",
              "      <td>Day</td>\n",
              "      <td>Day</td>\n",
              "      <td>Day</td>\n",
              "      <td>Day</td>\n",
              "    </tr>\n",
              "  </tbody>\n",
              "</table>\n",
              "<p>5 rows × 47 columns</p>\n",
              "</div>\n",
              "    <div class=\"colab-df-buttons\">\n",
              "\n",
              "  <div class=\"colab-df-container\">\n",
              "    <button class=\"colab-df-convert\" onclick=\"convertToInteractive('df-5076c88c-4638-4a8d-8f48-fdc9c0f99ddb')\"\n",
              "            title=\"Convert this dataframe to an interactive table.\"\n",
              "            style=\"display:none;\">\n",
              "\n",
              "  <svg xmlns=\"http://www.w3.org/2000/svg\" height=\"24px\" viewBox=\"0 -960 960 960\">\n",
              "    <path d=\"M120-120v-720h720v720H120Zm60-500h600v-160H180v160Zm220 220h160v-160H400v160Zm0 220h160v-160H400v160ZM180-400h160v-160H180v160Zm440 0h160v-160H620v160ZM180-180h160v-160H180v160Zm440 0h160v-160H620v160Z\"/>\n",
              "  </svg>\n",
              "    </button>\n",
              "\n",
              "  <style>\n",
              "    .colab-df-container {\n",
              "      display:flex;\n",
              "      gap: 12px;\n",
              "    }\n",
              "\n",
              "    .colab-df-convert {\n",
              "      background-color: #E8F0FE;\n",
              "      border: none;\n",
              "      border-radius: 50%;\n",
              "      cursor: pointer;\n",
              "      display: none;\n",
              "      fill: #1967D2;\n",
              "      height: 32px;\n",
              "      padding: 0 0 0 0;\n",
              "      width: 32px;\n",
              "    }\n",
              "\n",
              "    .colab-df-convert:hover {\n",
              "      background-color: #E2EBFA;\n",
              "      box-shadow: 0px 1px 2px rgba(60, 64, 67, 0.3), 0px 1px 3px 1px rgba(60, 64, 67, 0.15);\n",
              "      fill: #174EA6;\n",
              "    }\n",
              "\n",
              "    .colab-df-buttons div {\n",
              "      margin-bottom: 4px;\n",
              "    }\n",
              "\n",
              "    [theme=dark] .colab-df-convert {\n",
              "      background-color: #3B4455;\n",
              "      fill: #D2E3FC;\n",
              "    }\n",
              "\n",
              "    [theme=dark] .colab-df-convert:hover {\n",
              "      background-color: #434B5C;\n",
              "      box-shadow: 0px 1px 3px 1px rgba(0, 0, 0, 0.15);\n",
              "      filter: drop-shadow(0px 1px 2px rgba(0, 0, 0, 0.3));\n",
              "      fill: #FFFFFF;\n",
              "    }\n",
              "  </style>\n",
              "\n",
              "    <script>\n",
              "      const buttonEl =\n",
              "        document.querySelector('#df-5076c88c-4638-4a8d-8f48-fdc9c0f99ddb button.colab-df-convert');\n",
              "      buttonEl.style.display =\n",
              "        google.colab.kernel.accessAllowed ? 'block' : 'none';\n",
              "\n",
              "      async function convertToInteractive(key) {\n",
              "        const element = document.querySelector('#df-5076c88c-4638-4a8d-8f48-fdc9c0f99ddb');\n",
              "        const dataTable =\n",
              "          await google.colab.kernel.invokeFunction('convertToInteractive',\n",
              "                                                    [key], {});\n",
              "        if (!dataTable) return;\n",
              "\n",
              "        const docLinkHtml = 'Like what you see? Visit the ' +\n",
              "          '<a target=\"_blank\" href=https://colab.research.google.com/notebooks/data_table.ipynb>data table notebook</a>'\n",
              "          + ' to learn more about interactive tables.';\n",
              "        element.innerHTML = '';\n",
              "        dataTable['output_type'] = 'display_data';\n",
              "        await google.colab.output.renderOutput(dataTable, element);\n",
              "        const docLink = document.createElement('div');\n",
              "        docLink.innerHTML = docLinkHtml;\n",
              "        element.appendChild(docLink);\n",
              "      }\n",
              "    </script>\n",
              "  </div>\n",
              "\n",
              "\n",
              "<div id=\"df-2a5e44e4-e9b2-4c19-8284-d8e8bc1029ff\">\n",
              "  <button class=\"colab-df-quickchart\" onclick=\"quickchart('df-2a5e44e4-e9b2-4c19-8284-d8e8bc1029ff')\"\n",
              "            title=\"Suggest charts.\"\n",
              "            style=\"display:none;\">\n",
              "\n",
              "<svg xmlns=\"http://www.w3.org/2000/svg\" height=\"24px\"viewBox=\"0 0 24 24\"\n",
              "     width=\"24px\">\n",
              "    <g>\n",
              "        <path d=\"M19 3H5c-1.1 0-2 .9-2 2v14c0 1.1.9 2 2 2h14c1.1 0 2-.9 2-2V5c0-1.1-.9-2-2-2zM9 17H7v-7h2v7zm4 0h-2V7h2v10zm4 0h-2v-4h2v4z\"/>\n",
              "    </g>\n",
              "</svg>\n",
              "  </button>\n",
              "\n",
              "<style>\n",
              "  .colab-df-quickchart {\n",
              "      --bg-color: #E8F0FE;\n",
              "      --fill-color: #1967D2;\n",
              "      --hover-bg-color: #E2EBFA;\n",
              "      --hover-fill-color: #174EA6;\n",
              "      --disabled-fill-color: #AAA;\n",
              "      --disabled-bg-color: #DDD;\n",
              "  }\n",
              "\n",
              "  [theme=dark] .colab-df-quickchart {\n",
              "      --bg-color: #3B4455;\n",
              "      --fill-color: #D2E3FC;\n",
              "      --hover-bg-color: #434B5C;\n",
              "      --hover-fill-color: #FFFFFF;\n",
              "      --disabled-bg-color: #3B4455;\n",
              "      --disabled-fill-color: #666;\n",
              "  }\n",
              "\n",
              "  .colab-df-quickchart {\n",
              "    background-color: var(--bg-color);\n",
              "    border: none;\n",
              "    border-radius: 50%;\n",
              "    cursor: pointer;\n",
              "    display: none;\n",
              "    fill: var(--fill-color);\n",
              "    height: 32px;\n",
              "    padding: 0;\n",
              "    width: 32px;\n",
              "  }\n",
              "\n",
              "  .colab-df-quickchart:hover {\n",
              "    background-color: var(--hover-bg-color);\n",
              "    box-shadow: 0 1px 2px rgba(60, 64, 67, 0.3), 0 1px 3px 1px rgba(60, 64, 67, 0.15);\n",
              "    fill: var(--button-hover-fill-color);\n",
              "  }\n",
              "\n",
              "  .colab-df-quickchart-complete:disabled,\n",
              "  .colab-df-quickchart-complete:disabled:hover {\n",
              "    background-color: var(--disabled-bg-color);\n",
              "    fill: var(--disabled-fill-color);\n",
              "    box-shadow: none;\n",
              "  }\n",
              "\n",
              "  .colab-df-spinner {\n",
              "    border: 2px solid var(--fill-color);\n",
              "    border-color: transparent;\n",
              "    border-bottom-color: var(--fill-color);\n",
              "    animation:\n",
              "      spin 1s steps(1) infinite;\n",
              "  }\n",
              "\n",
              "  @keyframes spin {\n",
              "    0% {\n",
              "      border-color: transparent;\n",
              "      border-bottom-color: var(--fill-color);\n",
              "      border-left-color: var(--fill-color);\n",
              "    }\n",
              "    20% {\n",
              "      border-color: transparent;\n",
              "      border-left-color: var(--fill-color);\n",
              "      border-top-color: var(--fill-color);\n",
              "    }\n",
              "    30% {\n",
              "      border-color: transparent;\n",
              "      border-left-color: var(--fill-color);\n",
              "      border-top-color: var(--fill-color);\n",
              "      border-right-color: var(--fill-color);\n",
              "    }\n",
              "    40% {\n",
              "      border-color: transparent;\n",
              "      border-right-color: var(--fill-color);\n",
              "      border-top-color: var(--fill-color);\n",
              "    }\n",
              "    60% {\n",
              "      border-color: transparent;\n",
              "      border-right-color: var(--fill-color);\n",
              "    }\n",
              "    80% {\n",
              "      border-color: transparent;\n",
              "      border-right-color: var(--fill-color);\n",
              "      border-bottom-color: var(--fill-color);\n",
              "    }\n",
              "    90% {\n",
              "      border-color: transparent;\n",
              "      border-bottom-color: var(--fill-color);\n",
              "    }\n",
              "  }\n",
              "</style>\n",
              "\n",
              "  <script>\n",
              "    async function quickchart(key) {\n",
              "      const quickchartButtonEl =\n",
              "        document.querySelector('#' + key + ' button');\n",
              "      quickchartButtonEl.disabled = true;  // To prevent multiple clicks.\n",
              "      quickchartButtonEl.classList.add('colab-df-spinner');\n",
              "      try {\n",
              "        const charts = await google.colab.kernel.invokeFunction(\n",
              "            'suggestCharts', [key], {});\n",
              "      } catch (error) {\n",
              "        console.error('Error during call to suggestCharts:', error);\n",
              "      }\n",
              "      quickchartButtonEl.classList.remove('colab-df-spinner');\n",
              "      quickchartButtonEl.classList.add('colab-df-quickchart-complete');\n",
              "    }\n",
              "    (() => {\n",
              "      let quickchartButtonEl =\n",
              "        document.querySelector('#df-2a5e44e4-e9b2-4c19-8284-d8e8bc1029ff button');\n",
              "      quickchartButtonEl.style.display =\n",
              "        google.colab.kernel.accessAllowed ? 'block' : 'none';\n",
              "    })();\n",
              "  </script>\n",
              "</div>\n",
              "    </div>\n",
              "  </div>\n"
            ]
          },
          "metadata": {},
          "execution_count": 6
        }
      ]
    },
    {
      "cell_type": "markdown",
      "source": [
        "# REDUCCIÓN DEL DATASET - Es Muy Grande para PROCESARLO\n",
        "\n",
        "Se utilizara la función sample para muestrear todo el DataSet."
      ],
      "metadata": {
        "id": "86gBXEuJsitd"
      }
    },
    {
      "cell_type": "markdown",
      "source": [
        "PROBAR RANDOMIZED SEARCH\n",
        "HYPER OPT\n",
        "BAYES GRID SEARCH (Probabilisticos)"
      ],
      "metadata": {
        "id": "x_ngC9khmoxm"
      }
    },
    {
      "cell_type": "code",
      "source": [
        "## df= datos.sample(10000)   # Achicar el Set de Datos porque no alcanza a calcular.\n",
        "\n",
        "#df =  datos[(datos['Start_Time'] > '2020-01-01 00:00:00')]\n",
        "\n",
        "df= datos.sample(100000)   # Achicar el Set de Datos porque no alcanza a calcular."
      ],
      "metadata": {
        "id": "MVtv8XRAs-bS"
      },
      "execution_count": 7,
      "outputs": []
    },
    {
      "cell_type": "code",
      "source": [
        "df.Severity.unique()"
      ],
      "metadata": {
        "colab": {
          "base_uri": "https://localhost:8080/"
        },
        "id": "kdw6-YwdjW_A",
        "outputId": "cd633884-f2b4-48f0-8086-31c4ccd65bcd"
      },
      "execution_count": 8,
      "outputs": [
        {
          "output_type": "execute_result",
          "data": {
            "text/plain": [
              "array([2, 3, 4, 1])"
            ]
          },
          "metadata": {},
          "execution_count": 8
        }
      ]
    },
    {
      "cell_type": "code",
      "source": [
        "df.shape"
      ],
      "metadata": {
        "colab": {
          "base_uri": "https://localhost:8080/"
        },
        "id": "4njgaLowjgEY",
        "outputId": "22e88c88-eeba-42bb-ebd2-7a2a181a7564"
      },
      "execution_count": 9,
      "outputs": [
        {
          "output_type": "execute_result",
          "data": {
            "text/plain": [
              "(100000, 47)"
            ]
          },
          "metadata": {},
          "execution_count": 9
        }
      ]
    },
    {
      "cell_type": "code",
      "source": [
        "#Visualizacion!\n",
        "import matplotlib.pyplot as plt\n",
        "fig, ax = plt.subplots(figsize=(6,4))\n",
        "ax.scatter(df['Wind_Chill(F)'], df['Temperature(F)'], c=df.Severity);\n",
        "ax.set_title(\"Datos\");"
      ],
      "metadata": {
        "colab": {
          "base_uri": "https://localhost:8080/",
          "height": 421
        },
        "id": "t7giB6aFJ-U3",
        "outputId": "20cdcf90-78b0-406f-8893-eae7181098c7"
      },
      "execution_count": 10,
      "outputs": [
        {
          "output_type": "display_data",
          "data": {
            "text/plain": [
              "<Figure size 600x400 with 1 Axes>"
            ],
            "image/png": "[encoded data removed]"
          },
          "metadata": {}
        }
      ]
    },
    {
      "cell_type": "code",
      "source": [
        "# Reemplazo de los vacíos\n",
        "X = df.fillna(0, inplace=True)"
      ],
      "metadata": {
        "id": "kITFRlNWJ-Qz"
      },
      "execution_count": 11,
      "outputs": []
    },
    {
      "cell_type": "markdown",
      "source": [
        "Hola Eduardo! Cómo estás?\n",
        "\n",
        "\n",
        "\n",
        "Te sugiero mantener simple la solución de esta entrega, por ende mejor aplicar K-fold cross validation con 5 y 10 folds. Si bien random search, grid search y otras técnicas que aplicaste también utilizan la validación cruzada, su objetivo es probar hiperparámetros. Y con Kfold testear el modelo con diferentes conjuntos de validación dentro de un mismo dataset.\n",
        "\n",
        "Te dejo la documentación para poder aplicar cross validation: https://scikit-learn.org/stable/modules/cross_validation.html\n",
        "\n",
        "\n",
        "\n",
        "Si surgen dudas me avisas y lo vemos!\n",
        "\n",
        "\n",
        "\n",
        "Saludos"
      ],
      "metadata": {
        "id": "q_2hqg6jP3Ih"
      }
    },
    {
      "cell_type": "markdown",
      "source": [
        "# Enriquecer el Modelo\n",
        "Con variables derivadas de las existentes"
      ],
      "metadata": {
        "id": "07YMWoMSBSH8"
      }
    },
    {
      "cell_type": "code",
      "source": [
        "df['Hora'] = pd.to_datetime( df['Start_Time'],format='%Y-%m-%d %H:%M:%S').dt.hour  # Extraer la HORA del Día en la\n",
        "df['Anio_Mes'] =  pd.to_datetime( df['Start_Time'],format='%Y-%m-%d %H:%M:%S').dt.strftime('%Y-%m')  # Extraer AÑO y MES\n",
        "\n",
        "df['day_of_week'] = pd.to_datetime( df['Start_Time'],format='%Y-%m-%d %H:%M:%S').dt.dayofweek  # Dia de la Semana\n",
        "days = {0:'Lunes',1:'Martes',2:'Miércoeles',3:'Jueves',4:'Viernes',5:'Sabado',6:'Domingo'}\n",
        "df['day_of_week'] = df['day_of_week'].apply(lambda x: days[x])\n",
        "\n",
        "df['Mes'] = pd.to_datetime( df['Start_Time'],format='%Y-%m-%d %H:%M:%S').dt.strftime('%B')  # Extraer Nombre del MES\n"
      ],
      "metadata": {
        "id": "clOOJ9VGBZ-0"
      },
      "execution_count": 12,
      "outputs": []
    },
    {
      "cell_type": "code",
      "source": [
        "\n",
        "df['DiaS'] = pd.to_datetime( df['Start_Time'],format='%Y-%m-%d %H:%M:%S').dt.dayofweek  # Dia de la Semana"
      ],
      "metadata": {
        "id": "tVqwUr6OEDy7"
      },
      "execution_count": 13,
      "outputs": []
    },
    {
      "cell_type": "code",
      "source": [
        "## Identificar la Estación Climática\n",
        "\n",
        "def estacion_climatica(mes):\n",
        "  if mes.lower() in ('january','february','march'):\n",
        "    return 'Invierno'\n",
        "  elif mes.lower() in ('april','may','june'):\n",
        "    return 'Primavera'\n",
        "  elif mes.lower() in ('july','august','september'):\n",
        "    return 'Verano'\n",
        "  else:\n",
        "    return 'Otoño'"
      ],
      "metadata": {
        "id": "e7gPYVV_BZ4c"
      },
      "execution_count": 14,
      "outputs": []
    },
    {
      "cell_type": "code",
      "source": [
        "df['estacion_meteorologica'] = pd.to_datetime( df['Start_Time'],format='%Y-%m-%d %H:%M:%S').dt.strftime('%B')  # Extraer Nombre del MES\n",
        "df['estacion_meteorologica'] = df['estacion_meteorologica'].apply(estacion_climatica)"
      ],
      "metadata": {
        "id": "lS3swQBfBZxw"
      },
      "execution_count": 15,
      "outputs": []
    },
    {
      "cell_type": "code",
      "source": [
        "df.columns"
      ],
      "metadata": {
        "colab": {
          "base_uri": "https://localhost:8080/"
        },
        "id": "NKq8hmVhBZqI",
        "outputId": "f0d5e40f-2358-4789-fb9d-31ee20dd22d1"
      },
      "execution_count": 16,
      "outputs": [
        {
          "output_type": "execute_result",
          "data": {
            "text/plain": [
              "Index(['ID', 'Severity', 'Start_Time', 'End_Time', 'Start_Lat', 'Start_Lng',\n",
              "       'End_Lat', 'End_Lng', 'Distance(mi)', 'Description', 'Number', 'Street',\n",
              "       'Side', 'City', 'County', 'State', 'Zipcode', 'Country', 'Timezone',\n",
              "       'Airport_Code', 'Weather_Timestamp', 'Temperature(F)', 'Wind_Chill(F)',\n",
              "       'Humidity(%)', 'Pressure(in)', 'Visibility(mi)', 'Wind_Direction',\n",
              "       'Wind_Speed(mph)', 'Precipitation(in)', 'Weather_Condition', 'Amenity',\n",
              "       'Bump', 'Crossing', 'Give_Way', 'Junction', 'No_Exit', 'Railway',\n",
              "       'Roundabout', 'Station', 'Stop', 'Traffic_Calming', 'Traffic_Signal',\n",
              "       'Turning_Loop', 'Sunrise_Sunset', 'Civil_Twilight', 'Nautical_Twilight',\n",
              "       'Astronomical_Twilight', 'Hora', 'Anio_Mes', 'day_of_week', 'Mes',\n",
              "       'DiaS', 'estacion_meteorologica'],\n",
              "      dtype='object')"
            ]
          },
          "metadata": {},
          "execution_count": 16
        }
      ]
    },
    {
      "cell_type": "code",
      "source": [
        "df.head()"
      ],
      "metadata": {
        "colab": {
          "base_uri": "https://localhost:8080/",
          "height": 322
        },
        "id": "6xD4JA2WyX4b",
        "outputId": "c5a92f2b-5f80-44c9-8636-d2163f0c5d5b"
      },
      "execution_count": 78,
      "outputs": [
        {
          "output_type": "execute_result",
          "data": {
            "text/plain": [
              "                ID  Severity           Start_Time             End_Time  \\\n",
              "82157      A-82158         2  2016-06-28 16:18:01  2016-06-28 22:18:01   \n",
              "904898    A-904899         2  2021-12-01 16:13:00  2021-12-01 17:53:19   \n",
              "220827    A-220828         2  2017-07-26 08:15:01  2017-07-26 14:15:01   \n",
              "2284116  A-2284117         2  2020-04-29 17:33:33  2020-04-29 17:48:33   \n",
              "2134533  A-2134534         2  2020-05-22 14:45:00  2020-05-22 17:50:02   \n",
              "\n",
              "         Start_Lat   Start_Lng    End_Lat     End_Lng  Distance(mi)  \\\n",
              "82157    33.681480  -84.313130  33.686020  -84.307080         0.468   \n",
              "904898   34.962194  -81.085464  34.962680  -81.085510         0.034   \n",
              "220827   39.820980  -85.781524  39.820886  -85.787811         0.334   \n",
              "2284116  32.720760 -117.102800  32.720760 -117.102800         0.000   \n",
              "2134533  34.106595 -117.845181  34.106595 -117.845181         0.000   \n",
              "\n",
              "                                               Description  ...  \\\n",
              "82157               At Bouldercrest Rd/Exit 51 - Accident.  ...   \n",
              "904898   Incident on RAWLINSON RD near MABRY PKY Drive ...  ...   \n",
              "220827                          At 600/Exit 96 - Accident.  ...   \n",
              "2284116  At CA-94/Exit 13A - Accident. Hard shoulder bl...  ...   \n",
              "2134533                       At Lone Hill Ave - Accident.  ...   \n",
              "\n",
              "         Sunrise_Sunset Civil_Twilight Nautical_Twilight  \\\n",
              "82157               Day            Day               Day   \n",
              "904898              Day            Day               Day   \n",
              "220827              Day            Day               Day   \n",
              "2284116             Day            Day               Day   \n",
              "2134533             Day            Day               Day   \n",
              "\n",
              "        Astronomical_Twilight Hora Anio_Mes day_of_week       Mes DiaS  \\\n",
              "82157                     Day   16  2016-06      Martes      June    1   \n",
              "904898                    Day   16  2021-12  Miércoeles  December    2   \n",
              "220827                    Day    8  2017-07  Miércoeles      July    2   \n",
              "2284116                   Day   17  2020-04  Miércoeles     April    2   \n",
              "2134533                   Day   14  2020-05     Viernes       May    4   \n",
              "\n",
              "        estacion_meteorologica  \n",
              "82157                Primavera  \n",
              "904898                   Otoño  \n",
              "220827                  Verano  \n",
              "2284116              Primavera  \n",
              "2134533              Primavera  \n",
              "\n",
              "[5 rows x 53 columns]"
            ],
            "text/html": [
              "\n",
              "  <div id=\"df-ddfc64b3-926c-4f05-8a73-f75195e3266d\" class=\"colab-df-container\">\n",
              "    <div>\n",
              "<style scoped>\n",
              "    .dataframe tbody tr th:only-of-type {\n",
              "        vertical-align: middle;\n",
              "    }\n",
              "\n",
              "    .dataframe tbody tr th {\n",
              "        vertical-align: top;\n",
              "    }\n",
              "\n",
              "    .dataframe thead th {\n",
              "        text-align: right;\n",
              "    }\n",
              "</style>\n",
              "<table border=\"1\" class=\"dataframe\">\n",
              "  <thead>\n",
              "    <tr style=\"text-align: right;\">\n",
              "      <th></th>\n",
              "      <th>ID</th>\n",
              "      <th>Severity</th>\n",
              "      <th>Start_Time</th>\n",
              "      <th>End_Time</th>\n",
              "      <th>Start_Lat</th>\n",
              "      <th>Start_Lng</th>\n",
              "      <th>End_Lat</th>\n",
              "      <th>End_Lng</th>\n",
              "      <th>Distance(mi)</th>\n",
              "      <th>Description</th>\n",
              "      <th>...</th>\n",
              "      <th>Sunrise_Sunset</th>\n",
              "      <th>Civil_Twilight</th>\n",
              "      <th>Nautical_Twilight</th>\n",
              "      <th>Astronomical_Twilight</th>\n",
              "      <th>Hora</th>\n",
              "      <th>Anio_Mes</th>\n",
              "      <th>day_of_week</th>\n",
              "      <th>Mes</th>\n",
              "      <th>DiaS</th>\n",
              "      <th>estacion_meteorologica</th>\n",
              "    </tr>\n",
              "  </thead>\n",
              "  <tbody>\n",
              "    <tr>\n",
              "      <th>82157</th>\n",
              "      <td>A-82158</td>\n",
              "      <td>2</td>\n",
              "      <td>2016-06-28 16:18:01</td>\n",
              "      <td>2016-06-28 22:18:01</td>\n",
              "      <td>33.681480</td>\n",
              "      <td>-84.313130</td>\n",
              "      <td>33.686020</td>\n",
              "      <td>-84.307080</td>\n",
              "      <td>0.468</td>\n",
              "      <td>At Bouldercrest Rd/Exit 51 - Accident.</td>\n",
              "      <td>...</td>\n",
              "      <td>Day</td>\n",
              "      <td>Day</td>\n",
              "      <td>Day</td>\n",
              "      <td>Day</td>\n",
              "      <td>16</td>\n",
              "      <td>2016-06</td>\n",
              "      <td>Martes</td>\n",
              "      <td>June</td>\n",
              "      <td>1</td>\n",
              "      <td>Primavera</td>\n",
              "    </tr>\n",
              "    <tr>\n",
              "      <th>904898</th>\n",
              "      <td>A-904899</td>\n",
              "      <td>2</td>\n",
              "      <td>2021-12-01 16:13:00</td>\n",
              "      <td>2021-12-01 17:53:19</td>\n",
              "      <td>34.962194</td>\n",
              "      <td>-81.085464</td>\n",
              "      <td>34.962680</td>\n",
              "      <td>-81.085510</td>\n",
              "      <td>0.034</td>\n",
              "      <td>Incident on RAWLINSON RD near MABRY PKY Drive ...</td>\n",
              "      <td>...</td>\n",
              "      <td>Day</td>\n",
              "      <td>Day</td>\n",
              "      <td>Day</td>\n",
              "      <td>Day</td>\n",
              "      <td>16</td>\n",
              "      <td>2021-12</td>\n",
              "      <td>Miércoeles</td>\n",
              "      <td>December</td>\n",
              "      <td>2</td>\n",
              "      <td>Otoño</td>\n",
              "    </tr>\n",
              "    <tr>\n",
              "      <th>220827</th>\n",
              "      <td>A-220828</td>\n",
              "      <td>2</td>\n",
              "      <td>2017-07-26 08:15:01</td>\n",
              "      <td>2017-07-26 14:15:01</td>\n",
              "      <td>39.820980</td>\n",
              "      <td>-85.781524</td>\n",
              "      <td>39.820886</td>\n",
              "      <td>-85.787811</td>\n",
              "      <td>0.334</td>\n",
              "      <td>At 600/Exit 96 - Accident.</td>\n",
              "      <td>...</td>\n",
              "      <td>Day</td>\n",
              "      <td>Day</td>\n",
              "      <td>Day</td>\n",
              "      <td>Day</td>\n",
              "      <td>8</td>\n",
              "      <td>2017-07</td>\n",
              "      <td>Miércoeles</td>\n",
              "      <td>July</td>\n",
              "      <td>2</td>\n",
              "      <td>Verano</td>\n",
              "    </tr>\n",
              "    <tr>\n",
              "      <th>2284116</th>\n",
              "      <td>A-2284117</td>\n",
              "      <td>2</td>\n",
              "      <td>2020-04-29 17:33:33</td>\n",
              "      <td>2020-04-29 17:48:33</td>\n",
              "      <td>32.720760</td>\n",
              "      <td>-117.102800</td>\n",
              "      <td>32.720760</td>\n",
              "      <td>-117.102800</td>\n",
              "      <td>0.000</td>\n",
              "      <td>At CA-94/Exit 13A - Accident. Hard shoulder bl...</td>\n",
              "      <td>...</td>\n",
              "      <td>Day</td>\n",
              "      <td>Day</td>\n",
              "      <td>Day</td>\n",
              "      <td>Day</td>\n",
              "      <td>17</td>\n",
              "      <td>2020-04</td>\n",
              "      <td>Miércoeles</td>\n",
              "      <td>April</td>\n",
              "      <td>2</td>\n",
              "      <td>Primavera</td>\n",
              "    </tr>\n",
              "    <tr>\n",
              "      <th>2134533</th>\n",
              "      <td>A-2134534</td>\n",
              "      <td>2</td>\n",
              "      <td>2020-05-22 14:45:00</td>\n",
              "      <td>2020-05-22 17:50:02</td>\n",
              "      <td>34.106595</td>\n",
              "      <td>-117.845181</td>\n",
              "      <td>34.106595</td>\n",
              "      <td>-117.845181</td>\n",
              "      <td>0.000</td>\n",
              "      <td>At Lone Hill Ave - Accident.</td>\n",
              "      <td>...</td>\n",
              "      <td>Day</td>\n",
              "      <td>Day</td>\n",
              "      <td>Day</td>\n",
              "      <td>Day</td>\n",
              "      <td>14</td>\n",
              "      <td>2020-05</td>\n",
              "      <td>Viernes</td>\n",
              "      <td>May</td>\n",
              "      <td>4</td>\n",
              "      <td>Primavera</td>\n",
              "    </tr>\n",
              "  </tbody>\n",
              "</table>\n",
              "<p>5 rows × 53 columns</p>\n",
              "</div>\n",
              "    <div class=\"colab-df-buttons\">\n",
              "\n",
              "  <div class=\"colab-df-container\">\n",
              "    <button class=\"colab-df-convert\" onclick=\"convertToInteractive('df-ddfc64b3-926c-4f05-8a73-f75195e3266d')\"\n",
              "            title=\"Convert this dataframe to an interactive table.\"\n",
              "            style=\"display:none;\">\n",
              "\n",
              "  <svg xmlns=\"http://www.w3.org/2000/svg\" height=\"24px\" viewBox=\"0 -960 960 960\">\n",
              "    <path d=\"M120-120v-720h720v720H120Zm60-500h600v-160H180v160Zm220 220h160v-160H400v160Zm0 220h160v-160H400v160ZM180-400h160v-160H180v160Zm440 0h160v-160H620v160ZM180-180h160v-160H180v160Zm440 0h160v-160H620v160Z\"/>\n",
              "  </svg>\n",
              "    </button>\n",
              "\n",
              "  <style>\n",
              "    .colab-df-container {\n",
              "      display:flex;\n",
              "      gap: 12px;\n",
              "    }\n",
              "\n",
              "    .colab-df-convert {\n",
              "      background-color: #E8F0FE;\n",
              "      border: none;\n",
              "      border-radius: 50%;\n",
              "      cursor: pointer;\n",
              "      display: none;\n",
              "      fill: #1967D2;\n",
              "      height: 32px;\n",
              "      padding: 0 0 0 0;\n",
              "      width: 32px;\n",
              "    }\n",
              "\n",
              "    .colab-df-convert:hover {\n",
              "      background-color: #E2EBFA;\n",
              "      box-shadow: 0px 1px 2px rgba(60, 64, 67, 0.3), 0px 1px 3px 1px rgba(60, 64, 67, 0.15);\n",
              "      fill: #174EA6;\n",
              "    }\n",
              "\n",
              "    .colab-df-buttons div {\n",
              "      margin-bottom: 4px;\n",
              "    }\n",
              "\n",
              "    [theme=dark] .colab-df-convert {\n",
              "      background-color: #3B4455;\n",
              "      fill: #D2E3FC;\n",
              "    }\n",
              "\n",
              "    [theme=dark] .colab-df-convert:hover {\n",
              "      background-color: #434B5C;\n",
              "      box-shadow: 0px 1px 3px 1px rgba(0, 0, 0, 0.15);\n",
              "      filter: drop-shadow(0px 1px 2px rgba(0, 0, 0, 0.3));\n",
              "      fill: #FFFFFF;\n",
              "    }\n",
              "  </style>\n",
              "\n",
              "    <script>\n",
              "      const buttonEl =\n",
              "        document.querySelector('#df-ddfc64b3-926c-4f05-8a73-f75195e3266d button.colab-df-convert');\n",
              "      buttonEl.style.display =\n",
              "        google.colab.kernel.accessAllowed ? 'block' : 'none';\n",
              "\n",
              "      async function convertToInteractive(key) {\n",
              "        const element = document.querySelector('#df-ddfc64b3-926c-4f05-8a73-f75195e3266d');\n",
              "        const dataTable =\n",
              "          await google.colab.kernel.invokeFunction('convertToInteractive',\n",
              "                                                    [key], {});\n",
              "        if (!dataTable) return;\n",
              "\n",
              "        const docLinkHtml = 'Like what you see? Visit the ' +\n",
              "          '<a target=\"_blank\" href=https://colab.research.google.com/notebooks/data_table.ipynb>data table notebook</a>'\n",
              "          + ' to learn more about interactive tables.';\n",
              "        element.innerHTML = '';\n",
              "        dataTable['output_type'] = 'display_data';\n",
              "        await google.colab.output.renderOutput(dataTable, element);\n",
              "        const docLink = document.createElement('div');\n",
              "        docLink.innerHTML = docLinkHtml;\n",
              "        element.appendChild(docLink);\n",
              "      }\n",
              "    </script>\n",
              "  </div>\n",
              "\n",
              "\n",
              "<div id=\"df-2115f2d0-f680-4ccd-a2c9-78a8d7993a8b\">\n",
              "  <button class=\"colab-df-quickchart\" onclick=\"quickchart('df-2115f2d0-f680-4ccd-a2c9-78a8d7993a8b')\"\n",
              "            title=\"Suggest charts.\"\n",
              "            style=\"display:none;\">\n",
              "\n",
              "<svg xmlns=\"http://www.w3.org/2000/svg\" height=\"24px\"viewBox=\"0 0 24 24\"\n",
              "     width=\"24px\">\n",
              "    <g>\n",
              "        <path d=\"M19 3H5c-1.1 0-2 .9-2 2v14c0 1.1.9 2 2 2h14c1.1 0 2-.9 2-2V5c0-1.1-.9-2-2-2zM9 17H7v-7h2v7zm4 0h-2V7h2v10zm4 0h-2v-4h2v4z\"/>\n",
              "    </g>\n",
              "</svg>\n",
              "  </button>\n",
              "\n",
              "<style>\n",
              "  .colab-df-quickchart {\n",
              "      --bg-color: #E8F0FE;\n",
              "      --fill-color: #1967D2;\n",
              "      --hover-bg-color: #E2EBFA;\n",
              "      --hover-fill-color: #174EA6;\n",
              "      --disabled-fill-color: #AAA;\n",
              "      --disabled-bg-color: #DDD;\n",
              "  }\n",
              "\n",
              "  [theme=dark] .colab-df-quickchart {\n",
              "      --bg-color: #3B4455;\n",
              "      --fill-color: #D2E3FC;\n",
              "      --hover-bg-color: #434B5C;\n",
              "      --hover-fill-color: #FFFFFF;\n",
              "      --disabled-bg-color: #3B4455;\n",
              "      --disabled-fill-color: #666;\n",
              "  }\n",
              "\n",
              "  .colab-df-quickchart {\n",
              "    background-color: var(--bg-color);\n",
              "    border: none;\n",
              "    border-radius: 50%;\n",
              "    cursor: pointer;\n",
              "    display: none;\n",
              "    fill: var(--fill-color);\n",
              "    height: 32px;\n",
              "    padding: 0;\n",
              "    width: 32px;\n",
              "  }\n",
              "\n",
              "  .colab-df-quickchart:hover {\n",
              "    background-color: var(--hover-bg-color);\n",
              "    box-shadow: 0 1px 2px rgba(60, 64, 67, 0.3), 0 1px 3px 1px rgba(60, 64, 67, 0.15);\n",
              "    fill: var(--button-hover-fill-color);\n",
              "  }\n",
              "\n",
              "  .colab-df-quickchart-complete:disabled,\n",
              "  .colab-df-quickchart-complete:disabled:hover {\n",
              "    background-color: var(--disabled-bg-color);\n",
              "    fill: var(--disabled-fill-color);\n",
              "    box-shadow: none;\n",
              "  }\n",
              "\n",
              "  .colab-df-spinner {\n",
              "    border: 2px solid var(--fill-color);\n",
              "    border-color: transparent;\n",
              "    border-bottom-color: var(--fill-color);\n",
              "    animation:\n",
              "      spin 1s steps(1) infinite;\n",
              "  }\n",
              "\n",
              "  @keyframes spin {\n",
              "    0% {\n",
              "      border-color: transparent;\n",
              "      border-bottom-color: var(--fill-color);\n",
              "      border-left-color: var(--fill-color);\n",
              "    }\n",
              "    20% {\n",
              "      border-color: transparent;\n",
              "      border-left-color: var(--fill-color);\n",
              "      border-top-color: var(--fill-color);\n",
              "    }\n",
              "    30% {\n",
              "      border-color: transparent;\n",
              "      border-left-color: var(--fill-color);\n",
              "      border-top-color: var(--fill-color);\n",
              "      border-right-color: var(--fill-color);\n",
              "    }\n",
              "    40% {\n",
              "      border-color: transparent;\n",
              "      border-right-color: var(--fill-color);\n",
              "      border-top-color: var(--fill-color);\n",
              "    }\n",
              "    60% {\n",
              "      border-color: transparent;\n",
              "      border-right-color: var(--fill-color);\n",
              "    }\n",
              "    80% {\n",
              "      border-color: transparent;\n",
              "      border-right-color: var(--fill-color);\n",
              "      border-bottom-color: var(--fill-color);\n",
              "    }\n",
              "    90% {\n",
              "      border-color: transparent;\n",
              "      border-bottom-color: var(--fill-color);\n",
              "    }\n",
              "  }\n",
              "</style>\n",
              "\n",
              "  <script>\n",
              "    async function quickchart(key) {\n",
              "      const quickchartButtonEl =\n",
              "        document.querySelector('#' + key + ' button');\n",
              "      quickchartButtonEl.disabled = true;  // To prevent multiple clicks.\n",
              "      quickchartButtonEl.classList.add('colab-df-spinner');\n",
              "      try {\n",
              "        const charts = await google.colab.kernel.invokeFunction(\n",
              "            'suggestCharts', [key], {});\n",
              "      } catch (error) {\n",
              "        console.error('Error during call to suggestCharts:', error);\n",
              "      }\n",
              "      quickchartButtonEl.classList.remove('colab-df-spinner');\n",
              "      quickchartButtonEl.classList.add('colab-df-quickchart-complete');\n",
              "    }\n",
              "    (() => {\n",
              "      let quickchartButtonEl =\n",
              "        document.querySelector('#df-2115f2d0-f680-4ccd-a2c9-78a8d7993a8b button');\n",
              "      quickchartButtonEl.style.display =\n",
              "        google.colab.kernel.accessAllowed ? 'block' : 'none';\n",
              "    })();\n",
              "  </script>\n",
              "</div>\n",
              "    </div>\n",
              "  </div>\n"
            ]
          },
          "metadata": {},
          "execution_count": 78
        }
      ]
    },
    {
      "cell_type": "code",
      "source": [
        "# División de los datos en train y test\n",
        "X = df.drop(columns = ['ID', 'Severity', 'Start_Time', 'End_Time', 'Start_Lat', 'Start_Lng','End_Lat', 'End_Lng', 'Distance(mi)', 'Description', 'Number', 'Street',\n",
        "       'Side', 'City', 'County', 'State',  'Country', 'Timezone','Airport_Code', 'Weather_Timestamp',\n",
        "       'Humidity(%)', 'Pressure(in)', 'Visibility(mi)', 'Wind_Direction', 'Wind_Speed(mph)', 'Precipitation(in)', 'Weather_Condition', 'Amenity',\n",
        "       'Bump', 'Crossing', 'Give_Way', 'Junction', 'No_Exit', 'Railway', 'Roundabout', 'Station', 'Stop', 'Traffic_Calming', 'Traffic_Signal',\n",
        "       'Turning_Loop', 'Sunrise_Sunset', 'Civil_Twilight', 'Nautical_Twilight',  'Anio_Mes', 'day_of_week', 'Mes','estacion_meteorologica', 'Hora', 'DiaS',  'Zipcode',\n",
        "       'Astronomical_Twilight'], axis= 1) # Matriz de 2 columnas -Variable Independientes # 'Temperature(F)', 'Wind_Chill(F)',\n",
        "y = df['Severity'] # Vector de 200 filas y 1 columna- Variable Dependiente"
      ],
      "metadata": {
        "id": "SSAbaEEdNVlk"
      },
      "execution_count": 79,
      "outputs": []
    },
    {
      "cell_type": "code",
      "source": [
        "#Visualizar X\n",
        "X"
      ],
      "metadata": {
        "colab": {
          "base_uri": "https://localhost:8080/",
          "height": 424
        },
        "id": "P5NUBY6rJ-J5",
        "outputId": "dd1acf66-4d6e-4c6b-94b3-c4e049f6b018"
      },
      "execution_count": 80,
      "outputs": [
        {
          "output_type": "execute_result",
          "data": {
            "text/plain": [
              "         Temperature(F)  Wind_Chill(F)\n",
              "82157              73.0            0.0\n",
              "904898             65.0           65.0\n",
              "220827             62.6            0.0\n",
              "2284116            68.0           68.0\n",
              "2134533            77.0           77.0\n",
              "...                 ...            ...\n",
              "1617904            53.0           53.0\n",
              "2815923            75.0           75.0\n",
              "1673761            75.0           75.0\n",
              "1502554            88.0           88.0\n",
              "1646298            48.0           48.0\n",
              "\n",
              "[100000 rows x 2 columns]"
            ],
            "text/html": [
              "\n",
              "  <div id=\"df-bc7a3d09-088c-4523-aab8-814d514ba12a\" class=\"colab-df-container\">\n",
              "    <div>\n",
              "<style scoped>\n",
              "    .dataframe tbody tr th:only-of-type {\n",
              "        vertical-align: middle;\n",
              "    }\n",
              "\n",
              "    .dataframe tbody tr th {\n",
              "        vertical-align: top;\n",
              "    }\n",
              "\n",
              "    .dataframe thead th {\n",
              "        text-align: right;\n",
              "    }\n",
              "</style>\n",
              "<table border=\"1\" class=\"dataframe\">\n",
              "  <thead>\n",
              "    <tr style=\"text-align: right;\">\n",
              "      <th></th>\n",
              "      <th>Temperature(F)</th>\n",
              "      <th>Wind_Chill(F)</th>\n",
              "    </tr>\n",
              "  </thead>\n",
              "  <tbody>\n",
              "    <tr>\n",
              "      <th>82157</th>\n",
              "      <td>73.0</td>\n",
              "      <td>0.0</td>\n",
              "    </tr>\n",
              "    <tr>\n",
              "      <th>904898</th>\n",
              "      <td>65.0</td>\n",
              "      <td>65.0</td>\n",
              "    </tr>\n",
              "    <tr>\n",
              "      <th>220827</th>\n",
              "      <td>62.6</td>\n",
              "      <td>0.0</td>\n",
              "    </tr>\n",
              "    <tr>\n",
              "      <th>2284116</th>\n",
              "      <td>68.0</td>\n",
              "      <td>68.0</td>\n",
              "    </tr>\n",
              "    <tr>\n",
              "      <th>2134533</th>\n",
              "      <td>77.0</td>\n",
              "      <td>77.0</td>\n",
              "    </tr>\n",
              "    <tr>\n",
              "      <th>...</th>\n",
              "      <td>...</td>\n",
              "      <td>...</td>\n",
              "    </tr>\n",
              "    <tr>\n",
              "      <th>1617904</th>\n",
              "      <td>53.0</td>\n",
              "      <td>53.0</td>\n",
              "    </tr>\n",
              "    <tr>\n",
              "      <th>2815923</th>\n",
              "      <td>75.0</td>\n",
              "      <td>75.0</td>\n",
              "    </tr>\n",
              "    <tr>\n",
              "      <th>1673761</th>\n",
              "      <td>75.0</td>\n",
              "      <td>75.0</td>\n",
              "    </tr>\n",
              "    <tr>\n",
              "      <th>1502554</th>\n",
              "      <td>88.0</td>\n",
              "      <td>88.0</td>\n",
              "    </tr>\n",
              "    <tr>\n",
              "      <th>1646298</th>\n",
              "      <td>48.0</td>\n",
              "      <td>48.0</td>\n",
              "    </tr>\n",
              "  </tbody>\n",
              "</table>\n",
              "<p>100000 rows × 2 columns</p>\n",
              "</div>\n",
              "    <div class=\"colab-df-buttons\">\n",
              "\n",
              "  <div class=\"colab-df-container\">\n",
              "    <button class=\"colab-df-convert\" onclick=\"convertToInteractive('df-bc7a3d09-088c-4523-aab8-814d514ba12a')\"\n",
              "            title=\"Convert this dataframe to an interactive table.\"\n",
              "            style=\"display:none;\">\n",
              "\n",
              "  <svg xmlns=\"http://www.w3.org/2000/svg\" height=\"24px\" viewBox=\"0 -960 960 960\">\n",
              "    <path d=\"M120-120v-720h720v720H120Zm60-500h600v-160H180v160Zm220 220h160v-160H400v160Zm0 220h160v-160H400v160ZM180-400h160v-160H180v160Zm440 0h160v-160H620v160ZM180-180h160v-160H180v160Zm440 0h160v-160H620v160Z\"/>\n",
              "  </svg>\n",
              "    </button>\n",
              "\n",
              "  <style>\n",
              "    .colab-df-container {\n",
              "      display:flex;\n",
              "      gap: 12px;\n",
              "    }\n",
              "\n",
              "    .colab-df-convert {\n",
              "      background-color: #E8F0FE;\n",
              "      border: none;\n",
              "      border-radius: 50%;\n",
              "      cursor: pointer;\n",
              "      display: none;\n",
              "      fill: #1967D2;\n",
              "      height: 32px;\n",
              "      padding: 0 0 0 0;\n",
              "      width: 32px;\n",
              "    }\n",
              "\n",
              "    .colab-df-convert:hover {\n",
              "      background-color: #E2EBFA;\n",
              "      box-shadow: 0px 1px 2px rgba(60, 64, 67, 0.3), 0px 1px 3px 1px rgba(60, 64, 67, 0.15);\n",
              "      fill: #174EA6;\n",
              "    }\n",
              "\n",
              "    .colab-df-buttons div {\n",
              "      margin-bottom: 4px;\n",
              "    }\n",
              "\n",
              "    [theme=dark] .colab-df-convert {\n",
              "      background-color: #3B4455;\n",
              "      fill: #D2E3FC;\n",
              "    }\n",
              "\n",
              "    [theme=dark] .colab-df-convert:hover {\n",
              "      background-color: #434B5C;\n",
              "      box-shadow: 0px 1px 3px 1px rgba(0, 0, 0, 0.15);\n",
              "      filter: drop-shadow(0px 1px 2px rgba(0, 0, 0, 0.3));\n",
              "      fill: #FFFFFF;\n",
              "    }\n",
              "  </style>\n",
              "\n",
              "    <script>\n",
              "      const buttonEl =\n",
              "        document.querySelector('#df-bc7a3d09-088c-4523-aab8-814d514ba12a button.colab-df-convert');\n",
              "      buttonEl.style.display =\n",
              "        google.colab.kernel.accessAllowed ? 'block' : 'none';\n",
              "\n",
              "      async function convertToInteractive(key) {\n",
              "        const element = document.querySelector('#df-bc7a3d09-088c-4523-aab8-814d514ba12a');\n",
              "        const dataTable =\n",
              "          await google.colab.kernel.invokeFunction('convertToInteractive',\n",
              "                                                    [key], {});\n",
              "        if (!dataTable) return;\n",
              "\n",
              "        const docLinkHtml = 'Like what you see? Visit the ' +\n",
              "          '<a target=\"_blank\" href=https://colab.research.google.com/notebooks/data_table.ipynb>data table notebook</a>'\n",
              "          + ' to learn more about interactive tables.';\n",
              "        element.innerHTML = '';\n",
              "        dataTable['output_type'] = 'display_data';\n",
              "        await google.colab.output.renderOutput(dataTable, element);\n",
              "        const docLink = document.createElement('div');\n",
              "        docLink.innerHTML = docLinkHtml;\n",
              "        element.appendChild(docLink);\n",
              "      }\n",
              "    </script>\n",
              "  </div>\n",
              "\n",
              "\n",
              "<div id=\"df-cf7d8c07-1fe1-4a66-b203-00099cd24a8b\">\n",
              "  <button class=\"colab-df-quickchart\" onclick=\"quickchart('df-cf7d8c07-1fe1-4a66-b203-00099cd24a8b')\"\n",
              "            title=\"Suggest charts.\"\n",
              "            style=\"display:none;\">\n",
              "\n",
              "<svg xmlns=\"http://www.w3.org/2000/svg\" height=\"24px\"viewBox=\"0 0 24 24\"\n",
              "     width=\"24px\">\n",
              "    <g>\n",
              "        <path d=\"M19 3H5c-1.1 0-2 .9-2 2v14c0 1.1.9 2 2 2h14c1.1 0 2-.9 2-2V5c0-1.1-.9-2-2-2zM9 17H7v-7h2v7zm4 0h-2V7h2v10zm4 0h-2v-4h2v4z\"/>\n",
              "    </g>\n",
              "</svg>\n",
              "  </button>\n",
              "\n",
              "<style>\n",
              "  .colab-df-quickchart {\n",
              "      --bg-color: #E8F0FE;\n",
              "      --fill-color: #1967D2;\n",
              "      --hover-bg-color: #E2EBFA;\n",
              "      --hover-fill-color: #174EA6;\n",
              "      --disabled-fill-color: #AAA;\n",
              "      --disabled-bg-color: #DDD;\n",
              "  }\n",
              "\n",
              "  [theme=dark] .colab-df-quickchart {\n",
              "      --bg-color: #3B4455;\n",
              "      --fill-color: #D2E3FC;\n",
              "      --hover-bg-color: #434B5C;\n",
              "      --hover-fill-color: #FFFFFF;\n",
              "      --disabled-bg-color: #3B4455;\n",
              "      --disabled-fill-color: #666;\n",
              "  }\n",
              "\n",
              "  .colab-df-quickchart {\n",
              "    background-color: var(--bg-color);\n",
              "    border: none;\n",
              "    border-radius: 50%;\n",
              "    cursor: pointer;\n",
              "    display: none;\n",
              "    fill: var(--fill-color);\n",
              "    height: 32px;\n",
              "    padding: 0;\n",
              "    width: 32px;\n",
              "  }\n",
              "\n",
              "  .colab-df-quickchart:hover {\n",
              "    background-color: var(--hover-bg-color);\n",
              "    box-shadow: 0 1px 2px rgba(60, 64, 67, 0.3), 0 1px 3px 1px rgba(60, 64, 67, 0.15);\n",
              "    fill: var(--button-hover-fill-color);\n",
              "  }\n",
              "\n",
              "  .colab-df-quickchart-complete:disabled,\n",
              "  .colab-df-quickchart-complete:disabled:hover {\n",
              "    background-color: var(--disabled-bg-color);\n",
              "    fill: var(--disabled-fill-color);\n",
              "    box-shadow: none;\n",
              "  }\n",
              "\n",
              "  .colab-df-spinner {\n",
              "    border: 2px solid var(--fill-color);\n",
              "    border-color: transparent;\n",
              "    border-bottom-color: var(--fill-color);\n",
              "    animation:\n",
              "      spin 1s steps(1) infinite;\n",
              "  }\n",
              "\n",
              "  @keyframes spin {\n",
              "    0% {\n",
              "      border-color: transparent;\n",
              "      border-bottom-color: var(--fill-color);\n",
              "      border-left-color: var(--fill-color);\n",
              "    }\n",
              "    20% {\n",
              "      border-color: transparent;\n",
              "      border-left-color: var(--fill-color);\n",
              "      border-top-color: var(--fill-color);\n",
              "    }\n",
              "    30% {\n",
              "      border-color: transparent;\n",
              "      border-left-color: var(--fill-color);\n",
              "      border-top-color: var(--fill-color);\n",
              "      border-right-color: var(--fill-color);\n",
              "    }\n",
              "    40% {\n",
              "      border-color: transparent;\n",
              "      border-right-color: var(--fill-color);\n",
              "      border-top-color: var(--fill-color);\n",
              "    }\n",
              "    60% {\n",
              "      border-color: transparent;\n",
              "      border-right-color: var(--fill-color);\n",
              "    }\n",
              "    80% {\n",
              "      border-color: transparent;\n",
              "      border-right-color: var(--fill-color);\n",
              "      border-bottom-color: var(--fill-color);\n",
              "    }\n",
              "    90% {\n",
              "      border-color: transparent;\n",
              "      border-bottom-color: var(--fill-color);\n",
              "    }\n",
              "  }\n",
              "</style>\n",
              "\n",
              "  <script>\n",
              "    async function quickchart(key) {\n",
              "      const quickchartButtonEl =\n",
              "        document.querySelector('#' + key + ' button');\n",
              "      quickchartButtonEl.disabled = true;  // To prevent multiple clicks.\n",
              "      quickchartButtonEl.classList.add('colab-df-spinner');\n",
              "      try {\n",
              "        const charts = await google.colab.kernel.invokeFunction(\n",
              "            'suggestCharts', [key], {});\n",
              "      } catch (error) {\n",
              "        console.error('Error during call to suggestCharts:', error);\n",
              "      }\n",
              "      quickchartButtonEl.classList.remove('colab-df-spinner');\n",
              "      quickchartButtonEl.classList.add('colab-df-quickchart-complete');\n",
              "    }\n",
              "    (() => {\n",
              "      let quickchartButtonEl =\n",
              "        document.querySelector('#df-cf7d8c07-1fe1-4a66-b203-00099cd24a8b button');\n",
              "      quickchartButtonEl.style.display =\n",
              "        google.colab.kernel.accessAllowed ? 'block' : 'none';\n",
              "    })();\n",
              "  </script>\n",
              "</div>\n",
              "    </div>\n",
              "  </div>\n"
            ]
          },
          "metadata": {},
          "execution_count": 80
        }
      ]
    },
    {
      "cell_type": "code",
      "source": [
        "X.dtypes"
      ],
      "metadata": {
        "colab": {
          "base_uri": "https://localhost:8080/"
        },
        "id": "_kBUURaCNG95",
        "outputId": "8c97fd81-1751-4ebb-89be-f7153c3a872d"
      },
      "execution_count": 81,
      "outputs": [
        {
          "output_type": "execute_result",
          "data": {
            "text/plain": [
              "Temperature(F)    float64\n",
              "Wind_Chill(F)     float64\n",
              "dtype: object"
            ]
          },
          "metadata": {},
          "execution_count": 81
        }
      ]
    },
    {
      "cell_type": "code",
      "source": [
        "#Visualizar y\n",
        "y"
      ],
      "metadata": {
        "colab": {
          "base_uri": "https://localhost:8080/"
        },
        "id": "aWIWGnvNJ-GW",
        "outputId": "9c8478a0-0c66-4ba3-a3ca-e3d10cefc1e6"
      },
      "execution_count": 82,
      "outputs": [
        {
          "output_type": "execute_result",
          "data": {
            "text/plain": [
              "82157      2\n",
              "904898     2\n",
              "220827     2\n",
              "2284116    2\n",
              "2134533    2\n",
              "          ..\n",
              "1617904    2\n",
              "2815923    2\n",
              "1673761    2\n",
              "1502554    2\n",
              "1646298    2\n",
              "Name: Severity, Length: 100000, dtype: int64"
            ]
          },
          "metadata": {},
          "execution_count": 82
        }
      ]
    },
    {
      "cell_type": "code",
      "source": [
        "print(X.shape, y.shape)"
      ],
      "metadata": {
        "colab": {
          "base_uri": "https://localhost:8080/"
        },
        "id": "IDgL4Zyvtx2y",
        "outputId": "b526be1c-2deb-477e-cd5f-4ffef6fb4530"
      },
      "execution_count": 83,
      "outputs": [
        {
          "output_type": "stream",
          "name": "stdout",
          "text": [
            "(100000, 2) (100000,)\n"
          ]
        }
      ]
    },
    {
      "cell_type": "code",
      "source": [
        "# normalizar data\n",
        "#X = df_filtered.values\n",
        "sc = StandardScaler()\n",
        "sc.fit(X)\n",
        "X = sc.transform(X)"
      ],
      "metadata": {
        "id": "v75krkhI571-"
      },
      "execution_count": 84,
      "outputs": []
    },
    {
      "cell_type": "code",
      "source": [
        "X"
      ],
      "metadata": {
        "colab": {
          "base_uri": "https://localhost:8080/"
        },
        "id": "S6g7kvYS6DKZ",
        "outputId": "e19fe2d5-8593-4213-984c-445fedfe9da8"
      },
      "execution_count": 85,
      "outputs": [
        {
          "output_type": "execute_result",
          "data": {
            "text/plain": [
              "array([[ 0.61479862, -1.69736806],\n",
              "       [ 0.23058214,  0.5146185 ],\n",
              "       [ 0.1153172 , -1.69736806],\n",
              "       ...,\n",
              "       [ 0.71085274,  0.85492413],\n",
              "       [ 1.33520451,  1.29732144],\n",
              "       [-0.58587787, -0.06390106]])"
            ]
          },
          "metadata": {},
          "execution_count": 85
        }
      ]
    },
    {
      "cell_type": "markdown",
      "source": [
        "# NUEVO ENFOQUE\n",
        "\n",
        "Aprender los parámetros de una función de predicción y probarla con los mismos datos es un error metodológico: un modelo que simplemente repetiría las etiquetas de las muestras que acaba de ver tendría una puntuación perfecta pero no predeciría nada útil todavía. datos no vistos. Esta situación se llama **sobreajuste** . Para evitarlo, es una práctica común al realizar un experimento de aprendizaje automático (supervisado) mantener parte de los datos disponibles como un **conjunto de prueba** ."
      ],
      "metadata": {
        "id": "qdp9JXfm6eZq"
      }
    },
    {
      "cell_type": "markdown",
      "source": [
        "![image.png](data:image/png;base64,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)"
      ],
      "metadata": {
        "id": "6PYd_baC7pK5"
      }
    },
    {
      "cell_type": "code",
      "source": [
        "# Separar en train y test\n",
        "X_train,X_test, y_train, y_test = train_test_split(X, y, test_size=0.4, random_state=0)\n",
        "print(X_train.shape, X_test.shape)"
      ],
      "metadata": {
        "colab": {
          "base_uri": "https://localhost:8080/"
        },
        "id": "YdSKQ3_mvVQ8",
        "outputId": "8c7bde96-f349-43d6-d4c5-b7c2ee344bc0"
      },
      "execution_count": 86,
      "outputs": [
        {
          "output_type": "stream",
          "name": "stdout",
          "text": [
            "(60000, 2) (40000, 2)\n"
          ]
        }
      ]
    },
    {
      "cell_type": "code",
      "source": [
        "y_train.shape, y_test.shape"
      ],
      "metadata": {
        "colab": {
          "base_uri": "https://localhost:8080/"
        },
        "id": "PWLJP0S_9O8S",
        "outputId": "f1343446-b5a3-47dc-8265-fe5ea2228d7c"
      },
      "execution_count": 89,
      "outputs": [
        {
          "output_type": "execute_result",
          "data": {
            "text/plain": [
              "((60000,), (40000,))"
            ]
          },
          "metadata": {},
          "execution_count": 89
        }
      ]
    },
    {
      "cell_type": "code",
      "source": [
        "from sklearn import svm\n",
        "\n",
        "clf = svm.SVC(kernel='linear', C=1).fit(X_train, y_train)\n",
        "clf.score(X_test, y_test)"
      ],
      "metadata": {
        "colab": {
          "base_uri": "https://localhost:8080/"
        },
        "id": "aSToDDzQ7y1o",
        "outputId": "2ec25c3f-13da-4135-a67b-b863490f4443"
      },
      "execution_count": 88,
      "outputs": [
        {
          "output_type": "execute_result",
          "data": {
            "text/plain": [
              "0.8922"
            ]
          },
          "metadata": {},
          "execution_count": 88
        }
      ]
    },
    {
      "cell_type": "markdown",
      "source": [
        "## Calcular Métricas con Validación Cruzada"
      ],
      "metadata": {
        "id": "3_VcGtbh9gjZ"
      }
    },
    {
      "cell_type": "code",
      "source": [
        "from sklearn.model_selection import cross_val_score\n",
        "clf = svm.SVC(kernel='linear', C=1, random_state=42)\n",
        "scores = cross_val_score(clf, X, y, cv=5)\n",
        "scores"
      ],
      "metadata": {
        "colab": {
          "base_uri": "https://localhost:8080/"
        },
        "id": "JlL7ew4M9hTV",
        "outputId": "c3fa20ff-dbcd-4ebc-dd65-ecb3e4d13117"
      },
      "execution_count": 35,
      "outputs": [
        {
          "output_type": "execute_result",
          "data": {
            "text/plain": [
              "array([0.89115, 0.89115, 0.8911 , 0.8911 , 0.8911 ])"
            ]
          },
          "metadata": {},
          "execution_count": 35
        }
      ]
    },
    {
      "cell_type": "code",
      "source": [
        "print(\"%0.2f accuracy with a standard deviation of %0.2f\" % (scores.mean(), scores.std()))"
      ],
      "metadata": {
        "colab": {
          "base_uri": "https://localhost:8080/"
        },
        "id": "jQ0iv1zD-Syw",
        "outputId": "250be111-7acf-4391-c9ce-dd3fb3bcb1d2"
      },
      "execution_count": 36,
      "outputs": [
        {
          "output_type": "stream",
          "name": "stdout",
          "text": [
            "0.89 accuracy with a standard deviation of 0.00\n"
          ]
        }
      ]
    },
    {
      "cell_type": "markdown",
      "source": [
        "# Iteradores de Validación Cruzada"
      ],
      "metadata": {
        "id": "ISOXtknV-vVU"
      }
    },
    {
      "cell_type": "code",
      "source": [
        "def plot_cv_indices(cv, X, y, group, ax, n_splits, lw=10):\n",
        "    \"\"\"Create a sample plot for indices of a cross-validation object.\"\"\"\n",
        "\n",
        "    # Generate the training/testing visualizations for each CV split\n",
        "    for ii, (tr, tt) in enumerate(cv.split(X=X, y=y, groups=group)):\n",
        "        # Fill in indices with the training/test groups\n",
        "        indices = np.array([np.nan] * len(X))\n",
        "        indices[tt] = 1\n",
        "        indices[tr] = 0\n",
        "\n",
        "        # Visualize the results\n",
        "        ax.scatter(\n",
        "            range(len(indices)),\n",
        "            [ii + 0.5] * len(indices),\n",
        "            c=indices,\n",
        "            marker=\"_\",\n",
        "            lw=lw,\n",
        "            cmap=cmap_cv,\n",
        "            vmin=-0.2,\n",
        "            vmax=1.2,\n",
        "        )\n",
        "\n",
        "    # Plot the data classes and groups at the end\n",
        "    ax.scatter(\n",
        "        range(len(X)), [ii + 1.5] * len(X), c=y, marker=\"_\", lw=lw, cmap=cmap_data\n",
        "    )\n",
        "\n",
        "    ax.scatter(\n",
        "        range(len(X)), [ii + 2.5] * len(X), c=group, marker=\"_\", lw=lw, cmap=cmap_data\n",
        "    )\n",
        "\n",
        "    # Formatting\n",
        "    yticklabels = list(range(n_splits)) + [\"class\", \"group\"]\n",
        "    ax.set(\n",
        "        yticks=np.arange(n_splits + 2) + 0.5,\n",
        "        yticklabels=yticklabels,\n",
        "        xlabel=\"Sample index\",\n",
        "        ylabel=\"CV iteration\",\n",
        "        ylim=[n_splits + 2.2, -0.2],\n",
        "        xlim=[0, 100],\n",
        "    )\n",
        "    ax.set_title(\"{}\".format(type(cv).__name__), fontsize=15)\n",
        "    return ax"
      ],
      "metadata": {
        "id": "pLrKPdyHAy5y"
      },
      "execution_count": 38,
      "outputs": []
    },
    {
      "cell_type": "code",
      "source": [
        "from sklearn.model_selection import KFold\n",
        "kf = KFold(n_splits=2)\n",
        "for X_test, y_test in kf.split(X):\n",
        "      print(\"%s %s\" % (X_train, X_test))"
      ],
      "metadata": {
        "colab": {
          "base_uri": "https://localhost:8080/"
        },
        "id": "rrvjrUju-1GW",
        "outputId": "c38d91a8-d3a1-4ecc-fa3b-336e506a0b96"
      },
      "execution_count": 90,
      "outputs": [
        {
          "output_type": "stream",
          "name": "stdout",
          "text": [
            "[[-0.24968846  0.17431288]\n",
            " [ 1.23915039  1.22926032]\n",
            " [ 1.09506921  1.12716863]\n",
            " ...\n",
            " [-0.00955316  0.34446569]\n",
            " [-0.58587787 -0.16599275]\n",
            " [-0.29771552  0.14028232]] [50000 50001 50002 ... 99997 99998 99999]\n",
            "[[-0.24968846  0.17431288]\n",
            " [ 1.23915039  1.22926032]\n",
            " [ 1.09506921  1.12716863]\n",
            " ...\n",
            " [-0.00955316  0.34446569]\n",
            " [-0.58587787 -0.16599275]\n",
            " [-0.29771552  0.14028232]] [    0     1     2 ... 49997 49998 49999]\n"
          ]
        }
      ]
    },
    {
      "cell_type": "code",
      "source": [
        "X_train.shape"
      ],
      "metadata": {
        "colab": {
          "base_uri": "https://localhost:8080/"
        },
        "id": "Ops8KJNrGrxD",
        "outputId": "b4f3fc0c-6691-4d19-db5c-7685dabacd66"
      },
      "execution_count": 91,
      "outputs": [
        {
          "output_type": "execute_result",
          "data": {
            "text/plain": [
              "(60000, 2)"
            ]
          },
          "metadata": {},
          "execution_count": 91
        }
      ]
    },
    {
      "cell_type": "code",
      "source": [
        "y_train.shape"
      ],
      "metadata": {
        "colab": {
          "base_uri": "https://localhost:8080/"
        },
        "id": "Qv5MWyN4IQWT",
        "outputId": "f8b4c000-007e-4152-eba6-54e1360e76eb"
      },
      "execution_count": 92,
      "outputs": [
        {
          "output_type": "execute_result",
          "data": {
            "text/plain": [
              "(60000,)"
            ]
          },
          "metadata": {},
          "execution_count": 92
        }
      ]
    },
    {
      "cell_type": "code",
      "source": [
        "# Generate uneven groups\n",
        "rng = np.random.RandomState(1338)\n",
        "cmap_data = plt.cm.Paired\n",
        "cmap_cv = plt.cm.coolwarm\n",
        "n_splits = 4\n",
        "\n",
        "group_prior = rng.dirichlet([2] * 10)\n",
        "groups = np.repeat(np.arange(10), rng.multinomial(60000, group_prior))"
      ],
      "metadata": {
        "id": "ES5mKKfHChO6"
      },
      "execution_count": 95,
      "outputs": []
    },
    {
      "cell_type": "code",
      "source": [
        "fig, ax = plt.subplots()\n",
        "plot_cv_indices(kf, X_train, y_train, groups, ax, n_splits)"
      ],
      "metadata": {
        "colab": {
          "base_uri": "https://localhost:8080/",
          "height": 521
        },
        "id": "XGADkgmwFDvm",
        "outputId": "1e013e0a-b21b-44f3-bc0e-81df1d4900c8"
      },
      "execution_count": 96,
      "outputs": [
        {
          "output_type": "execute_result",
          "data": {
            "text/plain": [
              "<Axes: title={'center': 'KFold'}, xlabel='Sample index', ylabel='CV iteration'>"
            ]
          },
          "metadata": {},
          "execution_count": 96
        },
        {
          "output_type": "display_data",
          "data": {
            "text/plain": [
              "<Figure size 640x480 with 1 Axes>"
            ],
            "image/png": "[encoded data removed]"
          },
          "metadata": {}
        }
      ]
    },
    {
      "cell_type": "markdown",
      "source": [
        "# Repeated K-Fold"
      ],
      "metadata": {
        "id": "dumGwuqKEAsW"
      }
    },
    {
      "cell_type": "code",
      "source": [
        "from sklearn.model_selection import RepeatedKFold\n",
        "#X = np.array([[1, 2], [3, 4], [1, 2], [3, 4]])\n",
        "random_state = 12883823\n",
        "rkf = RepeatedKFold(n_splits=2, n_repeats=2, random_state=random_state)\n",
        "for train, test in rkf.split(X):\n",
        "      print(\"%s %s\" % (X_train, y_train))"
      ],
      "metadata": {
        "colab": {
          "base_uri": "https://localhost:8080/"
        },
        "id": "ieNPQBF6EBWu",
        "outputId": "44024c1a-c62c-474d-8416-2ff19d40ad75"
      },
      "execution_count": 97,
      "outputs": [
        {
          "output_type": "stream",
          "name": "stdout",
          "text": [
            "[[-0.24968846  0.17431288]\n",
            " [ 1.23915039  1.22926032]\n",
            " [ 1.09506921  1.12716863]\n",
            " ...\n",
            " [-0.00955316  0.34446569]\n",
            " [-0.58587787 -0.16599275]\n",
            " [-0.29771552  0.14028232]] 1099101    2\n",
            "609081     2\n",
            "2086594    2\n",
            "1532989    2\n",
            "2480401    2\n",
            "          ..\n",
            "1434142    2\n",
            "2718066    2\n",
            "1784832    2\n",
            "1847814    2\n",
            "2164329    2\n",
            "Name: Severity, Length: 60000, dtype: int64\n",
            "[[-0.24968846  0.17431288]\n",
            " [ 1.23915039  1.22926032]\n",
            " [ 1.09506921  1.12716863]\n",
            " ...\n",
            " [-0.00955316  0.34446569]\n",
            " [-0.58587787 -0.16599275]\n",
            " [-0.29771552  0.14028232]] 1099101    2\n",
            "609081     2\n",
            "2086594    2\n",
            "1532989    2\n",
            "2480401    2\n",
            "          ..\n",
            "1434142    2\n",
            "2718066    2\n",
            "1784832    2\n",
            "1847814    2\n",
            "2164329    2\n",
            "Name: Severity, Length: 60000, dtype: int64\n",
            "[[-0.24968846  0.17431288]\n",
            " [ 1.23915039  1.22926032]\n",
            " [ 1.09506921  1.12716863]\n",
            " ...\n",
            " [-0.00955316  0.34446569]\n",
            " [-0.58587787 -0.16599275]\n",
            " [-0.29771552  0.14028232]] 1099101    2\n",
            "609081     2\n",
            "2086594    2\n",
            "1532989    2\n",
            "2480401    2\n",
            "          ..\n",
            "1434142    2\n",
            "2718066    2\n",
            "1784832    2\n",
            "1847814    2\n",
            "2164329    2\n",
            "Name: Severity, Length: 60000, dtype: int64\n",
            "[[-0.24968846  0.17431288]\n",
            " [ 1.23915039  1.22926032]\n",
            " [ 1.09506921  1.12716863]\n",
            " ...\n",
            " [-0.00955316  0.34446569]\n",
            " [-0.58587787 -0.16599275]\n",
            " [-0.29771552  0.14028232]] 1099101    2\n",
            "609081     2\n",
            "2086594    2\n",
            "1532989    2\n",
            "2480401    2\n",
            "          ..\n",
            "1434142    2\n",
            "2718066    2\n",
            "1784832    2\n",
            "1847814    2\n",
            "2164329    2\n",
            "Name: Severity, Length: 60000, dtype: int64\n"
          ]
        }
      ]
    },
    {
      "cell_type": "code",
      "source": [
        "fig, ax = plt.subplots()\n",
        "\n",
        "plot_cv_indices(rkf, X_train, y_train, groups, ax, n_splits)"
      ],
      "metadata": {
        "colab": {
          "base_uri": "https://localhost:8080/",
          "height": 521
        },
        "id": "X2WxNFeYA7l1",
        "outputId": "c2a1788c-7e9e-4521-e85a-a499fe2228d1"
      },
      "execution_count": 102,
      "outputs": [
        {
          "output_type": "execute_result",
          "data": {
            "text/plain": [
              "<Axes: title={'center': 'RepeatedKFold'}, xlabel='Sample index', ylabel='CV iteration'>"
            ]
          },
          "metadata": {},
          "execution_count": 102
        },
        {
          "output_type": "display_data",
          "data": {
            "text/plain": [
              "<Figure size 640x480 with 1 Axes>"
            ],
            "image/png": "[encoded data removed]"
          },
          "metadata": {}
        }
      ]
    },
    {
      "cell_type": "markdown",
      "source": [
        "Permutaciones Random\n"
      ],
      "metadata": {
        "id": "4cmOrbWTJo5S"
      }
    },
    {
      "cell_type": "code",
      "source": [
        "from sklearn.model_selection import ShuffleSplit\n",
        "ss = ShuffleSplit(n_splits=5, test_size=0.25, random_state=0)\n",
        "for train_index, test_index in ss.split(X):\n",
        "   print(\"%s %s\" % (train_index, test_index))"
      ],
      "metadata": {
        "colab": {
          "base_uri": "https://localhost:8080/"
        },
        "id": "nBW5gbjUJr46",
        "outputId": "e3e2b488-6f32-44d2-c364-32e40ab36f8a"
      },
      "execution_count": 100,
      "outputs": [
        {
          "output_type": "stream",
          "name": "stdout",
          "text": [
            "[ 2606 57228  8382 ... 42613 43567 68268] [ 3582 60498 53227 ... 87585 32519 18831]\n",
            "[54135 13917 25607 ... 84389 26023  1298] [10655 29762 63784 ... 52099 83917 94421]\n",
            "[13986 72264 36901 ... 10928 25125 32837] [16037 17477 92520 ... 90396 43393 22859]\n",
            "[ 3640 67692 21713 ...  5533 53060 59475] [26719 56479 99173 ...  7489  9891 74791]\n",
            "[75543  6113  5711 ... 69700 71225 77942] [21212 90847 98957 ... 66361 70487 33464]\n"
          ]
        }
      ]
    },
    {
      "cell_type": "code",
      "source": [
        "fig, ax = plt.subplots()\n",
        "plot_cv_indices(ss, X_train, y_train, groups, ax, n_splits)"
      ],
      "metadata": {
        "colab": {
          "base_uri": "https://localhost:8080/",
          "height": 521
        },
        "id": "Ajqe17DoKBTV",
        "outputId": "13731db1-c335-4ae5-97be-e5d5e6ca7269"
      },
      "execution_count": 101,
      "outputs": [
        {
          "output_type": "execute_result",
          "data": {
            "text/plain": [
              "<Axes: title={'center': 'ShuffleSplit'}, xlabel='Sample index', ylabel='CV iteration'>"
            ]
          },
          "metadata": {},
          "execution_count": 101
        },
        {
          "output_type": "display_data",
          "data": {
            "text/plain": [
              "<Figure size 640x480 with 1 Axes>"
            ],
            "image/png": "[encoded data removed]"
          },
          "metadata": {}
        }
      ]
    }
  ]
}