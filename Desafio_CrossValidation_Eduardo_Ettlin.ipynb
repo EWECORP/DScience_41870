{
  "nbformat": 4,
  "nbformat_minor": 0,
  "metadata": {
    "kernelspec": {
      "display_name": "Python 3",
      "name": "python3"
    },
    "language_info": {
      "codemirror_mode": {
        "name": "ipython",
        "version": 3
      },
      "file_extension": ".py",
      "mimetype": "text/x-python",
      "name": "python",
      "nbconvert_exporter": "python",
      "pygments_lexer": "ipython3",
      "version": "3.8.5"
    },
    "varInspector": {
      "cols": {
        "lenName": 16,
        "lenType": 16,
        "lenVar": 40
      },
      "kernels_config": {
        "python": {
          "delete_cmd_postfix": "",
          "delete_cmd_prefix": "del ",
          "library": "var_list.py",
          "varRefreshCmd": "print(var_dic_list())"
        },
        "r": {
          "delete_cmd_postfix": ") ",
          "delete_cmd_prefix": "rm(",
          "library": "var_list.r",
          "varRefreshCmd": "cat(var_dic_list()) "
        }
      },
      "types_to_exclude": [
        "module",
        "function",
        "builtin_function_or_method",
        "instance",
        "_Feature"
      ],
      "window_display": false
    },
    "colab": {
      "provenance": [],
      "gpuType": "T4",
      "include_colab_link": true
    },
    "accelerator": "GPU"
  },
  "cells": [
    {
      "cell_type": "markdown",
      "metadata": {
        "id": "view-in-github",
        "colab_type": "text"
      },
      "source": [
        "<a href=\"https://colab.research.google.com/github/EWECORP/DScience_41870/blob/main/Desafio_CrossValidation_Eduardo_Ettlin.ipynb\" target=\"_parent\"><img src=\"https://colab.research.google.com/assets/colab-badge.svg\" alt=\"Open In Colab\"/></a>"
      ]
    },
    {
      "cell_type": "markdown",
      "source": [
        "![CODERHOUSE.jpg](data:image/jpeg;base64,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)"
      ],
      "metadata": {
        "id": "uV5gCMhieuxX"
      }
    },
    {
      "cell_type": "markdown",
      "source": [
        "# **CURSO DE DATA SCIENCE**\n",
        "\n",
        "# **DESAFIO  CROSS VALIDATION**\n",
        "\n",
        "# **DESAFIO N° 15**\n",
        "\n",
        "*AUTOR:Eduardo ETTLIN*\n",
        "\n",
        "Entrenar uno de los modelos elegidos con las mismas variables pero aplicando alguno de los métodos aprendidos de validación cruzada\n",
        "\n",
        "Describir si hay cambios en el performance del modelo y explicar con razones el porqué\n",
        "\n",
        "Se recomienda utilizar entre 5-10 folds para el proceso de CrossValidation con el fin de optimizar el tiempo de ejecución de la técnica\n"
      ],
      "metadata": {
        "id": "XMv7Rofhe1fA"
      }
    },
    {
      "cell_type": "code",
      "source": [
        "  #Conectamos mi drive\n",
        "  from google.colab import drive\n",
        "  #Importamos OS\n",
        "  import os\n",
        "  #Montamos drive\n",
        "  drive.mount('/content/gdrive', force_remount=True)\n",
        "# Establecer ruta de acceso en drive\n",
        "import os\n",
        "print(os.getcwd())"
      ],
      "metadata": {
        "colab": {
          "base_uri": "https://localhost:8080/"
        },
        "id": "NkYbjYU8fzpY",
        "outputId": "94bd313b-4620-4405-eb0d-cb983b4454b8"
      },
      "execution_count": 1,
      "outputs": [
        {
          "output_type": "stream",
          "name": "stdout",
          "text": [
            "Mounted at /content/gdrive\n",
            "/content\n"
          ]
        }
      ]
    },
    {
      "cell_type": "code",
      "metadata": {
        "id": "8OZK6N3AznyY"
      },
      "source": [
        "# Tratamiento de datos\n",
        "# ==============================================================================\n",
        "import pandas as pd\n",
        "import numpy as np\n",
        "\n",
        "# Preprocesado y modelado\n",
        "# ==============================================================================\n",
        "from sklearn.svm import SVC\n",
        "from sklearn.model_selection import train_test_split\n",
        "from sklearn.metrics import accuracy_score\n",
        "\n",
        "from sklearn.cluster import KMeans\n",
        "from sklearn.metrics import davies_bouldin_score,silhouette_score,silhouette_samples,calinski_harabasz_score\n",
        "from sklearn.preprocessing import StandardScaler\n",
        "\n",
        "import matplotlib.pyplot as plt\n",
        "import matplotlib.cm as cm\n",
        "\n",
        "import xgboost as xgb\n",
        "from sklearn.metrics import mean_squared_error\n",
        "from sklearn.model_selection import GridSearchCV\n",
        "from sklearn.model_selection import RandomizedSearchCV\n",
        "from sklearn.experimental import enable_halving_search_cv\n",
        "from sklearn.model_selection import HalvingGridSearchCV\n",
        "from sklearn.model_selection import HalvingRandomSearchCV\n",
        "\n",
        "# Configuración warnings\n",
        "# ==============================================================================\n",
        "import warnings\n",
        "warnings.filterwarnings('ignore')"
      ],
      "execution_count": 2,
      "outputs": []
    },
    {
      "cell_type": "code",
      "source": [
        "pip install featuretools -q"
      ],
      "metadata": {
        "colab": {
          "base_uri": "https://localhost:8080/"
        },
        "id": "XEGumXJ4AmZb",
        "outputId": "e3b07fe8-877a-4df6-ceca-0933ffd91507"
      },
      "execution_count": 3,
      "outputs": [
        {
          "output_type": "stream",
          "name": "stdout",
          "text": [
            "\u001b[2K     \u001b[90m━━━━━━━━━━━━━━━━━━━━━━━━━━━━━━━━━━━━━━━\u001b[0m \u001b[32m618.3/618.3 kB\u001b[0m \u001b[31m5.2 MB/s\u001b[0m eta \u001b[36m0:00:00\u001b[0m\n",
            "\u001b[2K     \u001b[90m━━━━━━━━━━━━━━━━━━━━━━━━━━━━━━━━━━━━━━━\u001b[0m \u001b[32m236.0/236.0 kB\u001b[0m \u001b[31m6.9 MB/s\u001b[0m eta \u001b[36m0:00:00\u001b[0m\n",
            "\u001b[?25h"
          ]
        }
      ]
    },
    {
      "cell_type": "code",
      "source": [
        "# featuretools for automated feature engineering\n",
        "import featuretools as ft\n",
        "\n",
        "# matplotlit and seaborn for visualizations\n",
        "import matplotlib.pyplot as plt\n",
        "plt.rcParams['font.size'] = 22\n",
        "import seaborn as sns\n",
        "\n",
        "# Suppress warnings from pandas\n",
        "import warnings\n",
        "warnings.filterwarnings('ignore')\n",
        "\n",
        "# modeling\n",
        "import lightgbm as lgb\n",
        "\n",
        "# utilities\n",
        "from sklearn.model_selection import KFold\n",
        "from sklearn.metrics import roc_auc_score\n",
        "from sklearn.preprocessing import LabelEncoder\n",
        "\n",
        "# memory management\n",
        "import gc"
      ],
      "metadata": {
        "id": "RP2OMxwBAYCL"
      },
      "execution_count": 4,
      "outputs": []
    },
    {
      "cell_type": "code",
      "source": [
        "# Me muevo a la carpeta\n",
        "os.chdir(\"/content/gdrive/MyDrive/DScience_41870\")\n",
        "print(os.getcwd())\n",
        "\n",
        "#Lectura del dataframe\n",
        "datos=pd.read_csv('/content/gdrive/MyDrive/DScience_41870/US_Accidents_Dec21_updated.csv',sep=',',nrows=2845000)  # nrows: 1500000  # Disminuir Tamaño a 1.5 MM (Riginalmente Tiene 2.845.342 registros)"
      ],
      "metadata": {
        "id": "pNxQQFlOf4wj",
        "colab": {
          "base_uri": "https://localhost:8080/"
        },
        "outputId": "8955f8d8-2e66-4be3-ebd4-61d26de041fd"
      },
      "execution_count": 5,
      "outputs": [
        {
          "output_type": "stream",
          "name": "stdout",
          "text": [
            "/content/gdrive/MyDrive/DScience_41870\n"
          ]
        }
      ]
    },
    {
      "cell_type": "code",
      "source": [
        "datos.head()"
      ],
      "metadata": {
        "colab": {
          "base_uri": "https://localhost:8080/",
          "height": 236
        },
        "id": "-nvMUBaKjEOs",
        "outputId": "464dd2ce-a13f-4062-d703-a1937d148e7b"
      },
      "execution_count": 45,
      "outputs": [
        {
          "output_type": "execute_result",
          "data": {
            "text/plain": [
              "    ID  Severity           Start_Time             End_Time  Start_Lat  \\\n",
              "0  A-1         3  2016-02-08 00:37:08  2016-02-08 06:37:08  40.108910   \n",
              "1  A-2         2  2016-02-08 05:56:20  2016-02-08 11:56:20  39.865420   \n",
              "2  A-3         2  2016-02-08 06:15:39  2016-02-08 12:15:39  39.102660   \n",
              "3  A-4         2  2016-02-08 06:51:45  2016-02-08 12:51:45  41.062130   \n",
              "4  A-5         3  2016-02-08 07:53:43  2016-02-08 13:53:43  39.172393   \n",
              "\n",
              "   Start_Lng    End_Lat    End_Lng  Distance(mi)  \\\n",
              "0 -83.092860  40.112060 -83.031870         3.230   \n",
              "1 -84.062800  39.865010 -84.048730         0.747   \n",
              "2 -84.524680  39.102090 -84.523960         0.055   \n",
              "3 -81.537840  41.062170 -81.535470         0.123   \n",
              "4 -84.492792  39.170476 -84.501798         0.500   \n",
              "\n",
              "                                         Description  ...  Roundabout Station  \\\n",
              "0  Between Sawmill Rd/Exit 20 and OH-315/Olentang...  ...       False   False   \n",
              "1                 At OH-4/OH-235/Exit 41 - Accident.  ...       False   False   \n",
              "2                   At I-71/US-50/Exit 1 - Accident.  ...       False   False   \n",
              "3                    At Dart Ave/Exit 21 - Accident.  ...       False   False   \n",
              "4                 At Mitchell Ave/Exit 6 - Accident.  ...       False   False   \n",
              "\n",
              "    Stop Traffic_Calming Traffic_Signal Turning_Loop Sunrise_Sunset  \\\n",
              "0  False           False          False        False          Night   \n",
              "1  False           False          False        False          Night   \n",
              "2  False           False          False        False          Night   \n",
              "3  False           False          False        False          Night   \n",
              "4  False           False          False        False            Day   \n",
              "\n",
              "  Civil_Twilight Nautical_Twilight Astronomical_Twilight  \n",
              "0          Night             Night                 Night  \n",
              "1          Night             Night                 Night  \n",
              "2          Night             Night                   Day  \n",
              "3          Night               Day                   Day  \n",
              "4            Day               Day                   Day  \n",
              "\n",
              "[5 rows x 47 columns]"
            ],
            "text/html": [
              "\n",
              "  <div id=\"df-9424239a-1d0a-4b7e-9e77-397f10f0b8ed\" class=\"colab-df-container\">\n",
              "    <div>\n",
              "<style scoped>\n",
              "    .dataframe tbody tr th:only-of-type {\n",
              "        vertical-align: middle;\n",
              "    }\n",
              "\n",
              "    .dataframe tbody tr th {\n",
              "        vertical-align: top;\n",
              "    }\n",
              "\n",
              "    .dataframe thead th {\n",
              "        text-align: right;\n",
              "    }\n",
              "</style>\n",
              "<table border=\"1\" class=\"dataframe\">\n",
              "  <thead>\n",
              "    <tr style=\"text-align: right;\">\n",
              "      <th></th>\n",
              "      <th>ID</th>\n",
              "      <th>Severity</th>\n",
              "      <th>Start_Time</th>\n",
              "      <th>End_Time</th>\n",
              "      <th>Start_Lat</th>\n",
              "      <th>Start_Lng</th>\n",
              "      <th>End_Lat</th>\n",
              "      <th>End_Lng</th>\n",
              "      <th>Distance(mi)</th>\n",
              "      <th>Description</th>\n",
              "      <th>...</th>\n",
              "      <th>Roundabout</th>\n",
              "      <th>Station</th>\n",
              "      <th>Stop</th>\n",
              "      <th>Traffic_Calming</th>\n",
              "      <th>Traffic_Signal</th>\n",
              "      <th>Turning_Loop</th>\n",
              "      <th>Sunrise_Sunset</th>\n",
              "      <th>Civil_Twilight</th>\n",
              "      <th>Nautical_Twilight</th>\n",
              "      <th>Astronomical_Twilight</th>\n",
              "    </tr>\n",
              "  </thead>\n",
              "  <tbody>\n",
              "    <tr>\n",
              "      <th>0</th>\n",
              "      <td>A-1</td>\n",
              "      <td>3</td>\n",
              "      <td>2016-02-08 00:37:08</td>\n",
              "      <td>2016-02-08 06:37:08</td>\n",
              "      <td>40.108910</td>\n",
              "      <td>-83.092860</td>\n",
              "      <td>40.112060</td>\n",
              "      <td>-83.031870</td>\n",
              "      <td>3.230</td>\n",
              "      <td>Between Sawmill Rd/Exit 20 and OH-315/Olentang...</td>\n",
              "      <td>...</td>\n",
              "      <td>False</td>\n",
              "      <td>False</td>\n",
              "      <td>False</td>\n",
              "      <td>False</td>\n",
              "      <td>False</td>\n",
              "      <td>False</td>\n",
              "      <td>Night</td>\n",
              "      <td>Night</td>\n",
              "      <td>Night</td>\n",
              "      <td>Night</td>\n",
              "    </tr>\n",
              "    <tr>\n",
              "      <th>1</th>\n",
              "      <td>A-2</td>\n",
              "      <td>2</td>\n",
              "      <td>2016-02-08 05:56:20</td>\n",
              "      <td>2016-02-08 11:56:20</td>\n",
              "      <td>39.865420</td>\n",
              "      <td>-84.062800</td>\n",
              "      <td>39.865010</td>\n",
              "      <td>-84.048730</td>\n",
              "      <td>0.747</td>\n",
              "      <td>At OH-4/OH-235/Exit 41 - Accident.</td>\n",
              "      <td>...</td>\n",
              "      <td>False</td>\n",
              "      <td>False</td>\n",
              "      <td>False</td>\n",
              "      <td>False</td>\n",
              "      <td>False</td>\n",
              "      <td>False</td>\n",
              "      <td>Night</td>\n",
              "      <td>Night</td>\n",
              "      <td>Night</td>\n",
              "      <td>Night</td>\n",
              "    </tr>\n",
              "    <tr>\n",
              "      <th>2</th>\n",
              "      <td>A-3</td>\n",
              "      <td>2</td>\n",
              "      <td>2016-02-08 06:15:39</td>\n",
              "      <td>2016-02-08 12:15:39</td>\n",
              "      <td>39.102660</td>\n",
              "      <td>-84.524680</td>\n",
              "      <td>39.102090</td>\n",
              "      <td>-84.523960</td>\n",
              "      <td>0.055</td>\n",
              "      <td>At I-71/US-50/Exit 1 - Accident.</td>\n",
              "      <td>...</td>\n",
              "      <td>False</td>\n",
              "      <td>False</td>\n",
              "      <td>False</td>\n",
              "      <td>False</td>\n",
              "      <td>False</td>\n",
              "      <td>False</td>\n",
              "      <td>Night</td>\n",
              "      <td>Night</td>\n",
              "      <td>Night</td>\n",
              "      <td>Day</td>\n",
              "    </tr>\n",
              "    <tr>\n",
              "      <th>3</th>\n",
              "      <td>A-4</td>\n",
              "      <td>2</td>\n",
              "      <td>2016-02-08 06:51:45</td>\n",
              "      <td>2016-02-08 12:51:45</td>\n",
              "      <td>41.062130</td>\n",
              "      <td>-81.537840</td>\n",
              "      <td>41.062170</td>\n",
              "      <td>-81.535470</td>\n",
              "      <td>0.123</td>\n",
              "      <td>At Dart Ave/Exit 21 - Accident.</td>\n",
              "      <td>...</td>\n",
              "      <td>False</td>\n",
              "      <td>False</td>\n",
              "      <td>False</td>\n",
              "      <td>False</td>\n",
              "      <td>False</td>\n",
              "      <td>False</td>\n",
              "      <td>Night</td>\n",
              "      <td>Night</td>\n",
              "      <td>Day</td>\n",
              "      <td>Day</td>\n",
              "    </tr>\n",
              "    <tr>\n",
              "      <th>4</th>\n",
              "      <td>A-5</td>\n",
              "      <td>3</td>\n",
              "      <td>2016-02-08 07:53:43</td>\n",
              "      <td>2016-02-08 13:53:43</td>\n",
              "      <td>39.172393</td>\n",
              "      <td>-84.492792</td>\n",
              "      <td>39.170476</td>\n",
              "      <td>-84.501798</td>\n",
              "      <td>0.500</td>\n",
              "      <td>At Mitchell Ave/Exit 6 - Accident.</td>\n",
              "      <td>...</td>\n",
              "      <td>False</td>\n",
              "      <td>False</td>\n",
              "      <td>False</td>\n",
              "      <td>False</td>\n",
              "      <td>False</td>\n",
              "      <td>False</td>\n",
              "      <td>Day</td>\n",
              "      <td>Day</td>\n",
              "      <td>Day</td>\n",
              "      <td>Day</td>\n",
              "    </tr>\n",
              "  </tbody>\n",
              "</table>\n",
              "<p>5 rows × 47 columns</p>\n",
              "</div>\n",
              "    <div class=\"colab-df-buttons\">\n",
              "\n",
              "  <div class=\"colab-df-container\">\n",
              "    <button class=\"colab-df-convert\" onclick=\"convertToInteractive('df-9424239a-1d0a-4b7e-9e77-397f10f0b8ed')\"\n",
              "            title=\"Convert this dataframe to an interactive table.\"\n",
              "            style=\"display:none;\">\n",
              "\n",
              "  <svg xmlns=\"http://www.w3.org/2000/svg\" height=\"24px\" viewBox=\"0 -960 960 960\">\n",
              "    <path d=\"M120-120v-720h720v720H120Zm60-500h600v-160H180v160Zm220 220h160v-160H400v160Zm0 220h160v-160H400v160ZM180-400h160v-160H180v160Zm440 0h160v-160H620v160ZM180-180h160v-160H180v160Zm440 0h160v-160H620v160Z\"/>\n",
              "  </svg>\n",
              "    </button>\n",
              "\n",
              "  <style>\n",
              "    .colab-df-container {\n",
              "      display:flex;\n",
              "      gap: 12px;\n",
              "    }\n",
              "\n",
              "    .colab-df-convert {\n",
              "      background-color: #E8F0FE;\n",
              "      border: none;\n",
              "      border-radius: 50%;\n",
              "      cursor: pointer;\n",
              "      display: none;\n",
              "      fill: #1967D2;\n",
              "      height: 32px;\n",
              "      padding: 0 0 0 0;\n",
              "      width: 32px;\n",
              "    }\n",
              "\n",
              "    .colab-df-convert:hover {\n",
              "      background-color: #E2EBFA;\n",
              "      box-shadow: 0px 1px 2px rgba(60, 64, 67, 0.3), 0px 1px 3px 1px rgba(60, 64, 67, 0.15);\n",
              "      fill: #174EA6;\n",
              "    }\n",
              "\n",
              "    .colab-df-buttons div {\n",
              "      margin-bottom: 4px;\n",
              "    }\n",
              "\n",
              "    [theme=dark] .colab-df-convert {\n",
              "      background-color: #3B4455;\n",
              "      fill: #D2E3FC;\n",
              "    }\n",
              "\n",
              "    [theme=dark] .colab-df-convert:hover {\n",
              "      background-color: #434B5C;\n",
              "      box-shadow: 0px 1px 3px 1px rgba(0, 0, 0, 0.15);\n",
              "      filter: drop-shadow(0px 1px 2px rgba(0, 0, 0, 0.3));\n",
              "      fill: #FFFFFF;\n",
              "    }\n",
              "  </style>\n",
              "\n",
              "    <script>\n",
              "      const buttonEl =\n",
              "        document.querySelector('#df-9424239a-1d0a-4b7e-9e77-397f10f0b8ed button.colab-df-convert');\n",
              "      buttonEl.style.display =\n",
              "        google.colab.kernel.accessAllowed ? 'block' : 'none';\n",
              "\n",
              "      async function convertToInteractive(key) {\n",
              "        const element = document.querySelector('#df-9424239a-1d0a-4b7e-9e77-397f10f0b8ed');\n",
              "        const dataTable =\n",
              "          await google.colab.kernel.invokeFunction('convertToInteractive',\n",
              "                                                    [key], {});\n",
              "        if (!dataTable) return;\n",
              "\n",
              "        const docLinkHtml = 'Like what you see? Visit the ' +\n",
              "          '<a target=\"_blank\" href=https://colab.research.google.com/notebooks/data_table.ipynb>data table notebook</a>'\n",
              "          + ' to learn more about interactive tables.';\n",
              "        element.innerHTML = '';\n",
              "        dataTable['output_type'] = 'display_data';\n",
              "        await google.colab.output.renderOutput(dataTable, element);\n",
              "        const docLink = document.createElement('div');\n",
              "        docLink.innerHTML = docLinkHtml;\n",
              "        element.appendChild(docLink);\n",
              "      }\n",
              "    </script>\n",
              "  </div>\n",
              "\n",
              "\n",
              "<div id=\"df-5eccb0a2-1b2e-4295-96a1-eef12a5411ad\">\n",
              "  <button class=\"colab-df-quickchart\" onclick=\"quickchart('df-5eccb0a2-1b2e-4295-96a1-eef12a5411ad')\"\n",
              "            title=\"Suggest charts.\"\n",
              "            style=\"display:none;\">\n",
              "\n",
              "<svg xmlns=\"http://www.w3.org/2000/svg\" height=\"24px\"viewBox=\"0 0 24 24\"\n",
              "     width=\"24px\">\n",
              "    <g>\n",
              "        <path d=\"M19 3H5c-1.1 0-2 .9-2 2v14c0 1.1.9 2 2 2h14c1.1 0 2-.9 2-2V5c0-1.1-.9-2-2-2zM9 17H7v-7h2v7zm4 0h-2V7h2v10zm4 0h-2v-4h2v4z\"/>\n",
              "    </g>\n",
              "</svg>\n",
              "  </button>\n",
              "\n",
              "<style>\n",
              "  .colab-df-quickchart {\n",
              "      --bg-color: #E8F0FE;\n",
              "      --fill-color: #1967D2;\n",
              "      --hover-bg-color: #E2EBFA;\n",
              "      --hover-fill-color: #174EA6;\n",
              "      --disabled-fill-color: #AAA;\n",
              "      --disabled-bg-color: #DDD;\n",
              "  }\n",
              "\n",
              "  [theme=dark] .colab-df-quickchart {\n",
              "      --bg-color: #3B4455;\n",
              "      --fill-color: #D2E3FC;\n",
              "      --hover-bg-color: #434B5C;\n",
              "      --hover-fill-color: #FFFFFF;\n",
              "      --disabled-bg-color: #3B4455;\n",
              "      --disabled-fill-color: #666;\n",
              "  }\n",
              "\n",
              "  .colab-df-quickchart {\n",
              "    background-color: var(--bg-color);\n",
              "    border: none;\n",
              "    border-radius: 50%;\n",
              "    cursor: pointer;\n",
              "    display: none;\n",
              "    fill: var(--fill-color);\n",
              "    height: 32px;\n",
              "    padding: 0;\n",
              "    width: 32px;\n",
              "  }\n",
              "\n",
              "  .colab-df-quickchart:hover {\n",
              "    background-color: var(--hover-bg-color);\n",
              "    box-shadow: 0 1px 2px rgba(60, 64, 67, 0.3), 0 1px 3px 1px rgba(60, 64, 67, 0.15);\n",
              "    fill: var(--button-hover-fill-color);\n",
              "  }\n",
              "\n",
              "  .colab-df-quickchart-complete:disabled,\n",
              "  .colab-df-quickchart-complete:disabled:hover {\n",
              "    background-color: var(--disabled-bg-color);\n",
              "    fill: var(--disabled-fill-color);\n",
              "    box-shadow: none;\n",
              "  }\n",
              "\n",
              "  .colab-df-spinner {\n",
              "    border: 2px solid var(--fill-color);\n",
              "    border-color: transparent;\n",
              "    border-bottom-color: var(--fill-color);\n",
              "    animation:\n",
              "      spin 1s steps(1) infinite;\n",
              "  }\n",
              "\n",
              "  @keyframes spin {\n",
              "    0% {\n",
              "      border-color: transparent;\n",
              "      border-bottom-color: var(--fill-color);\n",
              "      border-left-color: var(--fill-color);\n",
              "    }\n",
              "    20% {\n",
              "      border-color: transparent;\n",
              "      border-left-color: var(--fill-color);\n",
              "      border-top-color: var(--fill-color);\n",
              "    }\n",
              "    30% {\n",
              "      border-color: transparent;\n",
              "      border-left-color: var(--fill-color);\n",
              "      border-top-color: var(--fill-color);\n",
              "      border-right-color: var(--fill-color);\n",
              "    }\n",
              "    40% {\n",
              "      border-color: transparent;\n",
              "      border-right-color: var(--fill-color);\n",
              "      border-top-color: var(--fill-color);\n",
              "    }\n",
              "    60% {\n",
              "      border-color: transparent;\n",
              "      border-right-color: var(--fill-color);\n",
              "    }\n",
              "    80% {\n",
              "      border-color: transparent;\n",
              "      border-right-color: var(--fill-color);\n",
              "      border-bottom-color: var(--fill-color);\n",
              "    }\n",
              "    90% {\n",
              "      border-color: transparent;\n",
              "      border-bottom-color: var(--fill-color);\n",
              "    }\n",
              "  }\n",
              "</style>\n",
              "\n",
              "  <script>\n",
              "    async function quickchart(key) {\n",
              "      const quickchartButtonEl =\n",
              "        document.querySelector('#' + key + ' button');\n",
              "      quickchartButtonEl.disabled = true;  // To prevent multiple clicks.\n",
              "      quickchartButtonEl.classList.add('colab-df-spinner');\n",
              "      try {\n",
              "        const charts = await google.colab.kernel.invokeFunction(\n",
              "            'suggestCharts', [key], {});\n",
              "      } catch (error) {\n",
              "        console.error('Error during call to suggestCharts:', error);\n",
              "      }\n",
              "      quickchartButtonEl.classList.remove('colab-df-spinner');\n",
              "      quickchartButtonEl.classList.add('colab-df-quickchart-complete');\n",
              "    }\n",
              "    (() => {\n",
              "      let quickchartButtonEl =\n",
              "        document.querySelector('#df-5eccb0a2-1b2e-4295-96a1-eef12a5411ad button');\n",
              "      quickchartButtonEl.style.display =\n",
              "        google.colab.kernel.accessAllowed ? 'block' : 'none';\n",
              "    })();\n",
              "  </script>\n",
              "</div>\n",
              "    </div>\n",
              "  </div>\n"
            ]
          },
          "metadata": {},
          "execution_count": 45
        }
      ]
    },
    {
      "cell_type": "markdown",
      "source": [
        "# REDUCCIÓN DEL DATASET - Es Muy Grande para PROCESARLO\n",
        "\n",
        "Se utilizara la función sample para muestrear todo el DataSet."
      ],
      "metadata": {
        "id": "86gBXEuJsitd"
      }
    },
    {
      "cell_type": "markdown",
      "source": [
        "PROBAR RANDOMIZED SEARCH\n",
        "HYPER OPT\n",
        "BAYES GRID SEARCH (Probabilisticos)"
      ],
      "metadata": {
        "id": "x_ngC9khmoxm"
      }
    },
    {
      "cell_type": "code",
      "source": [
        "## df= datos.sample(10000)   # Achicar el Set de Datos porque no alcanza a calcular.\n",
        "\n",
        "df =  datos[(datos['Start_Time'] > '2020-01-01 00:00:00')]"
      ],
      "metadata": {
        "id": "MVtv8XRAs-bS"
      },
      "execution_count": 46,
      "outputs": []
    },
    {
      "cell_type": "code",
      "source": [
        "df.Severity.unique()"
      ],
      "metadata": {
        "colab": {
          "base_uri": "https://localhost:8080/"
        },
        "id": "kdw6-YwdjW_A",
        "outputId": "689729ed-546c-427f-9584-45fc5785aa6a"
      },
      "execution_count": 47,
      "outputs": [
        {
          "output_type": "execute_result",
          "data": {
            "text/plain": [
              "array([2, 4, 1, 3])"
            ]
          },
          "metadata": {},
          "execution_count": 47
        }
      ]
    },
    {
      "cell_type": "code",
      "source": [
        "df.shape"
      ],
      "metadata": {
        "colab": {
          "base_uri": "https://localhost:8080/"
        },
        "id": "4njgaLowjgEY",
        "outputId": "748c6fea-b510-4172-a84e-4ce36836e133"
      },
      "execution_count": 48,
      "outputs": [
        {
          "output_type": "execute_result",
          "data": {
            "text/plain": [
              "(2137609, 47)"
            ]
          },
          "metadata": {},
          "execution_count": 48
        }
      ]
    },
    {
      "cell_type": "code",
      "source": [
        "#Visualizacion!\n",
        "import matplotlib.pyplot as plt\n",
        "fig, ax = plt.subplots(figsize=(6,4))\n",
        "ax.scatter(df['Wind_Chill(F)'], df['Temperature(F)'], c=df.Severity);\n",
        "ax.set_title(\"Datos\");"
      ],
      "metadata": {
        "colab": {
          "base_uri": "https://localhost:8080/",
          "height": 421
        },
        "id": "t7giB6aFJ-U3",
        "outputId": "b0211f7c-379b-458a-959b-366c31a4b3d0"
      },
      "execution_count": 50,
      "outputs": [
        {
          "output_type": "display_data",
          "data": {
            "text/plain": [
              "<Figure size 600x400 with 1 Axes>"
            ],
            "image/png": "[encoded data removed]"
          },
          "metadata": {}
        }
      ]
    },
    {
      "cell_type": "code",
      "source": [
        "# Reemplazo de los vacíos\n",
        "X = df.fillna(0, inplace=True)"
      ],
      "metadata": {
        "id": "kITFRlNWJ-Qz"
      },
      "execution_count": 51,
      "outputs": []
    },
    {
      "cell_type": "markdown",
      "source": [
        "# Enriquecer el Modelo\n",
        "Con variables derivadas de las existentes"
      ],
      "metadata": {
        "id": "07YMWoMSBSH8"
      }
    },
    {
      "cell_type": "code",
      "source": [
        "df['Hora'] = pd.to_datetime( df['Start_Time'],format='%Y-%m-%d %H:%M:%S').dt.hour  # Extraer la HORA del Día en la\n",
        "df['Anio_Mes'] =  pd.to_datetime( df['Start_Time'],format='%Y-%m-%d %H:%M:%S').dt.strftime('%Y-%m')  # Extraer AÑO y MES\n",
        "\n",
        "df['day_of_week'] = pd.to_datetime( df['Start_Time'],format='%Y-%m-%d %H:%M:%S').dt.dayofweek  # Dia de la Semana\n",
        "days = {0:'Lunes',1:'Martes',2:'Miércoeles',3:'Jueves',4:'Viernes',5:'Sabado',6:'Domingo'}\n",
        "df['day_of_week'] = df['day_of_week'].apply(lambda x: days[x])\n",
        "\n",
        "df['Mes'] = pd.to_datetime( df['Start_Time'],format='%Y-%m-%d %H:%M:%S').dt.strftime('%B')  # Extraer Nombre del MES\n"
      ],
      "metadata": {
        "id": "clOOJ9VGBZ-0"
      },
      "execution_count": 52,
      "outputs": []
    },
    {
      "cell_type": "code",
      "source": [
        "\n",
        "df['DiaS'] = pd.to_datetime( df['Start_Time'],format='%Y-%m-%d %H:%M:%S').dt.dayofweek  # Dia de la Semana"
      ],
      "metadata": {
        "id": "tVqwUr6OEDy7"
      },
      "execution_count": 53,
      "outputs": []
    },
    {
      "cell_type": "code",
      "source": [
        "## Identificar la Estación Climática\n",
        "\n",
        "def estacion_climatica(mes):\n",
        "  if mes.lower() in ('january','february','march'):\n",
        "    return 'Invierno'\n",
        "  elif mes.lower() in ('april','may','june'):\n",
        "    return 'Primavera'\n",
        "  elif mes.lower() in ('july','august','september'):\n",
        "    return 'Verano'\n",
        "  else:\n",
        "    return 'Otoño'"
      ],
      "metadata": {
        "id": "e7gPYVV_BZ4c"
      },
      "execution_count": 54,
      "outputs": []
    },
    {
      "cell_type": "code",
      "source": [
        "df['estacion_meteorologica'] = pd.to_datetime( df['Start_Time'],format='%Y-%m-%d %H:%M:%S').dt.strftime('%B')  # Extraer Nombre del MES\n",
        "df['estacion_meteorologica'] = df['estacion_meteorologica'].apply(estacion_climatica)"
      ],
      "metadata": {
        "id": "lS3swQBfBZxw"
      },
      "execution_count": 55,
      "outputs": []
    },
    {
      "cell_type": "code",
      "source": [
        "df.columns"
      ],
      "metadata": {
        "colab": {
          "base_uri": "https://localhost:8080/"
        },
        "id": "NKq8hmVhBZqI",
        "outputId": "2b47cc57-9076-45ce-ad07-756fe687a6f4"
      },
      "execution_count": 56,
      "outputs": [
        {
          "output_type": "execute_result",
          "data": {
            "text/plain": [
              "Index(['ID', 'Severity', 'Start_Time', 'End_Time', 'Start_Lat', 'Start_Lng',\n",
              "       'End_Lat', 'End_Lng', 'Distance(mi)', 'Description', 'Number', 'Street',\n",
              "       'Side', 'City', 'County', 'State', 'Zipcode', 'Country', 'Timezone',\n",
              "       'Airport_Code', 'Weather_Timestamp', 'Temperature(F)', 'Wind_Chill(F)',\n",
              "       'Humidity(%)', 'Pressure(in)', 'Visibility(mi)', 'Wind_Direction',\n",
              "       'Wind_Speed(mph)', 'Precipitation(in)', 'Weather_Condition', 'Amenity',\n",
              "       'Bump', 'Crossing', 'Give_Way', 'Junction', 'No_Exit', 'Railway',\n",
              "       'Roundabout', 'Station', 'Stop', 'Traffic_Calming', 'Traffic_Signal',\n",
              "       'Turning_Loop', 'Sunrise_Sunset', 'Civil_Twilight', 'Nautical_Twilight',\n",
              "       'Astronomical_Twilight', 'Hora', 'Anio_Mes', 'day_of_week', 'Mes',\n",
              "       'DiaS', 'estacion_meteorologica'],\n",
              "      dtype='object')"
            ]
          },
          "metadata": {},
          "execution_count": 56
        }
      ]
    },
    {
      "cell_type": "code",
      "source": [
        "# División de los datos en train y test\n",
        "X = df.drop(columns = ['ID', 'Severity', 'Start_Time', 'End_Time', 'Start_Lat', 'Start_Lng','End_Lat', 'End_Lng', 'Distance(mi)', 'Description', 'Number', 'Street',\n",
        "       'Side', 'City', 'County', 'State', 'Zipcode', 'Country', 'Timezone','Airport_Code', 'Weather_Timestamp',\n",
        "       'Humidity(%)', 'Pressure(in)', 'Visibility(mi)', 'Wind_Direction', 'Wind_Speed(mph)', 'Precipitation(in)', 'Weather_Condition', 'Amenity',\n",
        "       'Bump', 'Crossing', 'Give_Way', 'Junction', 'No_Exit', 'Railway', 'Roundabout', 'Station', 'Stop', 'Traffic_Calming', 'Traffic_Signal',\n",
        "       'Turning_Loop', 'Sunrise_Sunset', 'Civil_Twilight', 'Nautical_Twilight', 'Hora', 'Anio_Mes', 'day_of_week', 'Mes', 'DiaS', 'estacion_meteorologica',\n",
        "       'Astronomical_Twilight'], axis= 1) # Matriz de 2 columnas -Variable Independientes # 'Temperature(F)', 'Wind_Chill(F)',\n",
        "y = df['Severity'] # Vector de 200 filas y 1 columna- Variable Dependiente"
      ],
      "metadata": {
        "id": "SSAbaEEdNVlk"
      },
      "execution_count": 57,
      "outputs": []
    },
    {
      "cell_type": "code",
      "source": [
        "#Visualizar X\n",
        "X"
      ],
      "metadata": {
        "colab": {
          "base_uri": "https://localhost:8080/",
          "height": 424
        },
        "id": "P5NUBY6rJ-J5",
        "outputId": "bfcdeb41-fbd0-4fb8-bdf8-2729d0fcfa11"
      },
      "execution_count": 58,
      "outputs": [
        {
          "output_type": "execute_result",
          "data": {
            "text/plain": [
              "         Temperature(F)  Wind_Chill(F)\n",
              "224945             42.0           36.0\n",
              "224946             54.0           54.0\n",
              "224947             79.0           79.0\n",
              "224948             38.0           38.0\n",
              "224949             52.0           52.0\n",
              "...                 ...            ...\n",
              "2362657            59.0           59.0\n",
              "2362658            43.0           43.0\n",
              "2362659            64.0           64.0\n",
              "2372960            28.0           19.0\n",
              "2372993            42.0           35.0\n",
              "\n",
              "[2137609 rows x 2 columns]"
            ],
            "text/html": [
              "\n",
              "  <div id=\"df-591f5f99-e67c-49f1-a4a2-9eb8a820b010\" class=\"colab-df-container\">\n",
              "    <div>\n",
              "<style scoped>\n",
              "    .dataframe tbody tr th:only-of-type {\n",
              "        vertical-align: middle;\n",
              "    }\n",
              "\n",
              "    .dataframe tbody tr th {\n",
              "        vertical-align: top;\n",
              "    }\n",
              "\n",
              "    .dataframe thead th {\n",
              "        text-align: right;\n",
              "    }\n",
              "</style>\n",
              "<table border=\"1\" class=\"dataframe\">\n",
              "  <thead>\n",
              "    <tr style=\"text-align: right;\">\n",
              "      <th></th>\n",
              "      <th>Temperature(F)</th>\n",
              "      <th>Wind_Chill(F)</th>\n",
              "    </tr>\n",
              "  </thead>\n",
              "  <tbody>\n",
              "    <tr>\n",
              "      <th>224945</th>\n",
              "      <td>42.0</td>\n",
              "      <td>36.0</td>\n",
              "    </tr>\n",
              "    <tr>\n",
              "      <th>224946</th>\n",
              "      <td>54.0</td>\n",
              "      <td>54.0</td>\n",
              "    </tr>\n",
              "    <tr>\n",
              "      <th>224947</th>\n",
              "      <td>79.0</td>\n",
              "      <td>79.0</td>\n",
              "    </tr>\n",
              "    <tr>\n",
              "      <th>224948</th>\n",
              "      <td>38.0</td>\n",
              "      <td>38.0</td>\n",
              "    </tr>\n",
              "    <tr>\n",
              "      <th>224949</th>\n",
              "      <td>52.0</td>\n",
              "      <td>52.0</td>\n",
              "    </tr>\n",
              "    <tr>\n",
              "      <th>...</th>\n",
              "      <td>...</td>\n",
              "      <td>...</td>\n",
              "    </tr>\n",
              "    <tr>\n",
              "      <th>2362657</th>\n",
              "      <td>59.0</td>\n",
              "      <td>59.0</td>\n",
              "    </tr>\n",
              "    <tr>\n",
              "      <th>2362658</th>\n",
              "      <td>43.0</td>\n",
              "      <td>43.0</td>\n",
              "    </tr>\n",
              "    <tr>\n",
              "      <th>2362659</th>\n",
              "      <td>64.0</td>\n",
              "      <td>64.0</td>\n",
              "    </tr>\n",
              "    <tr>\n",
              "      <th>2372960</th>\n",
              "      <td>28.0</td>\n",
              "      <td>19.0</td>\n",
              "    </tr>\n",
              "    <tr>\n",
              "      <th>2372993</th>\n",
              "      <td>42.0</td>\n",
              "      <td>35.0</td>\n",
              "    </tr>\n",
              "  </tbody>\n",
              "</table>\n",
              "<p>2137609 rows × 2 columns</p>\n",
              "</div>\n",
              "    <div class=\"colab-df-buttons\">\n",
              "\n",
              "  <div class=\"colab-df-container\">\n",
              "    <button class=\"colab-df-convert\" onclick=\"convertToInteractive('df-591f5f99-e67c-49f1-a4a2-9eb8a820b010')\"\n",
              "            title=\"Convert this dataframe to an interactive table.\"\n",
              "            style=\"display:none;\">\n",
              "\n",
              "  <svg xmlns=\"http://www.w3.org/2000/svg\" height=\"24px\" viewBox=\"0 -960 960 960\">\n",
              "    <path d=\"M120-120v-720h720v720H120Zm60-500h600v-160H180v160Zm220 220h160v-160H400v160Zm0 220h160v-160H400v160ZM180-400h160v-160H180v160Zm440 0h160v-160H620v160ZM180-180h160v-160H180v160Zm440 0h160v-160H620v160Z\"/>\n",
              "  </svg>\n",
              "    </button>\n",
              "\n",
              "  <style>\n",
              "    .colab-df-container {\n",
              "      display:flex;\n",
              "      gap: 12px;\n",
              "    }\n",
              "\n",
              "    .colab-df-convert {\n",
              "      background-color: #E8F0FE;\n",
              "      border: none;\n",
              "      border-radius: 50%;\n",
              "      cursor: pointer;\n",
              "      display: none;\n",
              "      fill: #1967D2;\n",
              "      height: 32px;\n",
              "      padding: 0 0 0 0;\n",
              "      width: 32px;\n",
              "    }\n",
              "\n",
              "    .colab-df-convert:hover {\n",
              "      background-color: #E2EBFA;\n",
              "      box-shadow: 0px 1px 2px rgba(60, 64, 67, 0.3), 0px 1px 3px 1px rgba(60, 64, 67, 0.15);\n",
              "      fill: #174EA6;\n",
              "    }\n",
              "\n",
              "    .colab-df-buttons div {\n",
              "      margin-bottom: 4px;\n",
              "    }\n",
              "\n",
              "    [theme=dark] .colab-df-convert {\n",
              "      background-color: #3B4455;\n",
              "      fill: #D2E3FC;\n",
              "    }\n",
              "\n",
              "    [theme=dark] .colab-df-convert:hover {\n",
              "      background-color: #434B5C;\n",
              "      box-shadow: 0px 1px 3px 1px rgba(0, 0, 0, 0.15);\n",
              "      filter: drop-shadow(0px 1px 2px rgba(0, 0, 0, 0.3));\n",
              "      fill: #FFFFFF;\n",
              "    }\n",
              "  </style>\n",
              "\n",
              "    <script>\n",
              "      const buttonEl =\n",
              "        document.querySelector('#df-591f5f99-e67c-49f1-a4a2-9eb8a820b010 button.colab-df-convert');\n",
              "      buttonEl.style.display =\n",
              "        google.colab.kernel.accessAllowed ? 'block' : 'none';\n",
              "\n",
              "      async function convertToInteractive(key) {\n",
              "        const element = document.querySelector('#df-591f5f99-e67c-49f1-a4a2-9eb8a820b010');\n",
              "        const dataTable =\n",
              "          await google.colab.kernel.invokeFunction('convertToInteractive',\n",
              "                                                    [key], {});\n",
              "        if (!dataTable) return;\n",
              "\n",
              "        const docLinkHtml = 'Like what you see? Visit the ' +\n",
              "          '<a target=\"_blank\" href=https://colab.research.google.com/notebooks/data_table.ipynb>data table notebook</a>'\n",
              "          + ' to learn more about interactive tables.';\n",
              "        element.innerHTML = '';\n",
              "        dataTable['output_type'] = 'display_data';\n",
              "        await google.colab.output.renderOutput(dataTable, element);\n",
              "        const docLink = document.createElement('div');\n",
              "        docLink.innerHTML = docLinkHtml;\n",
              "        element.appendChild(docLink);\n",
              "      }\n",
              "    </script>\n",
              "  </div>\n",
              "\n",
              "\n",
              "<div id=\"df-0cc7ac4d-baa3-4a03-9231-367a99b32dae\">\n",
              "  <button class=\"colab-df-quickchart\" onclick=\"quickchart('df-0cc7ac4d-baa3-4a03-9231-367a99b32dae')\"\n",
              "            title=\"Suggest charts.\"\n",
              "            style=\"display:none;\">\n",
              "\n",
              "<svg xmlns=\"http://www.w3.org/2000/svg\" height=\"24px\"viewBox=\"0 0 24 24\"\n",
              "     width=\"24px\">\n",
              "    <g>\n",
              "        <path d=\"M19 3H5c-1.1 0-2 .9-2 2v14c0 1.1.9 2 2 2h14c1.1 0 2-.9 2-2V5c0-1.1-.9-2-2-2zM9 17H7v-7h2v7zm4 0h-2V7h2v10zm4 0h-2v-4h2v4z\"/>\n",
              "    </g>\n",
              "</svg>\n",
              "  </button>\n",
              "\n",
              "<style>\n",
              "  .colab-df-quickchart {\n",
              "      --bg-color: #E8F0FE;\n",
              "      --fill-color: #1967D2;\n",
              "      --hover-bg-color: #E2EBFA;\n",
              "      --hover-fill-color: #174EA6;\n",
              "      --disabled-fill-color: #AAA;\n",
              "      --disabled-bg-color: #DDD;\n",
              "  }\n",
              "\n",
              "  [theme=dark] .colab-df-quickchart {\n",
              "      --bg-color: #3B4455;\n",
              "      --fill-color: #D2E3FC;\n",
              "      --hover-bg-color: #434B5C;\n",
              "      --hover-fill-color: #FFFFFF;\n",
              "      --disabled-bg-color: #3B4455;\n",
              "      --disabled-fill-color: #666;\n",
              "  }\n",
              "\n",
              "  .colab-df-quickchart {\n",
              "    background-color: var(--bg-color);\n",
              "    border: none;\n",
              "    border-radius: 50%;\n",
              "    cursor: pointer;\n",
              "    display: none;\n",
              "    fill: var(--fill-color);\n",
              "    height: 32px;\n",
              "    padding: 0;\n",
              "    width: 32px;\n",
              "  }\n",
              "\n",
              "  .colab-df-quickchart:hover {\n",
              "    background-color: var(--hover-bg-color);\n",
              "    box-shadow: 0 1px 2px rgba(60, 64, 67, 0.3), 0 1px 3px 1px rgba(60, 64, 67, 0.15);\n",
              "    fill: var(--button-hover-fill-color);\n",
              "  }\n",
              "\n",
              "  .colab-df-quickchart-complete:disabled,\n",
              "  .colab-df-quickchart-complete:disabled:hover {\n",
              "    background-color: var(--disabled-bg-color);\n",
              "    fill: var(--disabled-fill-color);\n",
              "    box-shadow: none;\n",
              "  }\n",
              "\n",
              "  .colab-df-spinner {\n",
              "    border: 2px solid var(--fill-color);\n",
              "    border-color: transparent;\n",
              "    border-bottom-color: var(--fill-color);\n",
              "    animation:\n",
              "      spin 1s steps(1) infinite;\n",
              "  }\n",
              "\n",
              "  @keyframes spin {\n",
              "    0% {\n",
              "      border-color: transparent;\n",
              "      border-bottom-color: var(--fill-color);\n",
              "      border-left-color: var(--fill-color);\n",
              "    }\n",
              "    20% {\n",
              "      border-color: transparent;\n",
              "      border-left-color: var(--fill-color);\n",
              "      border-top-color: var(--fill-color);\n",
              "    }\n",
              "    30% {\n",
              "      border-color: transparent;\n",
              "      border-left-color: var(--fill-color);\n",
              "      border-top-color: var(--fill-color);\n",
              "      border-right-color: var(--fill-color);\n",
              "    }\n",
              "    40% {\n",
              "      border-color: transparent;\n",
              "      border-right-color: var(--fill-color);\n",
              "      border-top-color: var(--fill-color);\n",
              "    }\n",
              "    60% {\n",
              "      border-color: transparent;\n",
              "      border-right-color: var(--fill-color);\n",
              "    }\n",
              "    80% {\n",
              "      border-color: transparent;\n",
              "      border-right-color: var(--fill-color);\n",
              "      border-bottom-color: var(--fill-color);\n",
              "    }\n",
              "    90% {\n",
              "      border-color: transparent;\n",
              "      border-bottom-color: var(--fill-color);\n",
              "    }\n",
              "  }\n",
              "</style>\n",
              "\n",
              "  <script>\n",
              "    async function quickchart(key) {\n",
              "      const quickchartButtonEl =\n",
              "        document.querySelector('#' + key + ' button');\n",
              "      quickchartButtonEl.disabled = true;  // To prevent multiple clicks.\n",
              "      quickchartButtonEl.classList.add('colab-df-spinner');\n",
              "      try {\n",
              "        const charts = await google.colab.kernel.invokeFunction(\n",
              "            'suggestCharts', [key], {});\n",
              "      } catch (error) {\n",
              "        console.error('Error during call to suggestCharts:', error);\n",
              "      }\n",
              "      quickchartButtonEl.classList.remove('colab-df-spinner');\n",
              "      quickchartButtonEl.classList.add('colab-df-quickchart-complete');\n",
              "    }\n",
              "    (() => {\n",
              "      let quickchartButtonEl =\n",
              "        document.querySelector('#df-0cc7ac4d-baa3-4a03-9231-367a99b32dae button');\n",
              "      quickchartButtonEl.style.display =\n",
              "        google.colab.kernel.accessAllowed ? 'block' : 'none';\n",
              "    })();\n",
              "  </script>\n",
              "</div>\n",
              "    </div>\n",
              "  </div>\n"
            ]
          },
          "metadata": {},
          "execution_count": 58
        }
      ]
    },
    {
      "cell_type": "code",
      "source": [
        "#Visualizar y\n",
        "y"
      ],
      "metadata": {
        "colab": {
          "base_uri": "https://localhost:8080/"
        },
        "id": "aWIWGnvNJ-GW",
        "outputId": "83687cd6-a4ed-4933-95f0-0183a127a00e"
      },
      "execution_count": 59,
      "outputs": [
        {
          "output_type": "execute_result",
          "data": {
            "text/plain": [
              "224945     2\n",
              "224946     2\n",
              "224947     2\n",
              "224948     2\n",
              "224949     2\n",
              "          ..\n",
              "2362657    2\n",
              "2362658    2\n",
              "2362659    2\n",
              "2372960    2\n",
              "2372993    4\n",
              "Name: Severity, Length: 2137609, dtype: int64"
            ]
          },
          "metadata": {},
          "execution_count": 59
        }
      ]
    },
    {
      "cell_type": "code",
      "source": [
        "print(X.shape, y.shape)"
      ],
      "metadata": {
        "colab": {
          "base_uri": "https://localhost:8080/"
        },
        "id": "IDgL4Zyvtx2y",
        "outputId": "fe17e961-18fd-404e-848d-ee52593f2b4c"
      },
      "execution_count": 60,
      "outputs": [
        {
          "output_type": "stream",
          "name": "stdout",
          "text": [
            "(2137609, 2) (2137609,)\n"
          ]
        }
      ]
    },
    {
      "cell_type": "code",
      "source": [
        "# Separar en train y test\n",
        "X_train,X_test, y_train, y_test = train_test_split(X, y, test_size=0.3, random_state=42)\n",
        "print(X_train.shape, X_test.shape)"
      ],
      "metadata": {
        "colab": {
          "base_uri": "https://localhost:8080/"
        },
        "id": "YdSKQ3_mvVQ8",
        "outputId": "dd5aa869-4dc9-4aa0-9cb8-7f2380690c46"
      },
      "execution_count": 61,
      "outputs": [
        {
          "output_type": "stream",
          "name": "stdout",
          "text": [
            "(1496326, 2) (641283, 2)\n"
          ]
        }
      ]
    },
    {
      "cell_type": "markdown",
      "source": [
        "# Seleccion manual"
      ],
      "metadata": {
        "id": "MCrdRd1buB-6"
      }
    },
    {
      "cell_type": "code",
      "source": [
        "from sklearn.preprocessing import LabelEncoder\n",
        "le = LabelEncoder()\n",
        "y_train = le.fit_transform(y_train)"
      ],
      "metadata": {
        "id": "xwGS-_IzwK8J"
      },
      "execution_count": 62,
      "outputs": []
    },
    {
      "cell_type": "code",
      "source": [
        "model= xgb.XGBClassifier(learning_rate=0.001)\n",
        "# Lista de hiperparametros\n",
        "params_1 = {'criterion': 'gini', 'splitter': 'best', 'max_depth': 5}\n",
        "params_2 = {'criterion': 'entropy', 'splitter': 'random', 'max_depth': 7}\n",
        "params_3 = {'criterion': 'gini', 'splitter': 'random', 'max_depth': 10}"
      ],
      "metadata": {
        "id": "o0lDCEQ5uEai"
      },
      "execution_count": 63,
      "outputs": []
    },
    {
      "cell_type": "markdown",
      "source": [
        "## Estos procesos pueden demorar bastante !!"
      ],
      "metadata": {
        "id": "fBecXW0OuQaD"
      }
    },
    {
      "cell_type": "code",
      "source": [
        "# Modelo 1\n",
        "model.set_params(**params_1).fit(X_train, y_train)\n",
        "print(f'Accuracy para Modelo 1 = {round(accuracy_score(y_test, model.predict(X_test)), 5)}')\n",
        "# Modelo 2\n",
        "model.set_params(**params_2).fit(X_train, y_train)\n",
        "print(f'Accuracy para Modelo 2 = {round(accuracy_score(y_test, model.predict(X_test)), 5)}')\n",
        "# Modelo 3\n",
        "model.set_params(**params_3).fit(X_train, y_train)\n",
        "print(f'Accuracy para Modelo 3 = {round(accuracy_score(y_test, model.predict(X_test)), 5)}')"
      ],
      "metadata": {
        "colab": {
          "base_uri": "https://localhost:8080/"
        },
        "id": "Py1dnTrSuc1X",
        "outputId": "bb24c6a2-9eeb-4c8e-8d08-7594678f8c37"
      },
      "execution_count": null,
      "outputs": [
        {
          "output_type": "stream",
          "name": "stdout",
          "text": [
            "[21:37:48] WARNING: ../src/learner.cc:767: \n",
            "Parameters: { \"criterion\", \"splitter\" } are not used.\n",
            "\n",
            "Accuracy para Modelo 1 = 0.01223\n",
            "[21:41:28] WARNING: ../src/learner.cc:767: \n",
            "Parameters: { \"criterion\", \"splitter\" } are not used.\n",
            "\n",
            "Accuracy para Modelo 2 = 0.01223\n",
            "[21:46:47] WARNING: ../src/learner.cc:767: \n",
            "Parameters: { \"criterion\", \"splitter\" } are not used.\n",
            "\n"
          ]
        }
      ]
    },
    {
      "cell_type": "markdown",
      "source": [
        "# Grid Search"
      ],
      "metadata": {
        "id": "Am4IP3pPS0g6"
      }
    },
    {
      "cell_type": "code",
      "source": [
        "params_grid = {\n",
        "        'min_child_weight': [1, 5, 10],\n",
        "        'gamma': [0.5, 1, 1.5, 2, 5],\n",
        "        'subsample': [0.6, 0.8, 1.0],\n",
        "        'colsample_bytree': [0.6, 0.8, 1.0],\n",
        "        'max_depth': [5,6,7],\n",
        "        'criterion':['entropy','gini']\n",
        "        }"
      ],
      "metadata": {
        "id": "SiZ9bEULSzfa"
      },
      "execution_count": 29,
      "outputs": []
    },
    {
      "cell_type": "code",
      "source": [
        "# tiempo de ejecucuon 424 seg\n",
        "grid_cv = GridSearchCV(model, params_grid, scoring=\"accuracy\",  error_score='raise',n_jobs=-1, cv=3)\n",
        "grid_cv.fit(X_train, y_train)\n",
        "\n",
        "print(\"Mejores Parametros\", grid_cv.best_params_)\n",
        "print(\"Mejor CV score\", grid_cv.best_score_)\n",
        "print(f'Accuracy del modelo = {round(accuracy_score(y_test, grid_cv.predict(X_test)), 5)}')"
      ],
      "metadata": {
        "id": "3LdTgH_1S61L"
      },
      "execution_count": null,
      "outputs": []
    },
    {
      "cell_type": "markdown",
      "source": [
        "# Randomized Search CV"
      ],
      "metadata": {
        "id": "bwwcSGcLTEdI"
      }
    },
    {
      "cell_type": "code",
      "source": [
        "# tiempo de ejecucuon 7 seg\n",
        "grid_cv = RandomizedSearchCV(model, params_grid, scoring=\"accuracy\", error_score='raise', n_jobs=-1, cv=3)\n",
        "grid_cv.fit(X_train, y_train)\n",
        "\n",
        "print(\"Mejores parametros\", grid_cv.best_params_)\n",
        "print(\"Mejor score de CV\", grid_cv.best_score_)\n",
        "print(f'Accuracy del modelo = {round(accuracy_score(y_test, grid_cv.predict(X_test)), 5)}')"
      ],
      "metadata": {
        "id": "wWET9MTYTMV-"
      },
      "execution_count": null,
      "outputs": []
    },
    {
      "cell_type": "markdown",
      "source": [
        "# Halving Grid Search"
      ],
      "metadata": {
        "id": "9evLPwjaTY1t"
      }
    },
    {
      "cell_type": "code",
      "source": [
        "# tiempo de ejecucuon 125 seg\n",
        "halving_cv = HalvingGridSearchCV(model, params_grid, scoring=\"accuracy\", error_score='raise', factor=3)\n",
        "halving_cv.fit(X_train, y_train)\n",
        "\n",
        "print(\"Mejores parametros\", halving_cv.best_params_)\n",
        "print(\"Mejor Score CV\", halving_cv.best_score_)\n",
        "print(f'Accuracy del modelo = {round(accuracy_score(y_test, halving_cv.predict(X_test)), 5)}')"
      ],
      "metadata": {
        "id": "JJ4Ks5RbTcAh"
      },
      "execution_count": null,
      "outputs": []
    },
    {
      "cell_type": "markdown",
      "source": [
        "# Halving Randomized Search"
      ],
      "metadata": {
        "id": "peMvoqeHTamt"
      }
    },
    {
      "cell_type": "code",
      "source": [
        "# tiempo de ejecucuon 13 seg\n",
        "halving_cv = HalvingRandomSearchCV(model, params_grid, scoring=\"accuracy\", error_score='raise', factor=3)\n",
        "halving_cv.fit(X_train, y_train)\n",
        "\n",
        "print(\"Mejores parametros\", halving_cv.best_params_)\n",
        "print(\"Mejor CV score\", halving_cv.best_score_)\n",
        "print(f'Accuracy del modelo = {round(accuracy_score(y_test, halving_cv.predict(X_test)), 5)}')"
      ],
      "metadata": {
        "id": "EldZ3Kw4TZu3"
      },
      "execution_count": null,
      "outputs": []
    }
  ]
}